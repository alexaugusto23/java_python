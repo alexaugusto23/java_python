{
 "cells": [
  {
   "cell_type": "markdown",
   "id": "written-moral",
   "metadata": {},
   "source": [
    "# Introdução a Collections ou Coleções."
   ]
  },
  {
   "cell_type": "code",
   "execution_count": 1,
   "id": "quality-carbon",
   "metadata": {
    "ExecuteTime": {
     "end_time": "2021-07-15T18:36:14.037889Z",
     "start_time": "2021-07-15T18:36:14.020900Z"
    }
   },
   "outputs": [],
   "source": [
    "# https://docs.python.org/3/tutorial/datastructures.html"
   ]
  },
  {
   "cell_type": "code",
   "execution_count": 2,
   "id": "horizontal-asbestos",
   "metadata": {
    "ExecuteTime": {
     "end_time": "2021-07-15T18:36:14.113841Z",
     "start_time": "2021-07-15T18:36:14.100851Z"
    }
   },
   "outputs": [],
   "source": [
    "# Adicionando o autocomplete ao jupyter notebook\n",
    "# step 1: Open anaconda prompt and run the following commands\n",
    "#  1) pip install jupyter_contrib_nbextensions\n",
    "#  2) pip install jupyter_nbextensions_configurator\n",
    "#  3) jupyter contrib nbextension install --user \n",
    "#  4) jupyter nbextensions_configurator enable --user\n",
    "#  5) pip install autopep8\n",
    "#  6) pip install isort --user"
   ]
  },
  {
   "cell_type": "code",
   "execution_count": 3,
   "id": "impaired-devon",
   "metadata": {
    "ExecuteTime": {
     "end_time": "2021-07-15T18:36:14.205784Z",
     "start_time": "2021-07-15T18:36:14.189796Z"
    }
   },
   "outputs": [
    {
     "name": "stdout",
     "output_type": "stream",
     "text": [
      "39\n",
      "30\n",
      "27\n",
      "18\n"
     ]
    }
   ],
   "source": [
    "idade1 = 39\n",
    "idade2 = 30\n",
    "idade3 = 27\n",
    "idade4 = 18\n",
    "\n",
    "print(idade1)\n",
    "print(idade2)\n",
    "print(idade3)\n",
    "print(idade4)"
   ]
  },
  {
   "cell_type": "code",
   "execution_count": 4,
   "id": "victorian-retention",
   "metadata": {
    "ExecuteTime": {
     "end_time": "2021-07-15T18:36:14.267747Z",
     "start_time": "2021-07-15T18:36:14.255755Z"
    }
   },
   "outputs": [],
   "source": [
    "idades = [39,30,27,18]"
   ]
  },
  {
   "cell_type": "code",
   "execution_count": 5,
   "id": "worst-northwest",
   "metadata": {
    "ExecuteTime": {
     "end_time": "2021-07-15T18:36:14.328708Z",
     "start_time": "2021-07-15T18:36:14.317715Z"
    }
   },
   "outputs": [
    {
     "data": {
      "text/plain": [
       "list"
      ]
     },
     "execution_count": 5,
     "metadata": {},
     "output_type": "execute_result"
    }
   ],
   "source": [
    "type(idades)"
   ]
  },
  {
   "cell_type": "code",
   "execution_count": 6,
   "id": "stupid-century",
   "metadata": {
    "ExecuteTime": {
     "end_time": "2021-07-15T18:36:14.390669Z",
     "start_time": "2021-07-15T18:36:14.379677Z"
    }
   },
   "outputs": [
    {
     "data": {
      "text/plain": [
       "4"
      ]
     },
     "execution_count": 6,
     "metadata": {},
     "output_type": "execute_result"
    }
   ],
   "source": [
    "len(idades)"
   ]
  },
  {
   "cell_type": "code",
   "execution_count": 7,
   "id": "executive-hawaii",
   "metadata": {
    "ExecuteTime": {
     "end_time": "2021-07-15T18:36:14.453630Z",
     "start_time": "2021-07-15T18:36:14.439640Z"
    }
   },
   "outputs": [
    {
     "data": {
      "text/plain": [
       "39"
      ]
     },
     "execution_count": 7,
     "metadata": {},
     "output_type": "execute_result"
    }
   ],
   "source": [
    "idades[0]"
   ]
  },
  {
   "cell_type": "code",
   "execution_count": 8,
   "id": "acknowledged-ticket",
   "metadata": {
    "ExecuteTime": {
     "end_time": "2021-07-15T18:36:14.515592Z",
     "start_time": "2021-07-15T18:36:14.500603Z"
    }
   },
   "outputs": [
    {
     "data": {
      "text/plain": [
       "[39, 30, 27, 18]"
      ]
     },
     "execution_count": 8,
     "metadata": {},
     "output_type": "execute_result"
    }
   ],
   "source": [
    "idades"
   ]
  },
  {
   "cell_type": "code",
   "execution_count": 9,
   "id": "preliminary-outline",
   "metadata": {
    "ExecuteTime": {
     "end_time": "2021-07-15T18:36:14.579552Z",
     "start_time": "2021-07-15T18:36:14.561564Z"
    }
   },
   "outputs": [
    {
     "name": "stdout",
     "output_type": "stream",
     "text": [
      "39\n",
      "30\n",
      "27\n",
      "18\n"
     ]
    }
   ],
   "source": [
    "print(idades[0])\n",
    "print(idades[1])\n",
    "print(idades[2])\n",
    "print(idades[3])"
   ]
  },
  {
   "cell_type": "code",
   "execution_count": 10,
   "id": "several-poker",
   "metadata": {
    "ExecuteTime": {
     "end_time": "2021-07-15T18:36:14.642029Z",
     "start_time": "2021-07-15T18:36:14.624043Z"
    }
   },
   "outputs": [],
   "source": [
    "idades.append(15)"
   ]
  },
  {
   "cell_type": "code",
   "execution_count": 11,
   "id": "bearing-america",
   "metadata": {
    "ExecuteTime": {
     "end_time": "2021-07-15T18:36:14.689001Z",
     "start_time": "2021-07-15T18:36:14.682005Z"
    }
   },
   "outputs": [
    {
     "data": {
      "text/plain": [
       "[39, 30, 27, 18, 15]"
      ]
     },
     "execution_count": 11,
     "metadata": {},
     "output_type": "execute_result"
    }
   ],
   "source": [
    "idades"
   ]
  },
  {
   "cell_type": "code",
   "execution_count": 12,
   "id": "athletic-blade",
   "metadata": {
    "ExecuteTime": {
     "end_time": "2021-07-15T18:36:14.752959Z",
     "start_time": "2021-07-15T18:36:14.739968Z"
    }
   },
   "outputs": [],
   "source": [
    "idades.remove(30)"
   ]
  },
  {
   "cell_type": "code",
   "execution_count": 13,
   "id": "champion-ecology",
   "metadata": {
    "ExecuteTime": {
     "end_time": "2021-07-15T18:36:14.814921Z",
     "start_time": "2021-07-15T18:36:14.799931Z"
    }
   },
   "outputs": [
    {
     "data": {
      "text/plain": [
       "[39, 27, 18, 15]"
      ]
     },
     "execution_count": 13,
     "metadata": {},
     "output_type": "execute_result"
    }
   ],
   "source": [
    "idades"
   ]
  },
  {
   "cell_type": "code",
   "execution_count": 14,
   "id": "humanitarian-charleston",
   "metadata": {
    "ExecuteTime": {
     "end_time": "2021-07-15T18:36:14.877882Z",
     "start_time": "2021-07-15T18:36:14.859894Z"
    }
   },
   "outputs": [],
   "source": [
    "idades.append(15)"
   ]
  },
  {
   "cell_type": "code",
   "execution_count": 15,
   "id": "qualified-pickup",
   "metadata": {
    "ExecuteTime": {
     "end_time": "2021-07-15T18:36:14.924853Z",
     "start_time": "2021-07-15T18:36:14.919857Z"
    }
   },
   "outputs": [
    {
     "data": {
      "text/plain": [
       "[39, 27, 18, 15, 15]"
      ]
     },
     "execution_count": 15,
     "metadata": {},
     "output_type": "execute_result"
    }
   ],
   "source": [
    "idades"
   ]
  },
  {
   "cell_type": "code",
   "execution_count": 16,
   "id": "extra-wales",
   "metadata": {
    "ExecuteTime": {
     "end_time": "2021-07-15T18:36:14.986814Z",
     "start_time": "2021-07-15T18:36:14.977821Z"
    }
   },
   "outputs": [],
   "source": [
    "idades.remove(15)"
   ]
  },
  {
   "cell_type": "code",
   "execution_count": 17,
   "id": "professional-transcript",
   "metadata": {
    "ExecuteTime": {
     "end_time": "2021-07-15T18:36:15.050775Z",
     "start_time": "2021-07-15T18:36:15.035785Z"
    }
   },
   "outputs": [
    {
     "data": {
      "text/plain": [
       "[39, 27, 18, 15]"
      ]
     },
     "execution_count": 17,
     "metadata": {},
     "output_type": "execute_result"
    }
   ],
   "source": [
    "idades"
   ]
  },
  {
   "cell_type": "code",
   "execution_count": 18,
   "id": "static-intensity",
   "metadata": {
    "ExecuteTime": {
     "end_time": "2021-07-15T18:36:15.114251Z",
     "start_time": "2021-07-15T18:36:15.096747Z"
    }
   },
   "outputs": [],
   "source": [
    "idades.append(27)"
   ]
  },
  {
   "cell_type": "code",
   "execution_count": 19,
   "id": "saving-celtic",
   "metadata": {
    "ExecuteTime": {
     "end_time": "2021-07-15T18:36:15.177211Z",
     "start_time": "2021-07-15T18:36:15.159222Z"
    }
   },
   "outputs": [
    {
     "data": {
      "text/plain": [
       "[39, 18, 15, 27]"
      ]
     },
     "execution_count": 19,
     "metadata": {},
     "output_type": "execute_result"
    }
   ],
   "source": [
    "idades.remove(27)\n",
    "idades"
   ]
  },
  {
   "cell_type": "markdown",
   "id": "facial-future",
   "metadata": {},
   "source": [
    "# Operações com listas e list comprehension "
   ]
  },
  {
   "cell_type": "code",
   "execution_count": 20,
   "id": "pointed-pillow",
   "metadata": {
    "ExecuteTime": {
     "end_time": "2021-07-15T18:36:15.553976Z",
     "start_time": "2021-07-15T18:36:15.541985Z"
    },
    "scrolled": true
   },
   "outputs": [
    {
     "data": {
      "text/plain": [
       "[]"
      ]
     },
     "execution_count": 20,
     "metadata": {},
     "output_type": "execute_result"
    }
   ],
   "source": [
    "idades.clear()\n",
    "idades"
   ]
  },
  {
   "cell_type": "code",
   "execution_count": 21,
   "id": "suspected-mixture",
   "metadata": {
    "ExecuteTime": {
     "end_time": "2021-07-15T18:36:15.615937Z",
     "start_time": "2021-07-15T18:36:15.601946Z"
    }
   },
   "outputs": [
    {
     "data": {
      "text/plain": [
       "False"
      ]
     },
     "execution_count": 21,
     "metadata": {},
     "output_type": "execute_result"
    }
   ],
   "source": [
    "28 in idades"
   ]
  },
  {
   "cell_type": "code",
   "execution_count": 22,
   "id": "settled-pacific",
   "metadata": {
    "ExecuteTime": {
     "end_time": "2021-07-15T18:36:15.679897Z",
     "start_time": "2021-07-15T18:36:15.661910Z"
    }
   },
   "outputs": [
    {
     "data": {
      "text/plain": [
       "False"
      ]
     },
     "execution_count": 22,
     "metadata": {},
     "output_type": "execute_result"
    }
   ],
   "source": [
    "15 in idades"
   ]
  },
  {
   "cell_type": "code",
   "execution_count": 23,
   "id": "rapid-folder",
   "metadata": {
    "ExecuteTime": {
     "end_time": "2021-07-15T18:36:15.727867Z",
     "start_time": "2021-07-15T18:36:15.721873Z"
    }
   },
   "outputs": [],
   "source": [
    "idades = [39,28,27,18]"
   ]
  },
  {
   "cell_type": "code",
   "execution_count": 24,
   "id": "sunset-christopher",
   "metadata": {
    "ExecuteTime": {
     "end_time": "2021-07-15T18:36:15.788831Z",
     "start_time": "2021-07-15T18:36:15.781836Z"
    }
   },
   "outputs": [
    {
     "data": {
      "text/plain": [
       "[39, 27, 18]"
      ]
     },
     "execution_count": 24,
     "metadata": {},
     "output_type": "execute_result"
    }
   ],
   "source": [
    "if 28 in idades:\n",
    "    idades.remove(28)\n",
    "idades"
   ]
  },
  {
   "cell_type": "code",
   "execution_count": 25,
   "id": "regular-wallace",
   "metadata": {
    "ExecuteTime": {
     "end_time": "2021-07-15T18:36:15.850790Z",
     "start_time": "2021-07-15T18:36:15.840798Z"
    }
   },
   "outputs": [
    {
     "data": {
      "text/plain": [
       "[20, 39, 27, 18]"
      ]
     },
     "execution_count": 25,
     "metadata": {},
     "output_type": "execute_result"
    }
   ],
   "source": [
    "idades.insert(0,20)\n",
    "idades"
   ]
  },
  {
   "cell_type": "code",
   "execution_count": 26,
   "id": "oriented-contents",
   "metadata": {
    "ExecuteTime": {
     "end_time": "2021-07-15T18:36:15.913754Z",
     "start_time": "2021-07-15T18:36:15.899761Z"
    },
    "scrolled": true
   },
   "outputs": [
    {
     "data": {
      "text/plain": [
       "[20, 39, 18]"
      ]
     },
     "execution_count": 26,
     "metadata": {},
     "output_type": "execute_result"
    }
   ],
   "source": [
    "idades = [20, 39, 18]\n",
    "idades"
   ]
  },
  {
   "cell_type": "code",
   "execution_count": 27,
   "id": "prostate-queens",
   "metadata": {
    "ExecuteTime": {
     "end_time": "2021-07-15T18:36:15.977715Z",
     "start_time": "2021-07-15T18:36:15.959726Z"
    }
   },
   "outputs": [
    {
     "data": {
      "text/plain": [
       "[20, 39, 18, [27, 19]]"
      ]
     },
     "execution_count": 27,
     "metadata": {},
     "output_type": "execute_result"
    }
   ],
   "source": [
    "idades.append([27,19])\n",
    "idades"
   ]
  },
  {
   "cell_type": "code",
   "execution_count": 28,
   "id": "caring-accuracy",
   "metadata": {
    "ExecuteTime": {
     "end_time": "2021-07-15T18:36:16.041675Z",
     "start_time": "2021-07-15T18:36:16.025684Z"
    }
   },
   "outputs": [
    {
     "name": "stdout",
     "output_type": "stream",
     "text": [
      "Recebi o elemento 20\n",
      "Recebi o elemento 39\n",
      "Recebi o elemento 18\n",
      "Recebi o elemento [27, 19]\n"
     ]
    }
   ],
   "source": [
    "for elemento in idades:\n",
    "    print(\"Recebi o elemento\", elemento) \n"
   ]
  },
  {
   "cell_type": "code",
   "execution_count": 29,
   "id": "present-blocking",
   "metadata": {
    "ExecuteTime": {
     "end_time": "2021-07-15T18:36:16.104634Z",
     "start_time": "2021-07-15T18:36:16.086645Z"
    }
   },
   "outputs": [
    {
     "data": {
      "text/plain": [
       "[20, 39, 18, 27, 19]"
      ]
     },
     "execution_count": 29,
     "metadata": {},
     "output_type": "execute_result"
    }
   ],
   "source": [
    "idades = [20, 39, 18]\n",
    "idades.extend([27,19])\n",
    "idades"
   ]
  },
  {
   "cell_type": "code",
   "execution_count": 30,
   "id": "sonic-given",
   "metadata": {
    "ExecuteTime": {
     "end_time": "2021-07-15T18:36:16.168103Z",
     "start_time": "2021-07-15T18:36:16.150115Z"
    }
   },
   "outputs": [
    {
     "name": "stdout",
     "output_type": "stream",
     "text": [
      "[20, 15, 30, 39, 30, 18, 30, 31, 45]\n"
     ]
    },
    {
     "data": {
      "text/plain": [
       "[20, 15, 39, 18, 31, 45]"
      ]
     },
     "execution_count": 30,
     "metadata": {},
     "output_type": "execute_result"
    }
   ],
   "source": [
    "idades = [20, 15, 30, 39, 30, 18, 30 , 31, 45]\n",
    "print(idades)\n",
    "while 30 in idades:\n",
    "    idades.remove(30)\n",
    "idades"
   ]
  },
  {
   "cell_type": "code",
   "execution_count": 31,
   "id": "veterinary-excellence",
   "metadata": {
    "ExecuteTime": {
     "end_time": "2021-07-15T18:36:16.231064Z",
     "start_time": "2021-07-15T18:36:16.213077Z"
    }
   },
   "outputs": [
    {
     "name": "stdout",
     "output_type": "stream",
     "text": [
      "21\n",
      "40\n",
      "19\n",
      "28\n",
      "20\n"
     ]
    }
   ],
   "source": [
    "idades = [20, 39, 18, 27, 19]\n",
    "for idade in idades:\n",
    "    print(idade +1)"
   ]
  },
  {
   "cell_type": "code",
   "execution_count": 32,
   "id": "processed-people",
   "metadata": {
    "ExecuteTime": {
     "end_time": "2021-07-15T18:36:16.292028Z",
     "start_time": "2021-07-15T18:36:16.276036Z"
    }
   },
   "outputs": [
    {
     "data": {
      "text/plain": [
       "[21, 40, 19, 28, 20]"
      ]
     },
     "execution_count": 32,
     "metadata": {},
     "output_type": "execute_result"
    }
   ],
   "source": [
    "idades = [20, 39, 18, 27, 19]\n",
    "idade_no_ano_que_vem = []\n",
    "for idade in idades:\n",
    "    idade_no_ano_que_vem.append(idade +1)\n",
    "idade_no_ano_que_vem"
   ]
  },
  {
   "cell_type": "code",
   "execution_count": 33,
   "id": "indonesian-skiing",
   "metadata": {
    "ExecuteTime": {
     "end_time": "2021-07-15T18:36:16.353989Z",
     "start_time": "2021-07-15T18:36:16.337998Z"
    }
   },
   "outputs": [
    {
     "data": {
      "text/plain": [
       "[21, 40, 19, 28, 20]"
      ]
     },
     "execution_count": 33,
     "metadata": {},
     "output_type": "execute_result"
    }
   ],
   "source": [
    "idade_no_ano_que_vem2 = [(idade + 1) for idade in idades]\n",
    "idade_no_ano_que_vem2"
   ]
  },
  {
   "cell_type": "code",
   "execution_count": 34,
   "id": "forced-freedom",
   "metadata": {
    "ExecuteTime": {
     "end_time": "2021-07-15T18:36:16.414949Z",
     "start_time": "2021-07-15T18:36:16.400962Z"
    }
   },
   "outputs": [
    {
     "data": {
      "text/plain": [
       "[39, 27]"
      ]
     },
     "execution_count": 34,
     "metadata": {},
     "output_type": "execute_result"
    }
   ],
   "source": [
    "# O parênteses é opcional na variável (idade) \n",
    "[ idade for idade in idades if idade > 21 ]"
   ]
  },
  {
   "cell_type": "code",
   "execution_count": 35,
   "id": "agreed-occurrence",
   "metadata": {
    "ExecuteTime": {
     "end_time": "2021-07-15T18:36:16.475912Z",
     "start_time": "2021-07-15T18:36:16.464919Z"
    }
   },
   "outputs": [
    {
     "data": {
      "text/plain": [
       "[40, 28]"
      ]
     },
     "execution_count": 35,
     "metadata": {},
     "output_type": "execute_result"
    }
   ],
   "source": [
    "def proximo_ano(idade):\n",
    "    return idade + 1\n",
    "[ proximo_ano(idade) for idade in idades if idade > 21 ]"
   ]
  },
  {
   "cell_type": "markdown",
   "id": "mounted-balloon",
   "metadata": {},
   "source": [
    "# Problemas com Mutabilidade na Lista "
   ]
  },
  {
   "cell_type": "code",
   "execution_count": 36,
   "id": "embedded-practitioner",
   "metadata": {
    "ExecuteTime": {
     "end_time": "2021-07-15T18:36:16.879218Z",
     "start_time": "2021-07-15T18:36:16.874225Z"
    }
   },
   "outputs": [],
   "source": [
    "def faz_processamento_de_visualizacao(lista):\n",
    "    print(len(lista))"
   ]
  },
  {
   "cell_type": "code",
   "execution_count": 37,
   "id": "sweet-venezuela",
   "metadata": {
    "ExecuteTime": {
     "end_time": "2021-07-15T18:36:16.942180Z",
     "start_time": "2021-07-15T18:36:16.935187Z"
    }
   },
   "outputs": [
    {
     "name": "stdout",
     "output_type": "stream",
     "text": [
      "5\n"
     ]
    },
    {
     "data": {
      "text/plain": [
       "[16, 21, 29, 56, 43]"
      ]
     },
     "execution_count": 37,
     "metadata": {},
     "output_type": "execute_result"
    }
   ],
   "source": [
    "idades = [16, 21, 29, 56, 43]\n",
    "faz_processamento_de_visualizacao(idades)\n",
    "idades\n"
   ]
  },
  {
   "cell_type": "code",
   "execution_count": 38,
   "id": "protective-garbage",
   "metadata": {
    "ExecuteTime": {
     "end_time": "2021-07-15T18:36:17.005141Z",
     "start_time": "2021-07-15T18:36:16.996149Z"
    },
    "scrolled": false
   },
   "outputs": [
    {
     "name": "stdout",
     "output_type": "stream",
     "text": [
      "0\n",
      "[]\n",
      "1\n",
      "[13]\n",
      "2\n",
      "[13, 13]\n",
      "3\n",
      "[13, 13, 13]\n",
      "4\n",
      "[13, 13, 13, 13]\n"
     ]
    }
   ],
   "source": [
    "def faz_processamento_de_visualizacao(lista = []):\n",
    "    print(len(lista))\n",
    "    print(lista)\n",
    "    lista.append(13)\n",
    "faz_processamento_de_visualizacao()\n",
    "faz_processamento_de_visualizacao()\n",
    "faz_processamento_de_visualizacao()\n",
    "faz_processamento_de_visualizacao()\n",
    "faz_processamento_de_visualizacao()"
   ]
  },
  {
   "cell_type": "code",
   "execution_count": 39,
   "id": "sporting-focus",
   "metadata": {
    "ExecuteTime": {
     "end_time": "2021-07-15T18:36:17.069108Z",
     "start_time": "2021-07-15T18:36:17.058108Z"
    }
   },
   "outputs": [
    {
     "name": "stdout",
     "output_type": "stream",
     "text": [
      "0\n",
      "[]\n",
      "0\n",
      "[]\n",
      "0\n",
      "[]\n",
      "0\n",
      "[]\n",
      "0\n",
      "[]\n"
     ]
    }
   ],
   "source": [
    "def faz_processamento_de_visualizacao(lista = None):\n",
    "    if lista == None: lista = list()\n",
    "    print(len(lista))\n",
    "    print(lista)\n",
    "    lista.append(13)\n",
    "faz_processamento_de_visualizacao()\n",
    "faz_processamento_de_visualizacao()\n",
    "faz_processamento_de_visualizacao()\n",
    "faz_processamento_de_visualizacao()\n",
    "faz_processamento_de_visualizacao()"
   ]
  },
  {
   "cell_type": "markdown",
   "id": "olive-central",
   "metadata": {},
   "source": [
    "# Objetos próprios"
   ]
  },
  {
   "cell_type": "code",
   "execution_count": 40,
   "id": "sufficient-percentage",
   "metadata": {
    "ExecuteTime": {
     "end_time": "2021-07-15T18:36:17.476857Z",
     "start_time": "2021-07-15T18:36:17.461867Z"
    }
   },
   "outputs": [],
   "source": [
    "class ContaCorrente:\n",
    "    \n",
    "    def __init__(self, codigo):\n",
    "        self.codigo = codigo\n",
    "        self.saldo = 0\n",
    "    \n",
    "    def deposita(self, valor):\n",
    "        self.saldo += valor\n",
    "    \n",
    "    def __str__(self):\n",
    "        return \"(>>codigo {} saldo {} <<)\".format(self.codigo, self.saldo)"
   ]
  },
  {
   "cell_type": "code",
   "execution_count": 41,
   "id": "adequate-press",
   "metadata": {
    "ExecuteTime": {
     "end_time": "2021-07-15T18:36:17.538818Z",
     "start_time": "2021-07-15T18:36:17.525826Z"
    }
   },
   "outputs": [
    {
     "name": "stdout",
     "output_type": "stream",
     "text": [
      "(>>codigo 15 saldo 0 <<)\n"
     ]
    }
   ],
   "source": [
    "conta_alex = ContaCorrente(15)\n",
    "print(conta_alex)"
   ]
  },
  {
   "cell_type": "code",
   "execution_count": 42,
   "id": "stone-thanks",
   "metadata": {
    "ExecuteTime": {
     "end_time": "2021-07-15T18:36:17.601779Z",
     "start_time": "2021-07-15T18:36:17.583792Z"
    }
   },
   "outputs": [],
   "source": [
    "conta_alex.deposita(500)"
   ]
  },
  {
   "cell_type": "code",
   "execution_count": 43,
   "id": "eleven-stevens",
   "metadata": {
    "ExecuteTime": {
     "end_time": "2021-07-15T18:36:17.678732Z",
     "start_time": "2021-07-15T18:36:17.662742Z"
    }
   },
   "outputs": [
    {
     "name": "stdout",
     "output_type": "stream",
     "text": [
      "(>>codigo 15 saldo 500 <<)\n"
     ]
    }
   ],
   "source": [
    "print(conta_alex)"
   ]
  },
  {
   "cell_type": "code",
   "execution_count": 44,
   "id": "meaningful-rocket",
   "metadata": {
    "ExecuteTime": {
     "end_time": "2021-07-15T18:36:17.726700Z",
     "start_time": "2021-07-15T18:36:17.722705Z"
    }
   },
   "outputs": [],
   "source": [
    "conta_da_dani = ContaCorrente(47685)"
   ]
  },
  {
   "cell_type": "code",
   "execution_count": 45,
   "id": "sunrise-south",
   "metadata": {
    "ExecuteTime": {
     "end_time": "2021-07-15T18:36:17.788459Z",
     "start_time": "2021-07-15T18:36:17.783464Z"
    }
   },
   "outputs": [
    {
     "name": "stdout",
     "output_type": "stream",
     "text": [
      "(>>codigo 47685 saldo 1000 <<)\n"
     ]
    }
   ],
   "source": [
    "conta_da_dani.deposita(1000)\n",
    "print(conta_da_dani)"
   ]
  },
  {
   "cell_type": "code",
   "execution_count": 46,
   "id": "color-transmission",
   "metadata": {
    "ExecuteTime": {
     "end_time": "2021-07-15T18:36:17.850421Z",
     "start_time": "2021-07-15T18:36:17.840429Z"
    }
   },
   "outputs": [
    {
     "name": "stdout",
     "output_type": "stream",
     "text": [
      "[<__main__.ContaCorrente object at 0x000001621D8D5E48>, <__main__.ContaCorrente object at 0x000001621D8D9808>]\n"
     ]
    }
   ],
   "source": [
    "contas = [conta_alex, conta_da_dani]\n",
    "print(contas)"
   ]
  },
  {
   "cell_type": "code",
   "execution_count": 47,
   "id": "available-shopper",
   "metadata": {
    "ExecuteTime": {
     "end_time": "2021-07-15T18:36:17.912384Z",
     "start_time": "2021-07-15T18:36:17.899392Z"
    }
   },
   "outputs": [
    {
     "name": "stdout",
     "output_type": "stream",
     "text": [
      "(>>codigo 15 saldo 500 <<)\n",
      "(>>codigo 47685 saldo 1000 <<)\n"
     ]
    }
   ],
   "source": [
    "for conta in contas:\n",
    "    print(conta)"
   ]
  },
  {
   "cell_type": "code",
   "execution_count": 48,
   "id": "israeli-karen",
   "metadata": {
    "ExecuteTime": {
     "end_time": "2021-07-15T18:36:17.974344Z",
     "start_time": "2021-07-15T18:36:17.967350Z"
    }
   },
   "outputs": [],
   "source": [
    "contas = [conta_alex, conta_da_dani, conta_alex]"
   ]
  },
  {
   "cell_type": "code",
   "execution_count": 49,
   "id": "binding-pontiac",
   "metadata": {
    "ExecuteTime": {
     "end_time": "2021-07-15T18:36:18.054296Z",
     "start_time": "2021-07-15T18:36:18.037306Z"
    }
   },
   "outputs": [
    {
     "name": "stdout",
     "output_type": "stream",
     "text": [
      "(>>codigo 15 saldo 500 <<)\n"
     ]
    }
   ],
   "source": [
    "print(contas[0])"
   ]
  },
  {
   "cell_type": "code",
   "execution_count": 50,
   "id": "exempt-three",
   "metadata": {
    "ExecuteTime": {
     "end_time": "2021-07-15T18:36:18.115259Z",
     "start_time": "2021-07-15T18:36:18.097269Z"
    }
   },
   "outputs": [],
   "source": [
    "conta_alex.deposita(100)"
   ]
  },
  {
   "cell_type": "code",
   "execution_count": 51,
   "id": "alien-enemy",
   "metadata": {
    "ExecuteTime": {
     "end_time": "2021-07-15T18:36:18.162228Z",
     "start_time": "2021-07-15T18:36:18.157232Z"
    }
   },
   "outputs": [
    {
     "name": "stdout",
     "output_type": "stream",
     "text": [
      "(>>codigo 15 saldo 600 <<)\n"
     ]
    }
   ],
   "source": [
    "print(contas[0])"
   ]
  },
  {
   "cell_type": "code",
   "execution_count": 52,
   "id": "olive-manchester",
   "metadata": {
    "ExecuteTime": {
     "end_time": "2021-07-15T18:36:18.225189Z",
     "start_time": "2021-07-15T18:36:18.217194Z"
    }
   },
   "outputs": [
    {
     "name": "stdout",
     "output_type": "stream",
     "text": [
      "(>>codigo 15 saldo 600 <<)\n"
     ]
    }
   ],
   "source": [
    "print(conta_alex)"
   ]
  },
  {
   "cell_type": "code",
   "execution_count": 53,
   "id": "caring-corpus",
   "metadata": {
    "ExecuteTime": {
     "end_time": "2021-07-15T18:36:18.287151Z",
     "start_time": "2021-07-15T18:36:18.277159Z"
    }
   },
   "outputs": [],
   "source": [
    "contas[2].deposita(300)"
   ]
  },
  {
   "cell_type": "code",
   "execution_count": 54,
   "id": "english-buffer",
   "metadata": {
    "ExecuteTime": {
     "end_time": "2021-07-15T18:36:18.349112Z",
     "start_time": "2021-07-15T18:36:18.335121Z"
    }
   },
   "outputs": [
    {
     "name": "stdout",
     "output_type": "stream",
     "text": [
      "(>>codigo 15 saldo 900 <<)\n"
     ]
    }
   ],
   "source": [
    "print(conta_alex)"
   ]
  },
  {
   "cell_type": "markdown",
   "id": "separate-subscription",
   "metadata": {},
   "source": [
    "# Tuplas, Objetos e anemia"
   ]
  },
  {
   "cell_type": "code",
   "execution_count": 55,
   "id": "practical-wrapping",
   "metadata": {
    "ExecuteTime": {
     "end_time": "2021-07-15T18:36:18.771355Z",
     "start_time": "2021-07-15T18:36:18.760364Z"
    }
   },
   "outputs": [
    {
     "name": "stdout",
     "output_type": "stream",
     "text": [
      "(>>codigo 15 saldo 900 <<) (>>codigo 47685 saldo 1000 <<)\n",
      "(>>codigo 15 saldo 1000 <<) (>>codigo 47685 saldo 1100 <<)\n"
     ]
    }
   ],
   "source": [
    "def deposita_para_todas(contas):\n",
    "    for conta in contas:\n",
    "        conta.deposita(100)\n",
    "\n",
    "contas = [conta_alex, conta_da_dani]\n",
    "print(contas[0], contas[1])\n",
    "deposita_para_todas(contas)\n",
    "print(contas[0], contas[1])"
   ]
  },
  {
   "cell_type": "code",
   "execution_count": 56,
   "id": "posted-destination",
   "metadata": {
    "ExecuteTime": {
     "end_time": "2021-07-15T18:36:18.835316Z",
     "start_time": "2021-07-15T18:36:18.821325Z"
    }
   },
   "outputs": [],
   "source": [
    "contas.insert(0,76)"
   ]
  },
  {
   "cell_type": "code",
   "execution_count": 57,
   "id": "printable-gothic",
   "metadata": {
    "ExecuteTime": {
     "end_time": "2021-07-15T18:36:18.883284Z",
     "start_time": "2021-07-15T18:36:18.878288Z"
    }
   },
   "outputs": [
    {
     "name": "stdout",
     "output_type": "stream",
     "text": [
      "76 (>>codigo 15 saldo 1000 <<) (>>codigo 47685 saldo 1100 <<)\n"
     ]
    }
   ],
   "source": [
    "print(contas[0], contas[1], contas[2])"
   ]
  },
  {
   "cell_type": "code",
   "execution_count": 58,
   "id": "connected-morris",
   "metadata": {
    "ExecuteTime": {
     "end_time": "2021-07-15T18:36:18.947247Z",
     "start_time": "2021-07-15T18:36:18.936253Z"
    }
   },
   "outputs": [],
   "source": [
    "#deposita_para_todas(contas)\n",
    "#print(contas[0], contas[1], contas[2]) # Vai dar erro por que não é possivel adicionar mais um posição no objeto."
   ]
  },
  {
   "cell_type": "code",
   "execution_count": 59,
   "id": "statewide-harbor",
   "metadata": {
    "ExecuteTime": {
     "end_time": "2021-07-15T18:36:19.011208Z",
     "start_time": "2021-07-15T18:36:18.995218Z"
    }
   },
   "outputs": [],
   "source": [
    "guilherme = ('Guilherme', 37, 1981) # Tupla\n",
    "daniela = ('Daniela', 31, 1987)"
   ]
  },
  {
   "cell_type": "code",
   "execution_count": 60,
   "id": "widespread-founder",
   "metadata": {
    "ExecuteTime": {
     "end_time": "2021-07-15T18:36:19.059177Z",
     "start_time": "2021-07-15T18:36:19.053189Z"
    }
   },
   "outputs": [
    {
     "name": "stdout",
     "output_type": "stream",
     "text": [
      "('Guilherme', 37, 1981) \n",
      " ('Daniela', 31, 1987)\n"
     ]
    }
   ],
   "source": [
    "print(guilherme,'\\n',daniela)"
   ]
  },
  {
   "cell_type": "code",
   "execution_count": 61,
   "id": "german-savage",
   "metadata": {
    "ExecuteTime": {
     "end_time": "2021-07-15T18:36:19.121136Z",
     "start_time": "2021-07-15T18:36:19.112144Z"
    }
   },
   "outputs": [
    {
     "data": {
      "text/plain": [
       "(15, 1100)"
      ]
     },
     "execution_count": 61,
     "metadata": {},
     "output_type": "execute_result"
    }
   ],
   "source": [
    "conta_do_gui = (15 , 1000)\n",
    "# conta_do_gui.deposita() Variação OO\n",
    "\n",
    "def deposita(conta): # Variação Funcional (separando o comportamento dos dados)\n",
    "    novo_saldo = conta[1] + 100\n",
    "    codigo =  conta[0]\n",
    "    return (codigo, novo_saldo)\n",
    "\n",
    "\n",
    "deposita(conta_do_gui)\n"
   ]
  },
  {
   "cell_type": "code",
   "execution_count": 62,
   "id": "undefined-warner",
   "metadata": {
    "ExecuteTime": {
     "end_time": "2021-07-15T18:36:19.182099Z",
     "start_time": "2021-07-15T18:36:19.172108Z"
    }
   },
   "outputs": [
    {
     "name": "stdout",
     "output_type": "stream",
     "text": [
      "(15, 1000)\n"
     ]
    }
   ],
   "source": [
    "print(conta_do_gui)"
   ]
  },
  {
   "cell_type": "code",
   "execution_count": 63,
   "id": "biological-celebrity",
   "metadata": {
    "ExecuteTime": {
     "end_time": "2021-07-15T18:36:19.245060Z",
     "start_time": "2021-07-15T18:36:19.230071Z"
    }
   },
   "outputs": [
    {
     "name": "stdout",
     "output_type": "stream",
     "text": [
      "(15, 1100)\n"
     ]
    }
   ],
   "source": [
    "conta_do_gui = deposita(conta_do_gui)\n",
    "print(conta_do_gui)"
   ]
  },
  {
   "cell_type": "markdown",
   "id": "lined-valley",
   "metadata": {},
   "source": [
    "# Tupla de objetos e lista de tuplas"
   ]
  },
  {
   "cell_type": "code",
   "execution_count": 64,
   "id": "intellectual-specialist",
   "metadata": {
    "ExecuteTime": {
     "end_time": "2021-07-15T18:36:19.693781Z",
     "start_time": "2021-07-15T18:36:19.685788Z"
    }
   },
   "outputs": [
    {
     "data": {
      "text/plain": [
       "[('Guilherme', 37, 1981), ('Daniela', 31, 1987)]"
      ]
     },
     "execution_count": 64,
     "metadata": {},
     "output_type": "execute_result"
    }
   ],
   "source": [
    "usuarios = [guilherme, daniela]\n",
    "usuarios"
   ]
  },
  {
   "cell_type": "code",
   "execution_count": 65,
   "id": "twenty-jurisdiction",
   "metadata": {
    "ExecuteTime": {
     "end_time": "2021-07-15T18:36:19.757607Z",
     "start_time": "2021-07-15T18:36:19.745616Z"
    }
   },
   "outputs": [
    {
     "data": {
      "text/plain": [
       "[('Guilherme', 37, 1981), ('Daniela', 31, 1987), ('Paulo', 39, 1979)]"
      ]
     },
     "execution_count": 65,
     "metadata": {},
     "output_type": "execute_result"
    }
   ],
   "source": [
    "usuarios.append(('Paulo', 39, 1979))\n",
    "usuarios"
   ]
  },
  {
   "cell_type": "code",
   "execution_count": 66,
   "id": "surgical-aberdeen",
   "metadata": {
    "ExecuteTime": {
     "end_time": "2021-07-15T18:36:19.819569Z",
     "start_time": "2021-07-15T18:36:19.805578Z"
    }
   },
   "outputs": [
    {
     "name": "stdout",
     "output_type": "stream",
     "text": [
      "Guilherme\n",
      "Daniela\n",
      "Paulo\n"
     ]
    }
   ],
   "source": [
    "print(usuarios[0][0])\n",
    "print(usuarios[1][0])\n",
    "print(usuarios[2][0])"
   ]
  },
  {
   "cell_type": "code",
   "execution_count": 67,
   "id": "respiratory-conversation",
   "metadata": {
    "ExecuteTime": {
     "end_time": "2021-07-15T18:36:19.883530Z",
     "start_time": "2021-07-15T18:36:19.867542Z"
    }
   },
   "outputs": [
    {
     "data": {
      "text/plain": [
       "(<__main__.ContaCorrente at 0x1621d3025c8>,\n",
       " <__main__.ContaCorrente at 0x1621d305948>)"
      ]
     },
     "execution_count": 67,
     "metadata": {},
     "output_type": "execute_result"
    }
   ],
   "source": [
    "contas = ()\n",
    "conta_do_gui = ContaCorrente(15)\n",
    "conta_do_gui.deposita(500)\n",
    "conta_da_dani = ContaCorrente(234876)\n",
    "conta_da_dani.deposita(1000)\n",
    "\n",
    "contas = (conta_do_gui, conta_da_dani)\n",
    "contas"
   ]
  },
  {
   "cell_type": "code",
   "execution_count": 68,
   "id": "placed-confirmation",
   "metadata": {
    "ExecuteTime": {
     "end_time": "2021-07-15T18:36:19.947490Z",
     "start_time": "2021-07-15T18:36:19.928504Z"
    }
   },
   "outputs": [
    {
     "name": "stdout",
     "output_type": "stream",
     "text": [
      "(>>codigo 15 saldo 500 <<)\n",
      "(>>codigo 234876 saldo 1000 <<)\n"
     ]
    }
   ],
   "source": [
    "for conta in contas:\n",
    "    print(conta)"
   ]
  },
  {
   "cell_type": "code",
   "execution_count": 69,
   "id": "original-chase",
   "metadata": {
    "ExecuteTime": {
     "end_time": "2021-07-15T18:36:19.995462Z",
     "start_time": "2021-07-15T18:36:19.987469Z"
    }
   },
   "outputs": [],
   "source": [
    "# contas.append(423768) Não é possivel adicionar um tiem em uma tupla."
   ]
  },
  {
   "cell_type": "code",
   "execution_count": 70,
   "id": "female-justice",
   "metadata": {
    "ExecuteTime": {
     "end_time": "2021-07-15T18:36:20.058422Z",
     "start_time": "2021-07-15T18:36:20.045430Z"
    }
   },
   "outputs": [
    {
     "data": {
      "text/plain": [
       "(<__main__.ContaCorrente at 0x1621d3025c8>,\n",
       " <__main__.ContaCorrente at 0x1621d305948>)"
      ]
     },
     "execution_count": 70,
     "metadata": {},
     "output_type": "execute_result"
    }
   ],
   "source": [
    "contas"
   ]
  },
  {
   "cell_type": "code",
   "execution_count": 71,
   "id": "municipal-change",
   "metadata": {
    "ExecuteTime": {
     "end_time": "2021-07-15T18:36:20.120392Z",
     "start_time": "2021-07-15T18:36:20.104395Z"
    }
   },
   "outputs": [],
   "source": [
    "contas[0].deposita(300)"
   ]
  },
  {
   "cell_type": "code",
   "execution_count": 72,
   "id": "lesbian-snake",
   "metadata": {
    "ExecuteTime": {
     "end_time": "2021-07-15T18:36:20.167360Z",
     "start_time": "2021-07-15T18:36:20.161365Z"
    }
   },
   "outputs": [
    {
     "data": {
      "text/plain": [
       "<__main__.ContaCorrente at 0x1621d3025c8>"
      ]
     },
     "execution_count": 72,
     "metadata": {},
     "output_type": "execute_result"
    }
   ],
   "source": [
    "contas[0]"
   ]
  },
  {
   "cell_type": "code",
   "execution_count": 73,
   "id": "initial-drinking",
   "metadata": {
    "ExecuteTime": {
     "end_time": "2021-07-15T18:36:20.230323Z",
     "start_time": "2021-07-15T18:36:20.222327Z"
    }
   },
   "outputs": [
    {
     "name": "stdout",
     "output_type": "stream",
     "text": [
      "(>>codigo 15 saldo 800 <<)\n",
      "(>>codigo 234876 saldo 1000 <<)\n"
     ]
    }
   ],
   "source": [
    "for conta in contas:\n",
    "    print(conta)"
   ]
  },
  {
   "cell_type": "markdown",
   "id": "infinite-clock",
   "metadata": {},
   "source": [
    "# Herança e Polimorfismo "
   ]
  },
  {
   "cell_type": "code",
   "execution_count": 74,
   "id": "emerging-whale",
   "metadata": {
    "ExecuteTime": {
     "end_time": "2021-07-15T18:36:20.701030Z",
     "start_time": "2021-07-15T18:36:20.694034Z"
    }
   },
   "outputs": [],
   "source": [
    "from abc import ABCMeta, abstractmethod\n",
    "\n",
    "class Conta(metaclass=ABCMeta):\n",
    "\n",
    "    def __init__(self, codigo):\n",
    "        self._codigo = codigo\n",
    "        self._saldo = 0\n",
    "    \n",
    "    def deposita(self, valor):\n",
    "        self._saldo += valor\n",
    "    \n",
    "    @abstractmethod\n",
    "    def passa_o_mes(self):\n",
    "        pass\n",
    "    \n",
    "    def __str__(self):\n",
    "        return f\"[>>Código {self._codigo} Saldo {self._saldo}<<]\""
   ]
  },
  {
   "cell_type": "code",
   "execution_count": 75,
   "id": "hindu-armenia",
   "metadata": {
    "ExecuteTime": {
     "end_time": "2021-07-15T18:36:20.779981Z",
     "start_time": "2021-07-15T18:36:20.759992Z"
    }
   },
   "outputs": [],
   "source": [
    "class ContaCorrente(Conta):\n",
    "    def passa_o_mes(self):\n",
    "        self._saldo -= 2\n",
    "\n",
    "class ContaPoupanca(Conta):\n",
    "    def passa_o_mes(self):\n",
    "        self._saldo *= 1.01\n",
    "        self._saldo -= 3\n",
    "        \n",
    "class ContaInvestimento(Conta):\n",
    "    pass\n"
   ]
  },
  {
   "cell_type": "code",
   "execution_count": 76,
   "id": "running-straight",
   "metadata": {
    "ExecuteTime": {
     "end_time": "2021-07-15T18:36:20.841943Z",
     "start_time": "2021-07-15T18:36:20.824955Z"
    }
   },
   "outputs": [],
   "source": [
    "# print(Conta(88)) # Erro: Can't instantiate abstract class Conta with abstract methods passa_o_mes"
   ]
  },
  {
   "cell_type": "code",
   "execution_count": 77,
   "id": "objective-allergy",
   "metadata": {
    "ExecuteTime": {
     "end_time": "2021-07-15T18:36:20.904903Z",
     "start_time": "2021-07-15T18:36:20.886916Z"
    }
   },
   "outputs": [
    {
     "name": "stdout",
     "output_type": "stream",
     "text": [
      "[>>Código 16 Saldo 998<<]\n"
     ]
    }
   ],
   "source": [
    "conta16 = ContaCorrente(16)\n",
    "conta16.deposita(1000)\n",
    "conta16.passa_o_mes()\n",
    "print(conta16)"
   ]
  },
  {
   "cell_type": "code",
   "execution_count": 78,
   "id": "vanilla-italian",
   "metadata": {
    "ExecuteTime": {
     "end_time": "2021-07-15T18:36:20.966863Z",
     "start_time": "2021-07-15T18:36:20.947877Z"
    }
   },
   "outputs": [
    {
     "name": "stdout",
     "output_type": "stream",
     "text": [
      "[>>Código 17 Saldo 1007.0<<]\n"
     ]
    }
   ],
   "source": [
    "conta17 = ContaPoupanca(17)\n",
    "conta17.deposita(1000)\n",
    "conta17.passa_o_mes()\n",
    "print(conta17)"
   ]
  },
  {
   "cell_type": "code",
   "execution_count": 79,
   "id": "domestic-briefing",
   "metadata": {
    "ExecuteTime": {
     "end_time": "2021-07-15T18:36:21.014835Z",
     "start_time": "2021-07-15T18:36:21.007839Z"
    }
   },
   "outputs": [],
   "source": [
    "conta16 = ContaCorrente(16)\n",
    "conta16.deposita(1000)\n",
    "conta17 = ContaPoupanca(17)\n",
    "conta17.deposita(1000)\n",
    "\n",
    "contas = [conta16, conta17]"
   ]
  },
  {
   "cell_type": "code",
   "execution_count": 80,
   "id": "artistic-roulette",
   "metadata": {
    "ExecuteTime": {
     "end_time": "2021-07-15T18:36:21.078795Z",
     "start_time": "2021-07-15T18:36:21.065804Z"
    }
   },
   "outputs": [
    {
     "data": {
      "text/plain": [
       "[<__main__.ContaCorrente at 0x1621d8a8408>,\n",
       " <__main__.ContaPoupanca at 0x1621d902d48>]"
      ]
     },
     "execution_count": 80,
     "metadata": {},
     "output_type": "execute_result"
    }
   ],
   "source": [
    "contas"
   ]
  },
  {
   "cell_type": "code",
   "execution_count": 81,
   "id": "loose-candidate",
   "metadata": {
    "ExecuteTime": {
     "end_time": "2021-07-15T18:36:21.142268Z",
     "start_time": "2021-07-15T18:36:21.126278Z"
    }
   },
   "outputs": [
    {
     "name": "stdout",
     "output_type": "stream",
     "text": [
      "[>>Código 16 Saldo 998<<]\n",
      "[>>Código 17 Saldo 1007.0<<]\n"
     ]
    }
   ],
   "source": [
    "\n",
    "for conta in contas:\n",
    "    conta.passa_o_mes() # duck typing\n",
    "    print(conta)"
   ]
  },
  {
   "cell_type": "markdown",
   "id": "fancy-statistics",
   "metadata": {},
   "source": [
    "# Array e Numpy"
   ]
  },
  {
   "cell_type": "code",
   "execution_count": 82,
   "id": "pediatric-chemistry",
   "metadata": {
    "ExecuteTime": {
     "end_time": "2021-07-15T18:36:21.613973Z",
     "start_time": "2021-07-15T18:36:21.605979Z"
    }
   },
   "outputs": [],
   "source": [
    "import array as arr"
   ]
  },
  {
   "cell_type": "code",
   "execution_count": 83,
   "id": "atlantic-referral",
   "metadata": {
    "ExecuteTime": {
     "end_time": "2021-07-15T18:36:21.675934Z",
     "start_time": "2021-07-15T18:36:21.663942Z"
    }
   },
   "outputs": [],
   "source": [
    "# https://docs.python.org/3/library/array.html"
   ]
  },
  {
   "cell_type": "code",
   "execution_count": 84,
   "id": "peaceful-sunset",
   "metadata": {
    "ExecuteTime": {
     "end_time": "2021-07-15T18:36:21.739895Z",
     "start_time": "2021-07-15T18:36:21.722906Z"
    }
   },
   "outputs": [
    {
     "data": {
      "text/plain": [
       "array('d', [1.0, 3.5])"
      ]
     },
     "execution_count": 84,
     "metadata": {},
     "output_type": "execute_result"
    }
   ],
   "source": [
    "arr.array('d', [1,3.5]) "
   ]
  },
  {
   "cell_type": "code",
   "execution_count": 85,
   "id": "steady-newark",
   "metadata": {
    "ExecuteTime": {
     "end_time": "2021-07-15T18:36:21.960756Z",
     "start_time": "2021-07-15T18:36:21.781869Z"
    }
   },
   "outputs": [],
   "source": [
    "import numpy as np"
   ]
  },
  {
   "cell_type": "code",
   "execution_count": 86,
   "id": "embedded-marketing",
   "metadata": {
    "ExecuteTime": {
     "end_time": "2021-07-15T18:36:21.976746Z",
     "start_time": "2021-07-15T18:36:21.962755Z"
    }
   },
   "outputs": [
    {
     "data": {
      "text/plain": [
       "array([1. , 3.5])"
      ]
     },
     "execution_count": 86,
     "metadata": {},
     "output_type": "execute_result"
    }
   ],
   "source": [
    "np.array([1, 3.5])"
   ]
  },
  {
   "cell_type": "code",
   "execution_count": 87,
   "id": "serial-ottawa",
   "metadata": {
    "ExecuteTime": {
     "end_time": "2021-07-15T18:36:21.991738Z",
     "start_time": "2021-07-15T18:36:21.978745Z"
    }
   },
   "outputs": [
    {
     "data": {
      "text/plain": [
       "array([1. , 3.5])"
      ]
     },
     "execution_count": 87,
     "metadata": {},
     "output_type": "execute_result"
    }
   ],
   "source": [
    "numeros = np.array([1, 3.5])\n",
    "numeros"
   ]
  },
  {
   "cell_type": "code",
   "execution_count": 88,
   "id": "right-miami",
   "metadata": {
    "ExecuteTime": {
     "end_time": "2021-07-15T18:36:22.022719Z",
     "start_time": "2021-07-15T18:36:22.012724Z"
    }
   },
   "outputs": [
    {
     "data": {
      "text/plain": [
       "array([4. , 6.5])"
      ]
     },
     "execution_count": 88,
     "metadata": {},
     "output_type": "execute_result"
    }
   ],
   "source": [
    "numeros + 3"
   ]
  },
  {
   "cell_type": "markdown",
   "id": "connected-allowance",
   "metadata": {},
   "source": [
    "# Método Abstrato"
   ]
  },
  {
   "cell_type": "code",
   "execution_count": 89,
   "id": "dimensional-hudson",
   "metadata": {
    "ExecuteTime": {
     "end_time": "2021-07-15T18:36:22.509433Z",
     "start_time": "2021-07-15T18:36:22.504440Z"
    }
   },
   "outputs": [],
   "source": [
    "# ContaInvestimento(764) # Can't instantiate abstract class ContaInvestimento with abstract methods passa_o_mes"
   ]
  },
  {
   "cell_type": "markdown",
   "id": "facial-clinic",
   "metadata": {},
   "source": [
    "# Igualdade e o __eq__"
   ]
  },
  {
   "cell_type": "code",
   "execution_count": 90,
   "id": "decimal-generation",
   "metadata": {
    "ExecuteTime": {
     "end_time": "2021-07-15T18:36:23.011124Z",
     "start_time": "2021-07-15T18:36:22.992136Z"
    }
   },
   "outputs": [],
   "source": [
    "class ContaSalario:\n",
    "    def __init__(self, codigo):\n",
    "        self._codigo = codigo\n",
    "        self._saldo = 0\n",
    "    \n",
    "    def deposita(self, valor):\n",
    "        self._saldo += valor\n",
    "    \n",
    "    def __str__(self):\n",
    "        return f\"[>> Código {self._codigo } Saldo {self._saldo} <<] \"\n",
    "    \n",
    "    def __eq__(self, outro):\n",
    "        return self._codigo == outro._codigo and self._saldo == outro._saldo   "
   ]
  },
  {
   "cell_type": "code",
   "execution_count": 91,
   "id": "based-cartridge",
   "metadata": {
    "ExecuteTime": {
     "end_time": "2021-07-15T18:36:23.074083Z",
     "start_time": "2021-07-15T18:36:23.056098Z"
    }
   },
   "outputs": [
    {
     "name": "stdout",
     "output_type": "stream",
     "text": [
      "[>> Código 37 Saldo 0 <<] \n"
     ]
    }
   ],
   "source": [
    "conta1 = ContaSalario(37)\n",
    "print(conta1)"
   ]
  },
  {
   "cell_type": "code",
   "execution_count": 92,
   "id": "separated-hungarian",
   "metadata": {
    "ExecuteTime": {
     "end_time": "2021-07-15T18:36:23.121055Z",
     "start_time": "2021-07-15T18:36:23.115058Z"
    }
   },
   "outputs": [
    {
     "name": "stdout",
     "output_type": "stream",
     "text": [
      "[>> Código 37 Saldo 0 <<] \n"
     ]
    }
   ],
   "source": [
    "conta2 = ContaSalario(37)\n",
    "print(conta2)"
   ]
  },
  {
   "cell_type": "code",
   "execution_count": 93,
   "id": "fatty-resistance",
   "metadata": {
    "ExecuteTime": {
     "end_time": "2021-07-15T18:36:23.185014Z",
     "start_time": "2021-07-15T18:36:23.173022Z"
    }
   },
   "outputs": [
    {
     "data": {
      "text/plain": [
       "True"
      ]
     },
     "execution_count": 93,
     "metadata": {},
     "output_type": "execute_result"
    }
   ],
   "source": [
    "contas = [conta1]\n",
    "conta1 in contas"
   ]
  },
  {
   "cell_type": "code",
   "execution_count": 94,
   "id": "hollow-mount",
   "metadata": {
    "ExecuteTime": {
     "end_time": "2021-07-15T18:36:23.247975Z",
     "start_time": "2021-07-15T18:36:23.233985Z"
    }
   },
   "outputs": [
    {
     "data": {
      "text/plain": [
       "True"
      ]
     },
     "execution_count": 94,
     "metadata": {},
     "output_type": "execute_result"
    }
   ],
   "source": [
    "conta2 in contas"
   ]
  },
  {
   "cell_type": "code",
   "execution_count": 95,
   "id": "single-washington",
   "metadata": {
    "ExecuteTime": {
     "end_time": "2021-07-15T18:36:23.309937Z",
     "start_time": "2021-07-15T18:36:23.296945Z"
    }
   },
   "outputs": [
    {
     "data": {
      "text/plain": [
       "True"
      ]
     },
     "execution_count": 95,
     "metadata": {},
     "output_type": "execute_result"
    }
   ],
   "source": [
    "conta1 = ContaSalario(37)\n",
    "conta2 = ContaSalario(37)\n",
    "conta1 == conta2"
   ]
  },
  {
   "cell_type": "code",
   "execution_count": 96,
   "id": "sustainable-making",
   "metadata": {
    "ExecuteTime": {
     "end_time": "2021-07-15T18:36:23.372897Z",
     "start_time": "2021-07-15T18:36:23.356908Z"
    }
   },
   "outputs": [
    {
     "data": {
      "text/plain": [
       "False"
      ]
     },
     "execution_count": 96,
     "metadata": {},
     "output_type": "execute_result"
    }
   ],
   "source": [
    "conta1 != conta2"
   ]
  },
  {
   "cell_type": "code",
   "execution_count": 97,
   "id": "published-upset",
   "metadata": {
    "ExecuteTime": {
     "end_time": "2021-07-15T18:36:23.434859Z",
     "start_time": "2021-07-15T18:36:23.417872Z"
    }
   },
   "outputs": [],
   "source": [
    "conta1.deposita(10)"
   ]
  },
  {
   "cell_type": "code",
   "execution_count": 98,
   "id": "departmental-vitamin",
   "metadata": {
    "ExecuteTime": {
     "end_time": "2021-07-15T18:36:23.482830Z",
     "start_time": "2021-07-15T18:36:23.475834Z"
    }
   },
   "outputs": [
    {
     "data": {
      "text/plain": [
       "False"
      ]
     },
     "execution_count": 98,
     "metadata": {},
     "output_type": "execute_result"
    }
   ],
   "source": [
    "conta1 == conta2"
   ]
  },
  {
   "cell_type": "code",
   "execution_count": 99,
   "id": "arbitrary-turner",
   "metadata": {
    "ExecuteTime": {
     "end_time": "2021-07-15T18:36:23.560780Z",
     "start_time": "2021-07-15T18:36:23.547789Z"
    }
   },
   "outputs": [
    {
     "data": {
      "text/plain": [
       "True"
      ]
     },
     "execution_count": 99,
     "metadata": {},
     "output_type": "execute_result"
    }
   ],
   "source": [
    "conta1 != conta2"
   ]
  },
  {
   "cell_type": "code",
   "execution_count": 100,
   "id": "assigned-samuel",
   "metadata": {
    "ExecuteTime": {
     "end_time": "2021-07-15T18:36:23.640731Z",
     "start_time": "2021-07-15T18:36:23.631739Z"
    }
   },
   "outputs": [],
   "source": [
    "class ContaSalario:\n",
    "    def __init__(self, codigo):\n",
    "        self._codigo = codigo\n",
    "        self._saldo = 0\n",
    "    \n",
    "    def deposita(self, valor):\n",
    "        self._saldo += valor\n",
    "    \n",
    "    def __str__(self):\n",
    "        return f\"[>> Código {self._codigo } Saldo {self._saldo} <<] \"\n",
    "    \n",
    "    def __eq__(self, outro):\n",
    "        if type(outro) != ContaSalario:\n",
    "            return False\n",
    "        return self._codigo == outro._codigo and self._saldo == outro._saldo   "
   ]
  },
  {
   "cell_type": "code",
   "execution_count": 101,
   "id": "hawaiian-civilian",
   "metadata": {
    "ExecuteTime": {
     "end_time": "2021-07-15T18:36:23.717683Z",
     "start_time": "2021-07-15T18:36:23.705692Z"
    }
   },
   "outputs": [
    {
     "data": {
      "text/plain": [
       "False"
      ]
     },
     "execution_count": 101,
     "metadata": {},
     "output_type": "execute_result"
    }
   ],
   "source": [
    "conta1 = ContaSalario(37)\n",
    "conta2 = ContaCorrente(37)\n",
    "conta1 == conta2"
   ]
  },
  {
   "cell_type": "code",
   "execution_count": 102,
   "id": "worse-shanghai",
   "metadata": {
    "ExecuteTime": {
     "end_time": "2021-07-15T18:36:23.794635Z",
     "start_time": "2021-07-15T18:36:23.774649Z"
    }
   },
   "outputs": [],
   "source": [
    "class ContaSalario:\n",
    "    def __init__(self, codigo):\n",
    "        self._codigo = codigo\n",
    "        self._saldo = 0\n",
    "    \n",
    "    def deposita(self, valor):\n",
    "        self._saldo += valor\n",
    "    \n",
    "    def __str__(self):\n",
    "        return f\"[>> Código {self._codigo } Saldo {self._saldo} <<] \"\n",
    "    \n",
    "    def __eq__(self, outro):\n",
    "        if type(outro) != ContaSalario:\n",
    "            return False\n",
    "        return self._codigo == outro._codigo and self._saldo == outro._saldo \n",
    "    \n",
    "class ContaMultiplaSalario(ContaSalario):\n",
    "    pass"
   ]
  },
  {
   "cell_type": "code",
   "execution_count": 103,
   "id": "searching-active",
   "metadata": {
    "ExecuteTime": {
     "end_time": "2021-07-15T18:36:23.857597Z",
     "start_time": "2021-07-15T18:36:23.839611Z"
    }
   },
   "outputs": [
    {
     "data": {
      "text/plain": [
       "True"
      ]
     },
     "execution_count": 103,
     "metadata": {},
     "output_type": "execute_result"
    }
   ],
   "source": [
    "isinstance(ContaCorrente(34), ContaCorrente)\n"
   ]
  },
  {
   "cell_type": "code",
   "execution_count": 104,
   "id": "specific-adrian",
   "metadata": {
    "ExecuteTime": {
     "end_time": "2021-07-15T18:36:23.903567Z",
     "start_time": "2021-07-15T18:36:23.898574Z"
    }
   },
   "outputs": [
    {
     "data": {
      "text/plain": [
       "True"
      ]
     },
     "execution_count": 104,
     "metadata": {},
     "output_type": "execute_result"
    }
   ],
   "source": [
    "isinstance(ContaCorrente(34), Conta)"
   ]
  },
  {
   "cell_type": "markdown",
   "id": "passive-cedar",
   "metadata": {},
   "source": [
    "# Builtins como enumerated, range e desempacotamento automatico de tuplas"
   ]
  },
  {
   "cell_type": "code",
   "execution_count": 105,
   "id": "dress-eclipse",
   "metadata": {
    "ExecuteTime": {
     "end_time": "2021-07-15T18:36:24.410254Z",
     "start_time": "2021-07-15T18:36:24.405257Z"
    }
   },
   "outputs": [],
   "source": [
    "idades = [15, 87, 65, 56, 32 , 49, 37]"
   ]
  },
  {
   "cell_type": "code",
   "execution_count": 106,
   "id": "external-terry",
   "metadata": {
    "ExecuteTime": {
     "end_time": "2021-07-15T18:36:24.473213Z",
     "start_time": "2021-07-15T18:36:24.464220Z"
    }
   },
   "outputs": [
    {
     "name": "stdout",
     "output_type": "stream",
     "text": [
      "15\n",
      "87\n",
      "65\n",
      "56\n",
      "32\n",
      "49\n",
      "37\n"
     ]
    }
   ],
   "source": [
    "for idade in idades:\n",
    "    print(idade)"
   ]
  },
  {
   "cell_type": "code",
   "execution_count": 107,
   "id": "destroyed-porter",
   "metadata": {
    "ExecuteTime": {
     "end_time": "2021-07-15T18:36:24.536173Z",
     "start_time": "2021-07-15T18:36:24.524184Z"
    }
   },
   "outputs": [
    {
     "data": {
      "text/plain": [
       "[15, 87, 32, 65, 56, 32, 49, 37]"
      ]
     },
     "execution_count": 107,
     "metadata": {},
     "output_type": "execute_result"
    }
   ],
   "source": [
    "idades = [15, 87, 32, 65, 56, 32 , 49, 37]\n",
    "idades"
   ]
  },
  {
   "cell_type": "code",
   "execution_count": 108,
   "id": "rocky-ability",
   "metadata": {
    "ExecuteTime": {
     "end_time": "2021-07-15T18:36:24.600136Z",
     "start_time": "2021-07-15T18:36:24.582149Z"
    }
   },
   "outputs": [
    {
     "data": {
      "text/plain": [
       "8"
      ]
     },
     "execution_count": 108,
     "metadata": {},
     "output_type": "execute_result"
    }
   ],
   "source": [
    "len(idades)"
   ]
  },
  {
   "cell_type": "code",
   "execution_count": 109,
   "id": "forced-corpus",
   "metadata": {
    "ExecuteTime": {
     "end_time": "2021-07-15T18:36:24.648107Z",
     "start_time": "2021-07-15T18:36:24.641119Z"
    }
   },
   "outputs": [
    {
     "data": {
      "text/plain": [
       "range(0, 8)"
      ]
     },
     "execution_count": 109,
     "metadata": {},
     "output_type": "execute_result"
    }
   ],
   "source": [
    "range(len(idades))"
   ]
  },
  {
   "cell_type": "code",
   "execution_count": 110,
   "id": "fifteen-march",
   "metadata": {
    "ExecuteTime": {
     "end_time": "2021-07-15T18:36:24.712065Z",
     "start_time": "2021-07-15T18:36:24.701078Z"
    }
   },
   "outputs": [
    {
     "name": "stdout",
     "output_type": "stream",
     "text": [
      "0 - 15\n",
      "1 - 87\n",
      "2 - 32\n",
      "3 - 65\n",
      "4 - 56\n",
      "5 - 32\n",
      "6 - 49\n",
      "7 - 37\n"
     ]
    }
   ],
   "source": [
    "for i in range(len(idades)):\n",
    "    print(i, end=' - ')\n",
    "    print(idades[i])"
   ]
  },
  {
   "cell_type": "code",
   "execution_count": 111,
   "id": "combined-addition",
   "metadata": {
    "ExecuteTime": {
     "end_time": "2021-07-15T18:36:24.776027Z",
     "start_time": "2021-07-15T18:36:24.761036Z"
    }
   },
   "outputs": [
    {
     "data": {
      "text/plain": [
       "range(0, 8)"
      ]
     },
     "execution_count": 111,
     "metadata": {},
     "output_type": "execute_result"
    }
   ],
   "source": [
    "range(len(idades)) # lazy."
   ]
  },
  {
   "cell_type": "code",
   "execution_count": 112,
   "id": "minus-arrow",
   "metadata": {
    "ExecuteTime": {
     "end_time": "2021-07-15T18:36:24.839989Z",
     "start_time": "2021-07-15T18:36:24.824000Z"
    }
   },
   "outputs": [
    {
     "data": {
      "text/plain": [
       "<enumerate at 0x16223cf8bd8>"
      ]
     },
     "execution_count": 112,
     "metadata": {},
     "output_type": "execute_result"
    }
   ],
   "source": [
    "enumerate(idades) # Lazy."
   ]
  },
  {
   "cell_type": "code",
   "execution_count": 113,
   "id": "adjacent-edward",
   "metadata": {
    "ExecuteTime": {
     "end_time": "2021-07-15T18:36:24.902947Z",
     "start_time": "2021-07-15T18:36:24.883963Z"
    }
   },
   "outputs": [
    {
     "data": {
      "text/plain": [
       "[0, 1, 2, 3, 4, 5, 6, 7]"
      ]
     },
     "execution_count": 113,
     "metadata": {},
     "output_type": "execute_result"
    }
   ],
   "source": [
    "list(range(len(idades))) # forçou a geração dos valores."
   ]
  },
  {
   "cell_type": "code",
   "execution_count": 114,
   "id": "surprising-pottery",
   "metadata": {
    "ExecuteTime": {
     "end_time": "2021-07-15T18:36:24.949920Z",
     "start_time": "2021-07-15T18:36:24.941924Z"
    }
   },
   "outputs": [
    {
     "data": {
      "text/plain": [
       "[(0, 15), (1, 87), (2, 32), (3, 65), (4, 56), (5, 32), (6, 49), (7, 37)]"
      ]
     },
     "execution_count": 114,
     "metadata": {},
     "output_type": "execute_result"
    }
   ],
   "source": [
    "list( enumerate(idades) )"
   ]
  },
  {
   "cell_type": "code",
   "execution_count": 115,
   "id": "average-federal",
   "metadata": {
    "ExecuteTime": {
     "end_time": "2021-07-15T18:36:25.013880Z",
     "start_time": "2021-07-15T18:36:25.001886Z"
    }
   },
   "outputs": [
    {
     "name": "stdout",
     "output_type": "stream",
     "text": [
      "(0, 15)\n",
      "(1, 87)\n",
      "(2, 32)\n",
      "(3, 65)\n",
      "(4, 56)\n",
      "(5, 32)\n",
      "(6, 49)\n",
      "(7, 37)\n"
     ]
    }
   ],
   "source": [
    "for valor in enumerate(idades):\n",
    "    print(valor)"
   ]
  },
  {
   "cell_type": "code",
   "execution_count": 116,
   "id": "unlike-honey",
   "metadata": {
    "ExecuteTime": {
     "end_time": "2021-07-15T18:36:25.074840Z",
     "start_time": "2021-07-15T18:36:25.061851Z"
    }
   },
   "outputs": [
    {
     "data": {
      "text/plain": [
       "[10, 54, 90, [25, 46]]"
      ]
     },
     "execution_count": 116,
     "metadata": {},
     "output_type": "execute_result"
    }
   ],
   "source": [
    "idades_teste = [10, 54, 90, [ 25, 46 ]]\n",
    "idades_teste"
   ]
  },
  {
   "cell_type": "code",
   "execution_count": 117,
   "id": "floral-testing",
   "metadata": {
    "ExecuteTime": {
     "end_time": "2021-07-15T18:36:25.137804Z",
     "start_time": "2021-07-15T18:36:25.121811Z"
    }
   },
   "outputs": [
    {
     "data": {
      "text/plain": [
       "[(0, 10), (1, 54), (2, 90), (3, [25, 46])]"
      ]
     },
     "execution_count": 117,
     "metadata": {},
     "output_type": "execute_result"
    }
   ],
   "source": [
    "list(enumerate(idades_teste))"
   ]
  },
  {
   "cell_type": "code",
   "execution_count": 118,
   "id": "starting-characterization",
   "metadata": {
    "ExecuteTime": {
     "end_time": "2021-07-15T18:36:25.201761Z",
     "start_time": "2021-07-15T18:36:25.185773Z"
    }
   },
   "outputs": [
    {
     "name": "stdout",
     "output_type": "stream",
     "text": [
      "Índice: 0 Idade: 15\n",
      "Índice: 1 Idade: 87\n",
      "Índice: 2 Idade: 32\n",
      "Índice: 3 Idade: 65\n",
      "Índice: 4 Idade: 56\n",
      "Índice: 5 Idade: 32\n",
      "Índice: 6 Idade: 49\n",
      "Índice: 7 Idade: 37\n"
     ]
    }
   ],
   "source": [
    "for indice, idade in enumerate(idades): # desempacota a tupla\n",
    "    print(f\"Índice: {indice} Idade: {idade}\")"
   ]
  },
  {
   "cell_type": "code",
   "execution_count": 119,
   "id": "distinguished-fisher",
   "metadata": {
    "ExecuteTime": {
     "end_time": "2021-07-15T18:36:25.265722Z",
     "start_time": "2021-07-15T18:36:25.255730Z"
    }
   },
   "outputs": [
    {
     "name": "stdout",
     "output_type": "stream",
     "text": [
      "('Guilherme', 37, 1981)\n",
      "('Daniela', 31, 1987)\n",
      "('Paulo', 39, 1979)\n"
     ]
    }
   ],
   "source": [
    "usuarios = [\n",
    "    ('Guilherme', 37, 1981 ),\n",
    "    ('Daniela', 31, 1987 ),\n",
    "    ('Paulo', 39, 1979)\n",
    "]\n",
    "\n",
    "for usuario in usuarios:\n",
    "    print(usuario)"
   ]
  },
  {
   "cell_type": "code",
   "execution_count": 120,
   "id": "proud-sacramento",
   "metadata": {
    "ExecuteTime": {
     "end_time": "2021-07-15T18:36:25.343674Z",
     "start_time": "2021-07-15T18:36:25.325684Z"
    }
   },
   "outputs": [
    {
     "name": "stdout",
     "output_type": "stream",
     "text": [
      "Guilherme-37-1981\n",
      "Daniela-31-1987\n",
      "Paulo-39-1979\n"
     ]
    }
   ],
   "source": [
    "# desempacotando:\n",
    "\n",
    "for usuario, idade, data_nac in usuarios:\n",
    "    print(f\"{usuario}-{idade}-{data_nac}\")"
   ]
  },
  {
   "cell_type": "code",
   "execution_count": 121,
   "id": "wrong-reservoir",
   "metadata": {
    "ExecuteTime": {
     "end_time": "2021-07-15T18:36:25.406635Z",
     "start_time": "2021-07-15T18:36:25.394642Z"
    }
   },
   "outputs": [
    {
     "name": "stdout",
     "output_type": "stream",
     "text": [
      "Guilherme\n",
      "Daniela\n",
      "Paulo\n"
     ]
    }
   ],
   "source": [
    "for usuario, _, _ in usuarios:\n",
    "    print(f\"{usuario}\")"
   ]
  },
  {
   "cell_type": "markdown",
   "id": "wrong-stockholm",
   "metadata": {},
   "source": [
    "# Ordenação básica"
   ]
  },
  {
   "cell_type": "code",
   "execution_count": 122,
   "id": "arctic-cause",
   "metadata": {
    "ExecuteTime": {
     "end_time": "2021-07-15T18:36:25.952297Z",
     "start_time": "2021-07-15T18:36:25.945302Z"
    }
   },
   "outputs": [
    {
     "data": {
      "text/plain": [
       "[15, 87, 32, 65, 56, 32, 49, 37]"
      ]
     },
     "execution_count": 122,
     "metadata": {},
     "output_type": "execute_result"
    }
   ],
   "source": [
    "idades"
   ]
  },
  {
   "cell_type": "code",
   "execution_count": 123,
   "id": "exterior-stamp",
   "metadata": {
    "ExecuteTime": {
     "end_time": "2021-07-15T18:36:26.014256Z",
     "start_time": "2021-07-15T18:36:26.004266Z"
    }
   },
   "outputs": [
    {
     "data": {
      "text/plain": [
       "[15, 32, 32, 37, 49, 56, 65, 87]"
      ]
     },
     "execution_count": 123,
     "metadata": {},
     "output_type": "execute_result"
    }
   ],
   "source": [
    "sorted(idades)"
   ]
  },
  {
   "cell_type": "code",
   "execution_count": 124,
   "id": "funded-shadow",
   "metadata": {
    "ExecuteTime": {
     "end_time": "2021-07-15T18:36:26.092208Z",
     "start_time": "2021-07-15T18:36:26.086212Z"
    }
   },
   "outputs": [
    {
     "data": {
      "text/plain": [
       "[37, 49, 32, 56, 65, 32, 87, 15]"
      ]
     },
     "execution_count": 124,
     "metadata": {},
     "output_type": "execute_result"
    }
   ],
   "source": [
    "list(reversed(idades))"
   ]
  },
  {
   "cell_type": "code",
   "execution_count": 125,
   "id": "animated-invasion",
   "metadata": {
    "ExecuteTime": {
     "end_time": "2021-07-15T18:36:26.171159Z",
     "start_time": "2021-07-15T18:36:26.157169Z"
    }
   },
   "outputs": [
    {
     "data": {
      "text/plain": [
       "[87, 65, 56, 49, 37, 32, 32, 15]"
      ]
     },
     "execution_count": 125,
     "metadata": {},
     "output_type": "execute_result"
    }
   ],
   "source": [
    "list(reversed(sorted(idades)))"
   ]
  },
  {
   "cell_type": "code",
   "execution_count": 126,
   "id": "physical-movie",
   "metadata": {
    "ExecuteTime": {
     "end_time": "2021-07-15T18:36:26.249112Z",
     "start_time": "2021-07-15T18:36:26.230123Z"
    }
   },
   "outputs": [
    {
     "data": {
      "text/plain": [
       "[15, 87, 32, 65, 56, 32, 49, 37]"
      ]
     },
     "execution_count": 126,
     "metadata": {},
     "output_type": "execute_result"
    }
   ],
   "source": [
    "idades"
   ]
  },
  {
   "cell_type": "code",
   "execution_count": 127,
   "id": "blessed-shakespeare",
   "metadata": {
    "ExecuteTime": {
     "end_time": "2021-07-15T18:36:26.325066Z",
     "start_time": "2021-07-15T18:36:26.310076Z"
    }
   },
   "outputs": [
    {
     "data": {
      "text/plain": [
       "[15, 32, 32, 37, 49, 56, 65, 87]"
      ]
     },
     "execution_count": 127,
     "metadata": {},
     "output_type": "execute_result"
    }
   ],
   "source": [
    "idades.sort()\n",
    "idades"
   ]
  },
  {
   "cell_type": "code",
   "execution_count": 128,
   "id": "genuine-virtue",
   "metadata": {
    "ExecuteTime": {
     "end_time": "2021-07-15T18:36:26.388025Z",
     "start_time": "2021-07-15T18:36:26.369039Z"
    }
   },
   "outputs": [
    {
     "data": {
      "text/plain": [
       "[87, 65, 56, 49, 37, 32, 32, 15]"
      ]
     },
     "execution_count": 128,
     "metadata": {},
     "output_type": "execute_result"
    }
   ],
   "source": [
    "idades.sort(reverse=True)\n",
    "idades"
   ]
  },
  {
   "cell_type": "code",
   "execution_count": 129,
   "id": "optimum-triangle",
   "metadata": {
    "ExecuteTime": {
     "end_time": "2021-07-15T18:36:26.433998Z",
     "start_time": "2021-07-15T18:36:26.425004Z"
    }
   },
   "outputs": [],
   "source": [
    "# sort para ordenar atribuindo e mudando a lista original e sorted para fazer a ordenação sem mudar o conteúdo na lista original. O reversed ordena do maior para o menor sem alterar a lista original."
   ]
  },
  {
   "cell_type": "markdown",
   "id": "hispanic-alaska",
   "metadata": {},
   "source": [
    "# Ordenação de objetos sem ordem natural"
   ]
  },
  {
   "cell_type": "code",
   "execution_count": 130,
   "id": "fatty-atlas",
   "metadata": {
    "ExecuteTime": {
     "end_time": "2021-07-15T18:36:26.982656Z",
     "start_time": "2021-07-15T18:36:26.967674Z"
    }
   },
   "outputs": [
    {
     "data": {
      "text/plain": [
       "['Daniela', 'Guilherme', 'Paulo']"
      ]
     },
     "execution_count": 130,
     "metadata": {},
     "output_type": "execute_result"
    }
   ],
   "source": [
    "# Ordem natural\n",
    "nomes = [\"Guilherme\", \"Daniela\", \"Paulo\"]\n",
    "sorted(nomes)"
   ]
  },
  {
   "cell_type": "code",
   "execution_count": 131,
   "id": "unique-decimal",
   "metadata": {
    "ExecuteTime": {
     "end_time": "2021-07-15T18:36:27.044618Z",
     "start_time": "2021-07-15T18:36:27.035623Z"
    }
   },
   "outputs": [],
   "source": [
    "class ContaSalario:\n",
    "    def __init__(self, codigo):\n",
    "        self._codigo = codigo\n",
    "        self._saldo = 0\n",
    "    \n",
    "    def deposita(self, valor):\n",
    "        self._saldo += valor\n",
    "    \n",
    "    def __str__(self):\n",
    "        return f\"[>> Código {self._codigo } Saldo {self._saldo} <<] \"\n",
    "    \n",
    "    def __eq__(self, outro):\n",
    "        if type(outro) != ContaSalario:\n",
    "            return False\n",
    "        return self._codigo == outro._codigo and self._saldo == outro._saldo \n",
    "    \n",
    "class ContaMultiplaSalario(ContaSalario):\n",
    "    pass"
   ]
  },
  {
   "cell_type": "code",
   "execution_count": 132,
   "id": "pacific-douglas",
   "metadata": {
    "ExecuteTime": {
     "end_time": "2021-07-15T18:36:27.108578Z",
     "start_time": "2021-07-15T18:36:27.102584Z"
    }
   },
   "outputs": [],
   "source": [
    "conta_do_guilherme = ContaSalario(17)\n",
    "conta_do_guilherme.deposita(500)\n",
    "\n",
    "conta_da_daniela = ContaSalario(3)\n",
    "conta_da_daniela.deposita(510)\n",
    "\n",
    "conta_do_paulo = ContaSalario(133)\n",
    "conta_do_paulo.deposita(1000)"
   ]
  },
  {
   "cell_type": "code",
   "execution_count": 133,
   "id": "verbal-vessel",
   "metadata": {
    "ExecuteTime": {
     "end_time": "2021-07-15T18:36:27.171538Z",
     "start_time": "2021-07-15T18:36:27.163543Z"
    }
   },
   "outputs": [],
   "source": [
    "contas = [conta_do_guilherme, conta_da_daniela, conta_do_paulo]"
   ]
  },
  {
   "cell_type": "code",
   "execution_count": 134,
   "id": "beautiful-mention",
   "metadata": {
    "ExecuteTime": {
     "end_time": "2021-07-15T18:36:27.234526Z",
     "start_time": "2021-07-15T18:36:27.220535Z"
    }
   },
   "outputs": [
    {
     "name": "stdout",
     "output_type": "stream",
     "text": [
      "[>> Código 17 Saldo 500 <<] \n",
      "[>> Código 3 Saldo 510 <<] \n",
      "[>> Código 133 Saldo 1000 <<] \n"
     ]
    }
   ],
   "source": [
    "for conta in contas:\n",
    "    print(conta)"
   ]
  },
  {
   "cell_type": "code",
   "execution_count": 135,
   "id": "proprietary-berkeley",
   "metadata": {
    "ExecuteTime": {
     "end_time": "2021-07-15T18:36:27.281495Z",
     "start_time": "2021-07-15T18:36:27.278499Z"
    }
   },
   "outputs": [],
   "source": [
    "# sorted(contas) typeError: '<' not supported between instances of 'ContaSalario' and 'ContaSalario' "
   ]
  },
  {
   "cell_type": "code",
   "execution_count": 136,
   "id": "regulated-ambassador",
   "metadata": {
    "ExecuteTime": {
     "end_time": "2021-07-15T18:36:27.344456Z",
     "start_time": "2021-07-15T18:36:27.339462Z"
    }
   },
   "outputs": [
    {
     "name": "stdout",
     "output_type": "stream",
     "text": [
      "[>> Código 17 Saldo 500 <<] \n",
      "[>> Código 3 Saldo 510 <<] \n",
      "[>> Código 133 Saldo 1000 <<] \n"
     ]
    }
   ],
   "source": [
    "def extrai_saldo(conta):\n",
    "    return conta._saldo\n",
    "\n",
    "for conta in sorted(contas, key=extrai_saldo):\n",
    "    print(conta)"
   ]
  },
  {
   "cell_type": "code",
   "execution_count": 137,
   "id": "killing-bankruptcy",
   "metadata": {
    "ExecuteTime": {
     "end_time": "2021-07-15T18:36:27.406417Z",
     "start_time": "2021-07-15T18:36:27.396427Z"
    }
   },
   "outputs": [],
   "source": [
    "from operator import attrgetter"
   ]
  },
  {
   "cell_type": "code",
   "execution_count": 138,
   "id": "healthy-sound",
   "metadata": {
    "ExecuteTime": {
     "end_time": "2021-07-15T18:36:27.469380Z",
     "start_time": "2021-07-15T18:36:27.456389Z"
    },
    "scrolled": true
   },
   "outputs": [
    {
     "name": "stdout",
     "output_type": "stream",
     "text": [
      "[>> Código 17 Saldo 500 <<] \n",
      "[>> Código 3 Saldo 510 <<] \n",
      "[>> Código 133 Saldo 1000 <<] \n"
     ]
    }
   ],
   "source": [
    "for conta in sorted(contas, key=attrgetter(\"_saldo\")):\n",
    "    print(conta)"
   ]
  },
  {
   "cell_type": "code",
   "execution_count": 139,
   "id": "meaningful-substitute",
   "metadata": {
    "ExecuteTime": {
     "end_time": "2021-07-15T18:36:27.532340Z",
     "start_time": "2021-07-15T18:36:27.526346Z"
    }
   },
   "outputs": [],
   "source": [
    "class ContaSalario:\n",
    "    def __init__(self, codigo):\n",
    "        self._codigo = codigo\n",
    "        self._saldo = 0\n",
    "    \n",
    "    def deposita(self, valor):\n",
    "        self._saldo += valor\n",
    "    \n",
    "    def __str__(self):\n",
    "        return f\"[>> Código {self._codigo } Saldo {self._saldo} <<] \"\n",
    "    \n",
    "    def __eq__(self, outro):\n",
    "        if type(outro) != ContaSalario:\n",
    "            return False\n",
    "        return self._codigo == outro._codigo and self._saldo == outro._saldo \n",
    "    \n",
    "    def __lt__(self, outro):\n",
    "        return self._saldo < outro._saldo\n",
    "        \n",
    "        \n",
    "    \n",
    "class ContaMultiplaSalario(ContaSalario):\n",
    "    pass"
   ]
  },
  {
   "cell_type": "code",
   "execution_count": 140,
   "id": "indirect-feeding",
   "metadata": {
    "ExecuteTime": {
     "end_time": "2021-07-15T18:36:27.612291Z",
     "start_time": "2021-07-15T18:36:27.596301Z"
    }
   },
   "outputs": [],
   "source": [
    "conta_do_guilherme = ContaSalario(17)\n",
    "conta_do_guilherme.deposita(500)\n",
    "\n",
    "conta_da_daniela = ContaSalario(3)\n",
    "conta_da_daniela.deposita(510)\n",
    "\n",
    "conta_do_paulo = ContaSalario(133)\n",
    "conta_do_paulo.deposita(1000)"
   ]
  },
  {
   "cell_type": "code",
   "execution_count": 141,
   "id": "illegal-configuration",
   "metadata": {
    "ExecuteTime": {
     "end_time": "2021-07-15T18:36:27.676251Z",
     "start_time": "2021-07-15T18:36:27.659262Z"
    }
   },
   "outputs": [],
   "source": [
    "contas = [conta_do_guilherme, conta_da_daniela, conta_do_paulo]"
   ]
  },
  {
   "cell_type": "code",
   "execution_count": 142,
   "id": "dense-madison",
   "metadata": {
    "ExecuteTime": {
     "end_time": "2021-07-15T18:36:27.738213Z",
     "start_time": "2021-07-15T18:36:27.719226Z"
    }
   },
   "outputs": [
    {
     "data": {
      "text/plain": [
       "True"
      ]
     },
     "execution_count": 142,
     "metadata": {},
     "output_type": "execute_result"
    }
   ],
   "source": [
    "conta_do_guilherme < conta_da_daniela"
   ]
  },
  {
   "cell_type": "code",
   "execution_count": 143,
   "id": "leading-august",
   "metadata": {
    "ExecuteTime": {
     "end_time": "2021-07-15T18:36:27.785184Z",
     "start_time": "2021-07-15T18:36:27.780188Z"
    }
   },
   "outputs": [
    {
     "data": {
      "text/plain": [
       "False"
      ]
     },
     "execution_count": 143,
     "metadata": {},
     "output_type": "execute_result"
    }
   ],
   "source": [
    "conta_do_guilherme > conta_da_daniela"
   ]
  },
  {
   "cell_type": "code",
   "execution_count": 144,
   "id": "amateur-messaging",
   "metadata": {
    "ExecuteTime": {
     "end_time": "2021-07-15T18:36:27.846145Z",
     "start_time": "2021-07-15T18:36:27.838153Z"
    }
   },
   "outputs": [
    {
     "name": "stdout",
     "output_type": "stream",
     "text": [
      "[>> Código 17 Saldo 500 <<] \n",
      "[>> Código 3 Saldo 510 <<] \n",
      "[>> Código 133 Saldo 1000 <<] \n"
     ]
    }
   ],
   "source": [
    "for conta in sorted(contas):\n",
    "    print(conta)"
   ]
  },
  {
   "cell_type": "code",
   "execution_count": 145,
   "id": "married-dairy",
   "metadata": {
    "ExecuteTime": {
     "end_time": "2021-07-15T18:36:27.910106Z",
     "start_time": "2021-07-15T18:36:27.897115Z"
    }
   },
   "outputs": [
    {
     "name": "stdout",
     "output_type": "stream",
     "text": [
      "[>> Código 133 Saldo 1000 <<] \n",
      "[>> Código 3 Saldo 510 <<] \n",
      "[>> Código 17 Saldo 500 <<] \n"
     ]
    }
   ],
   "source": [
    "for conta in sorted(contas, reverse=True):\n",
    "    print(conta)"
   ]
  },
  {
   "cell_type": "markdown",
   "id": "gross-indicator",
   "metadata": {},
   "source": [
    "# Ordenação completa e functools"
   ]
  },
  {
   "cell_type": "code",
   "execution_count": 146,
   "id": "lesser-incident",
   "metadata": {
    "ExecuteTime": {
     "end_time": "2021-07-15T18:36:28.475765Z",
     "start_time": "2021-07-15T18:36:28.466772Z"
    }
   },
   "outputs": [],
   "source": [
    "# https://docs.python.org/pt-br/3.8/library/functools.html"
   ]
  },
  {
   "cell_type": "code",
   "execution_count": 147,
   "id": "integrated-glucose",
   "metadata": {
    "ExecuteTime": {
     "end_time": "2021-07-15T18:36:28.552717Z",
     "start_time": "2021-07-15T18:36:28.533732Z"
    }
   },
   "outputs": [],
   "source": [
    "conta_do_guilherme = ContaSalario(1700)\n",
    "conta_do_guilherme.deposita(500)\n",
    "\n",
    "conta_da_daniela = ContaSalario(3)\n",
    "conta_da_daniela.deposita(1000)\n",
    "\n",
    "conta_do_paulo = ContaSalario(133)\n",
    "conta_do_paulo.deposita(500)\n",
    "\n",
    "contas = [conta_do_guilherme, conta_da_daniela, conta_do_paulo]"
   ]
  },
  {
   "cell_type": "code",
   "execution_count": 148,
   "id": "adopted-orchestra",
   "metadata": {
    "ExecuteTime": {
     "end_time": "2021-07-15T18:36:28.614681Z",
     "start_time": "2021-07-15T18:36:28.600689Z"
    }
   },
   "outputs": [
    {
     "name": "stdout",
     "output_type": "stream",
     "text": [
      "[>> Código 133 Saldo 500 <<] \n",
      "[>> Código 1700 Saldo 500 <<] \n",
      "[>> Código 3 Saldo 1000 <<] \n"
     ]
    }
   ],
   "source": [
    "for conta in sorted(contas, key=attrgetter(\"_saldo\", \"_codigo\")):\n",
    "    print(conta)"
   ]
  },
  {
   "cell_type": "code",
   "execution_count": 149,
   "id": "certified-stream",
   "metadata": {
    "ExecuteTime": {
     "end_time": "2021-07-15T18:36:28.689635Z",
     "start_time": "2021-07-15T18:36:28.671646Z"
    }
   },
   "outputs": [],
   "source": [
    "conta_do_guilherme = ContaSalario(1700)\n",
    "conta_do_guilherme.deposita(500)\n",
    "\n",
    "conta_da_daniela = ContaSalario(3)\n",
    "conta_da_daniela.deposita(500)\n",
    "\n",
    "conta_do_paulo = ContaSalario(133)\n",
    "conta_do_paulo.deposita(500)\n",
    "\n",
    "contas = [conta_do_guilherme, conta_da_daniela, conta_do_paulo]"
   ]
  },
  {
   "cell_type": "code",
   "execution_count": 150,
   "id": "wrapped-colorado",
   "metadata": {
    "ExecuteTime": {
     "end_time": "2021-07-15T18:36:28.752596Z",
     "start_time": "2021-07-15T18:36:28.736605Z"
    }
   },
   "outputs": [
    {
     "name": "stdout",
     "output_type": "stream",
     "text": [
      "[>> Código 3 Saldo 500 <<] \n",
      "[>> Código 133 Saldo 500 <<] \n",
      "[>> Código 1700 Saldo 500 <<] \n"
     ]
    }
   ],
   "source": [
    "for conta in sorted(contas, key=attrgetter(\"_saldo\", \"_codigo\")):\n",
    "    print(conta)"
   ]
  },
  {
   "cell_type": "code",
   "execution_count": 151,
   "id": "documentary-jersey",
   "metadata": {
    "ExecuteTime": {
     "end_time": "2021-07-15T18:36:28.814560Z",
     "start_time": "2021-07-15T18:36:28.807561Z"
    }
   },
   "outputs": [],
   "source": [
    "class ContaSalario:\n",
    "    def __init__(self, codigo):\n",
    "        self._codigo = codigo\n",
    "        self._saldo = 0\n",
    "    \n",
    "    def deposita(self, valor):\n",
    "        self._saldo += valor\n",
    "    \n",
    "    def __str__(self):\n",
    "        return f\"[>> Código {self._codigo } Saldo {self._saldo} <<] \"\n",
    "    \n",
    "    def __eq__(self, outro):\n",
    "        if type(outro) != ContaSalario:\n",
    "            return False\n",
    "        return self._codigo == outro._codigo and self._saldo == outro._saldo \n",
    "    \n",
    "    def __lt__(self, outro):\n",
    "        if self._saldo != outro._saldo:\n",
    "            return self._saldo < outro._saldo\n",
    "        return self._codigo < outro._codigo\n",
    "        \n",
    "        \n",
    "    \n",
    "class ContaMultiplaSalario(ContaSalario):\n",
    "    pass"
   ]
  },
  {
   "cell_type": "code",
   "execution_count": 152,
   "id": "confused-workstation",
   "metadata": {
    "ExecuteTime": {
     "end_time": "2021-07-15T18:36:28.894508Z",
     "start_time": "2021-07-15T18:36:28.879518Z"
    }
   },
   "outputs": [],
   "source": [
    "conta_do_guilherme = ContaSalario(1700)\n",
    "conta_do_guilherme.deposita(500)\n",
    "\n",
    "conta_da_daniela = ContaSalario(3)\n",
    "conta_da_daniela.deposita(1000)\n",
    "\n",
    "conta_do_paulo = ContaSalario(133)\n",
    "conta_do_paulo.deposita(500)\n",
    "\n",
    "contas = [conta_do_guilherme, conta_da_daniela, conta_do_paulo]"
   ]
  },
  {
   "cell_type": "code",
   "execution_count": 153,
   "id": "loose-mixer",
   "metadata": {
    "ExecuteTime": {
     "end_time": "2021-07-15T18:36:28.958466Z",
     "start_time": "2021-07-15T18:36:28.942476Z"
    }
   },
   "outputs": [
    {
     "name": "stdout",
     "output_type": "stream",
     "text": [
      "[>> Código 133 Saldo 500 <<] \n",
      "[>> Código 1700 Saldo 500 <<] \n",
      "[>> Código 3 Saldo 1000 <<] \n"
     ]
    }
   ],
   "source": [
    "for conta in sorted(contas):\n",
    "    print(conta)"
   ]
  },
  {
   "cell_type": "code",
   "execution_count": 154,
   "id": "demonstrated-rendering",
   "metadata": {
    "ExecuteTime": {
     "end_time": "2021-07-15T18:36:29.020429Z",
     "start_time": "2021-07-15T18:36:29.005439Z"
    }
   },
   "outputs": [],
   "source": [
    "conta_do_guilherme = ContaSalario(1700)\n",
    "conta_do_guilherme.deposita(500)\n",
    "\n",
    "conta_da_daniela = ContaSalario(3)\n",
    "conta_da_daniela.deposita(500)\n",
    "\n",
    "conta_do_paulo = ContaSalario(133)\n",
    "conta_do_paulo.deposita(500)\n",
    "\n",
    "contas = [conta_do_guilherme, conta_da_daniela, conta_do_paulo]"
   ]
  },
  {
   "cell_type": "code",
   "execution_count": 155,
   "id": "postal-moderator",
   "metadata": {
    "ExecuteTime": {
     "end_time": "2021-07-15T18:36:29.082390Z",
     "start_time": "2021-07-15T18:36:29.067400Z"
    }
   },
   "outputs": [
    {
     "name": "stdout",
     "output_type": "stream",
     "text": [
      "[>> Código 3 Saldo 500 <<] \n",
      "[>> Código 133 Saldo 500 <<] \n",
      "[>> Código 1700 Saldo 500 <<] \n"
     ]
    }
   ],
   "source": [
    "for conta in sorted(contas):\n",
    "    print(conta)"
   ]
  },
  {
   "cell_type": "code",
   "execution_count": 156,
   "id": "frozen-progressive",
   "metadata": {
    "ExecuteTime": {
     "end_time": "2021-07-15T18:36:29.143351Z",
     "start_time": "2021-07-15T18:36:29.132362Z"
    }
   },
   "outputs": [
    {
     "data": {
      "text/plain": [
       "False"
      ]
     },
     "execution_count": 156,
     "metadata": {},
     "output_type": "execute_result"
    }
   ],
   "source": [
    "conta_do_guilherme < conta_da_daniela"
   ]
  },
  {
   "cell_type": "code",
   "execution_count": 157,
   "id": "owned-vietnamese",
   "metadata": {
    "ExecuteTime": {
     "end_time": "2021-07-15T18:36:29.220304Z",
     "start_time": "2021-07-15T18:36:29.202315Z"
    }
   },
   "outputs": [],
   "source": [
    "from functools import total_ordering\n",
    "\n",
    "@total_ordering\n",
    "class ContaSalario:\n",
    "    def __init__(self, codigo):\n",
    "        self._codigo = codigo\n",
    "        self._saldo = 0\n",
    "    \n",
    "    def deposita(self, valor):\n",
    "        self._saldo += valor\n",
    "    \n",
    "    def __str__(self):\n",
    "        return f\"[>> Código {self._codigo } Saldo {self._saldo} <<] \"\n",
    "    \n",
    "    def __eq__(self, outro):\n",
    "        if type(outro) != ContaSalario:\n",
    "            return False\n",
    "        return self._codigo == outro._codigo and self._saldo == outro._saldo \n",
    "    \n",
    "    def __lt__(self, outro):\n",
    "        if self._saldo != outro._saldo:\n",
    "            return self._saldo < outro._saldo\n",
    "        return self._codigo < outro._codigo\n",
    "        \n",
    "        \n",
    "    \n",
    "class ContaMultiplaSalario(ContaSalario):\n",
    "    pass"
   ]
  },
  {
   "cell_type": "code",
   "execution_count": 158,
   "id": "comfortable-broad",
   "metadata": {
    "ExecuteTime": {
     "end_time": "2021-07-15T18:36:29.283263Z",
     "start_time": "2021-07-15T18:36:29.273270Z"
    }
   },
   "outputs": [],
   "source": [
    "conta_do_guilherme = ContaSalario(1700)\n",
    "conta_do_guilherme.deposita(500)\n",
    "\n",
    "conta_da_daniela = ContaSalario(3)\n",
    "conta_da_daniela.deposita(1000)\n",
    "\n",
    "conta_do_paulo = ContaSalario(133)\n",
    "conta_do_paulo.deposita(500)\n",
    "\n",
    "contas = [conta_do_guilherme, conta_da_daniela, conta_do_paulo]"
   ]
  },
  {
   "cell_type": "code",
   "execution_count": 159,
   "id": "about-oxide",
   "metadata": {
    "ExecuteTime": {
     "end_time": "2021-07-15T18:36:29.345224Z",
     "start_time": "2021-07-15T18:36:29.335233Z"
    }
   },
   "outputs": [
    {
     "data": {
      "text/plain": [
       "True"
      ]
     },
     "execution_count": 159,
     "metadata": {},
     "output_type": "execute_result"
    }
   ],
   "source": [
    "conta_do_guilherme <= conta_da_daniela"
   ]
  },
  {
   "cell_type": "code",
   "execution_count": 160,
   "id": "quantitative-haven",
   "metadata": {
    "ExecuteTime": {
     "end_time": "2021-07-15T18:37:20.492188Z",
     "start_time": "2021-07-15T18:37:20.475198Z"
    }
   },
   "outputs": [
    {
     "data": {
      "text/plain": [
       "False"
      ]
     },
     "execution_count": 160,
     "metadata": {},
     "output_type": "execute_result"
    }
   ],
   "source": [
    "conta_do_guilherme <= conta_do_paulo"
   ]
  },
  {
   "cell_type": "code",
   "execution_count": 161,
   "id": "sustainable-cyprus",
   "metadata": {
    "ExecuteTime": {
     "end_time": "2021-07-15T18:37:39.280241Z",
     "start_time": "2021-07-15T18:37:39.263252Z"
    }
   },
   "outputs": [
    {
     "data": {
      "text/plain": [
       "False"
      ]
     },
     "execution_count": 161,
     "metadata": {},
     "output_type": "execute_result"
    }
   ],
   "source": [
    "conta_do_guilherme < conta_do_guilherme"
   ]
  },
  {
   "cell_type": "code",
   "execution_count": 162,
   "id": "outer-handle",
   "metadata": {
    "ExecuteTime": {
     "end_time": "2021-07-15T18:37:48.087278Z",
     "start_time": "2021-07-15T18:37:48.076284Z"
    }
   },
   "outputs": [
    {
     "data": {
      "text/plain": [
       "True"
      ]
     },
     "execution_count": 162,
     "metadata": {},
     "output_type": "execute_result"
    }
   ],
   "source": [
    "conta_do_guilherme == conta_do_guilherme"
   ]
  },
  {
   "cell_type": "code",
   "execution_count": 163,
   "id": "polar-michigan",
   "metadata": {
    "ExecuteTime": {
     "end_time": "2021-07-15T18:38:07.516142Z",
     "start_time": "2021-07-15T18:38:07.500153Z"
    }
   },
   "outputs": [
    {
     "data": {
      "text/plain": [
       "True"
      ]
     },
     "execution_count": 163,
     "metadata": {},
     "output_type": "execute_result"
    }
   ],
   "source": [
    "conta_do_guilherme <= conta_do_guilherme"
   ]
  }
 ],
 "metadata": {
  "hide_input": false,
  "kernelspec": {
   "display_name": "Python 3",
   "language": "python",
   "name": "python3"
  },
  "language_info": {
   "codemirror_mode": {
    "name": "ipython",
    "version": 3
   },
   "file_extension": ".py",
   "mimetype": "text/x-python",
   "name": "python",
   "nbconvert_exporter": "python",
   "pygments_lexer": "ipython3",
   "version": "3.7.5"
  },
  "latex_envs": {
   "LaTeX_envs_menu_present": true,
   "autoclose": false,
   "autocomplete": true,
   "bibliofile": "biblio.bib",
   "cite_by": "apalike",
   "current_citInitial": 1,
   "eqLabelWithNumbers": true,
   "eqNumInitial": 1,
   "hotkeys": {
    "equation": "Ctrl-E",
    "itemize": "Ctrl-I"
   },
   "labels_anchors": false,
   "latex_user_defs": false,
   "report_style_numbering": false,
   "user_envs_cfg": false
  },
  "nbTranslate": {
   "displayLangs": [
    "*"
   ],
   "hotkey": "alt-t",
   "langInMainMenu": true,
   "sourceLang": "en",
   "targetLang": "fr",
   "useGoogleTranslate": true
  },
  "toc": {
   "base_numbering": 1,
   "nav_menu": {},
   "number_sections": true,
   "sideBar": true,
   "skip_h1_title": false,
   "title_cell": "Table of Contents",
   "title_sidebar": "Contents",
   "toc_cell": false,
   "toc_position": {},
   "toc_section_display": true,
   "toc_window_display": false
  },
  "varInspector": {
   "cols": {
    "lenName": 16,
    "lenType": 16,
    "lenVar": 40
   },
   "kernels_config": {
    "python": {
     "delete_cmd_postfix": "",
     "delete_cmd_prefix": "del ",
     "library": "var_list.py",
     "varRefreshCmd": "print(var_dic_list())"
    },
    "r": {
     "delete_cmd_postfix": ") ",
     "delete_cmd_prefix": "rm(",
     "library": "var_list.r",
     "varRefreshCmd": "cat(var_dic_list()) "
    }
   },
   "types_to_exclude": [
    "module",
    "function",
    "builtin_function_or_method",
    "instance",
    "_Feature"
   ],
   "window_display": false
  }
 },
 "nbformat": 4,
 "nbformat_minor": 5
}
