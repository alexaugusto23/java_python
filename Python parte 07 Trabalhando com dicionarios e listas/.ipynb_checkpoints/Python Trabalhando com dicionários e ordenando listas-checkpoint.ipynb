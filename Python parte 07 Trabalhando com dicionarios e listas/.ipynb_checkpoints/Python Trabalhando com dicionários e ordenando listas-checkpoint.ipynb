{
 "cells": [
  {
   "cell_type": "markdown",
   "id": "jewish-hundred",
   "metadata": {},
   "source": [
    "# Trabalhando com dicionários"
   ]
  },
  {
   "cell_type": "markdown",
   "id": "passing-poland",
   "metadata": {
    "ExecuteTime": {
     "end_time": "2021-07-16T18:48:10.129985Z",
     "start_time": "2021-07-16T18:48:10.122990Z"
    }
   },
   "source": [
    "## Sistema de agenda de contatos telefônicos"
   ]
  },
  {
   "cell_type": "code",
   "execution_count": 3,
   "id": "parental-excerpt",
   "metadata": {
    "ExecuteTime": {
     "end_time": "2021-07-16T18:48:26.504723Z",
     "start_time": "2021-07-16T18:48:26.477792Z"
    }
   },
   "outputs": [
    {
     "data": {
      "text/plain": [
       "['1234-5678', '9999-9999', '8765-4321', '8877-7788']"
      ]
     },
     "execution_count": 3,
     "metadata": {},
     "output_type": "execute_result"
    }
   ],
   "source": [
    "telefones = ['1234-5678', '9999-9999', '8765-4321', '8877-7788']\n",
    "telefones"
   ]
  },
  {
   "cell_type": "code",
   "execution_count": 6,
   "id": "surface-entrance",
   "metadata": {
    "ExecuteTime": {
     "end_time": "2021-07-16T18:49:26.442576Z",
     "start_time": "2021-07-16T18:49:26.439579Z"
    }
   },
   "outputs": [],
   "source": [
    "# Qual o sentido de termos uma lista de números soltos?"
   ]
  },
  {
   "cell_type": "code",
   "execution_count": 7,
   "id": "detailed-compiler",
   "metadata": {
    "ExecuteTime": {
     "end_time": "2021-07-16T18:50:05.183327Z",
     "start_time": "2021-07-16T18:50:05.173335Z"
    }
   },
   "outputs": [],
   "source": [
    "# Precisamos, de algum modo, conectar os telefones a seus respectivos contatos."
   ]
  },
  {
   "cell_type": "code",
   "execution_count": 5,
   "id": "solar-canon",
   "metadata": {
    "ExecuteTime": {
     "end_time": "2021-07-16T18:48:57.005431Z",
     "start_time": "2021-07-16T18:48:56.999436Z"
    }
   },
   "outputs": [
    {
     "data": {
      "text/plain": [
       "('Yan', '1234-5678')"
      ]
     },
     "execution_count": 5,
     "metadata": {},
     "output_type": "execute_result"
    }
   ],
   "source": [
    "contato = ('Yan', '1234-5678')\n",
    "contato"
   ]
  },
  {
   "cell_type": "code",
   "execution_count": 9,
   "id": "vital-malta",
   "metadata": {
    "ExecuteTime": {
     "end_time": "2021-07-16T18:50:29.819141Z",
     "start_time": "2021-07-16T18:50:29.807151Z"
    }
   },
   "outputs": [
    {
     "data": {
      "text/plain": [
       "[('Yan', '1234-5678'),\n",
       " ('Pedro', '9999-9999'),\n",
       " ('Ana', '8765-4321'),\n",
       " ('Marina', '8877-7788')]"
      ]
     },
     "execution_count": 9,
     "metadata": {},
     "output_type": "execute_result"
    }
   ],
   "source": [
    "contatos_lista = [('Yan', '1234-5678'), ('Pedro', '9999-9999'),\n",
    "                    ('Ana', '8765-4321'), ('Marina', '8877-7788')]\n",
    "contatos_lista"
   ]
  },
  {
   "cell_type": "code",
   "execution_count": 11,
   "id": "empty-tract",
   "metadata": {
    "ExecuteTime": {
     "end_time": "2021-07-16T18:51:01.892973Z",
     "start_time": "2021-07-16T18:51:01.878982Z"
    }
   },
   "outputs": [],
   "source": [
    "# Ok! Se quisermos acessar o número de telefone da Marina, podemos fazer:"
   ]
  },
  {
   "cell_type": "code",
   "execution_count": 10,
   "id": "continent-cooler",
   "metadata": {
    "ExecuteTime": {
     "end_time": "2021-07-16T18:50:39.116595Z",
     "start_time": "2021-07-16T18:50:39.106603Z"
    }
   },
   "outputs": [
    {
     "name": "stdout",
     "output_type": "stream",
     "text": [
      "8877-7788\n"
     ]
    }
   ],
   "source": [
    "print(contatos_lista[3][1])"
   ]
  },
  {
   "cell_type": "code",
   "execution_count": 12,
   "id": "tracked-envelope",
   "metadata": {
    "ExecuteTime": {
     "end_time": "2021-07-16T18:52:07.621564Z",
     "start_time": "2021-07-16T18:52:07.615571Z"
    }
   },
   "outputs": [],
   "source": [
    "# Assim fica díficil acessar os contatos tendo que memorizar as posições dos arrays."
   ]
  },
  {
   "cell_type": "code",
   "execution_count": null,
   "id": "burning-kennedy",
   "metadata": {},
   "outputs": [],
   "source": [
    "# Vetor associativo:  https://pt.wikipedia.org/wiki/Vetor_associativo"
   ]
  },
  {
   "cell_type": "code",
   "execution_count": 13,
   "id": "realistic-composition",
   "metadata": {
    "ExecuteTime": {
     "end_time": "2021-07-16T19:01:19.340824Z",
     "start_time": "2021-07-16T19:01:19.327836Z"
    }
   },
   "outputs": [
    {
     "name": "stdout",
     "output_type": "stream",
     "text": [
      "<class 'dict'>\n"
     ]
    }
   ],
   "source": [
    "contatos = {'Yan': '1234-5678'}\n",
    "print(type(contatos))"
   ]
  },
  {
   "cell_type": "code",
   "execution_count": 14,
   "id": "private-arena",
   "metadata": {
    "ExecuteTime": {
     "end_time": "2021-07-16T19:02:37.327869Z",
     "start_time": "2021-07-16T19:02:37.312878Z"
    }
   },
   "outputs": [
    {
     "name": "stdout",
     "output_type": "stream",
     "text": [
      "{'Yan': '1234-5678', 'Pedro': '9999-9999', 'Ana': '8765-4321', 'Marina': '8877-7788'}\n"
     ]
    }
   ],
   "source": [
    "contatos_lista = [('Yan', '1234-5678'), ('Pedro', '9999-9999'),\n",
    "                    ('Ana', '8765-4321'), ('Marina', '8877-7788')]\n",
    "\n",
    "contatos = dict(contatos_lista)\n",
    "print(contatos)"
   ]
  },
  {
   "cell_type": "markdown",
   "id": "minute-fourth",
   "metadata": {
    "ExecuteTime": {
     "end_time": "2021-07-16T19:02:57.069928Z",
     "start_time": "2021-07-16T19:02:57.051939Z"
    }
   },
   "source": [
    "## Acessando os itens de um dicionário"
   ]
  },
  {
   "cell_type": "code",
   "execution_count": 16,
   "id": "obvious-basics",
   "metadata": {
    "ExecuteTime": {
     "end_time": "2021-07-16T19:03:02.941904Z",
     "start_time": "2021-07-16T19:03:02.924916Z"
    }
   },
   "outputs": [
    {
     "name": "stdout",
     "output_type": "stream",
     "text": [
      "8765-4321\n"
     ]
    }
   ],
   "source": [
    "print(contatos['Ana'])"
   ]
  },
  {
   "cell_type": "code",
   "execution_count": 18,
   "id": "foreign-relation",
   "metadata": {
    "ExecuteTime": {
     "end_time": "2021-07-16T19:03:41.786265Z",
     "start_time": "2021-07-16T19:03:41.777271Z"
    }
   },
   "outputs": [
    {
     "name": "stdout",
     "output_type": "stream",
     "text": [
      "1234-5678\n",
      "Contato não encontrado\n"
     ]
    }
   ],
   "source": [
    "print(contatos.get('Yan', 'Contato não encontrado'))\n",
    "print(contatos.get('João', 'Contato não encontrado'))"
   ]
  },
  {
   "cell_type": "code",
   "execution_count": 19,
   "id": "logical-munich",
   "metadata": {
    "ExecuteTime": {
     "end_time": "2021-07-16T19:04:09.457750Z",
     "start_time": "2021-07-16T19:04:09.449760Z"
    }
   },
   "outputs": [
    {
     "name": "stdout",
     "output_type": "stream",
     "text": [
      "True\n"
     ]
    }
   ],
   "source": [
    "print('Yan' in contatos)"
   ]
  },
  {
   "cell_type": "code",
   "execution_count": 21,
   "id": "suspected-composition",
   "metadata": {
    "ExecuteTime": {
     "end_time": "2021-07-16T20:18:56.708400Z",
     "start_time": "2021-07-16T20:18:56.692412Z"
    }
   },
   "outputs": [
    {
     "name": "stdout",
     "output_type": "stream",
     "text": [
      "False\n"
     ]
    }
   ],
   "source": [
    "print('9999-9999' in contatos)"
   ]
  },
  {
   "cell_type": "code",
   "execution_count": 20,
   "id": "fresh-conversion",
   "metadata": {
    "ExecuteTime": {
     "end_time": "2021-07-16T20:18:54.851060Z",
     "start_time": "2021-07-16T20:18:54.839069Z"
    }
   },
   "outputs": [
    {
     "name": "stdout",
     "output_type": "stream",
     "text": [
      "True\n"
     ]
    }
   ],
   "source": [
    "print('9999-9999' in contatos.values())"
   ]
  },
  {
   "cell_type": "markdown",
   "id": "educated-antibody",
   "metadata": {
    "ExecuteTime": {
     "end_time": "2021-07-16T20:19:47.869575Z",
     "start_time": "2021-07-16T20:19:47.862579Z"
    }
   },
   "source": [
    "## Adicionando valores ao dicionário"
   ]
  },
  {
   "cell_type": "code",
   "execution_count": 23,
   "id": "electoral-netscape",
   "metadata": {
    "ExecuteTime": {
     "end_time": "2021-07-16T20:20:43.322026Z",
     "start_time": "2021-07-16T20:20:43.303037Z"
    }
   },
   "outputs": [
    {
     "name": "stdout",
     "output_type": "stream",
     "text": [
      "{'Yan': '1234-5678', 'Pedro': '9999-9999', 'Ana': '8765-4321', 'Marina': '8877-7788', 'João': '8887-7778'}\n"
     ]
    }
   ],
   "source": [
    "contatos['João'] = '8887-7778'\n",
    "print(contatos)"
   ]
  },
  {
   "cell_type": "markdown",
   "id": "excited-promotion",
   "metadata": {},
   "source": [
    "## Removendo itens do dicionário"
   ]
  },
  {
   "cell_type": "code",
   "execution_count": 24,
   "id": "saved-blake",
   "metadata": {
    "ExecuteTime": {
     "end_time": "2021-07-16T20:21:25.392346Z",
     "start_time": "2021-07-16T20:21:25.382356Z"
    }
   },
   "outputs": [
    {
     "name": "stdout",
     "output_type": "stream",
     "text": [
      "{'Yan': '1234-5678', 'Pedro': '9999-9999', 'Ana': '8765-4321', 'João': '8887-7778'}\n"
     ]
    }
   ],
   "source": [
    "del contatos['Marina']\n",
    "print(contatos)"
   ]
  },
  {
   "cell_type": "code",
   "execution_count": 25,
   "id": "apparent-folks",
   "metadata": {
    "ExecuteTime": {
     "end_time": "2021-07-16T20:22:16.615491Z",
     "start_time": "2021-07-16T20:22:16.595505Z"
    }
   },
   "outputs": [
    {
     "name": "stdout",
     "output_type": "stream",
     "text": [
      "8877-7788\n",
      "Contato não encontrado\n",
      "\n",
      "{'Yan': '1234-5678', 'Pedro': '9999-9999', 'Ana': '8765-4321', 'João': '8887-7778'}\n"
     ]
    }
   ],
   "source": [
    "contatos = {'Yan': '1234-5678', 'Pedro': '9999-9999', 'Ana': '8765-4321',\n",
    "            'Marina': '8877-7788', 'João': '8887-7778'}\n",
    "\n",
    "print(contatos.pop('Marina', 'Contato não encontrado'))\n",
    "print(contatos.pop('Catarina', 'Contato não encontrado'))\n",
    "print()\n",
    "print(contatos)"
   ]
  },
  {
   "cell_type": "markdown",
   "id": "elementary-carroll",
   "metadata": {},
   "source": [
    "## Juntando dois dicionários"
   ]
  },
  {
   "cell_type": "code",
   "execution_count": 30,
   "id": "homeless-private",
   "metadata": {
    "ExecuteTime": {
     "end_time": "2021-07-16T20:59:52.671299Z",
     "start_time": "2021-07-16T20:59:52.662550Z"
    }
   },
   "outputs": [],
   "source": [
    "contatos_do_pedro = {'Yan': '1234-5678', 'Fernando':'4345-5434',\n",
    "                        'Luiza':'4567-7654'}"
   ]
  },
  {
   "cell_type": "code",
   "execution_count": 27,
   "id": "positive-promotion",
   "metadata": {
    "ExecuteTime": {
     "end_time": "2021-07-16T20:58:31.775141Z",
     "start_time": "2021-07-16T20:58:31.769147Z"
    }
   },
   "outputs": [
    {
     "name": "stdout",
     "output_type": "stream",
     "text": [
      "{'Yan': '1234-5678', 'Pedro': '9999-9999', 'Ana': '8765-4321', 'João': '8887-7778', 'Fernando': '4345-5434', 'Luiza': '4567-7654'}\n"
     ]
    }
   ],
   "source": [
    "meus_contatos = {'Yan': '1234-5678', 'Pedro': '9999-9999',\n",
    "                    'Ana': '8765-4321', 'João': '8887-7778'}\n",
    "\n",
    "contatos_do_pedro = {'Yan': '1234-5678', 'Fernando': '4345-5434',\n",
    "                        'Luiza': '4567-7654'}\n",
    "\n",
    "for nome in contatos_do_pedro:\n",
    "    meus_contatos[nome] = contatos_do_pedro[nome]\n",
    "\n",
    "print(meus_contatos)"
   ]
  },
  {
   "cell_type": "code",
   "execution_count": 28,
   "id": "running-maintenance",
   "metadata": {
    "ExecuteTime": {
     "end_time": "2021-07-16T20:59:11.702165Z",
     "start_time": "2021-07-16T20:59:11.695170Z"
    }
   },
   "outputs": [
    {
     "name": "stdout",
     "output_type": "stream",
     "text": [
      "Yan\n",
      "Fernando\n",
      "Luiza\n"
     ]
    }
   ],
   "source": [
    "for nome in contatos_do_pedro:\n",
    "    print(nome)"
   ]
  },
  {
   "cell_type": "code",
   "execution_count": 34,
   "id": "prime-anaheim",
   "metadata": {
    "ExecuteTime": {
     "end_time": "2021-07-16T21:01:19.742393Z",
     "start_time": "2021-07-16T21:01:19.734402Z"
    }
   },
   "outputs": [],
   "source": [
    "# Usando a função update mesclar dicionários."
   ]
  },
  {
   "cell_type": "code",
   "execution_count": 33,
   "id": "round-blackberry",
   "metadata": {
    "ExecuteTime": {
     "end_time": "2021-07-16T21:00:34.578892Z",
     "start_time": "2021-07-16T21:00:34.572900Z"
    }
   },
   "outputs": [
    {
     "name": "stdout",
     "output_type": "stream",
     "text": [
      "{'Yan': '1234-5678', 'Pedro': '9999-9999', 'Ana': '8765-4321', 'João': '8887-7778', 'Fernando': '4345-5434', 'Luiza': '4567-7654'}\n"
     ]
    }
   ],
   "source": [
    "meus_contatos = {'Yan': '1234-5678', 'Pedro': '9999-9999',\n",
    "                    'Ana': '8765-4321', 'João': '8887-7778'}\n",
    "\n",
    "contatos_do_pedro = {'Yan': '1234-5678', 'Fernando': '4345-5434',\n",
    "                        'Luiza': '4567-7654'}\n",
    "\n",
    "meus_contatos.update(contatos_do_pedro)\n",
    "print(meus_contatos)"
   ]
  },
  {
   "cell_type": "code",
   "execution_count": 35,
   "id": "incomplete-cleaning",
   "metadata": {
    "ExecuteTime": {
     "end_time": "2021-07-16T21:02:30.168235Z",
     "start_time": "2021-07-16T21:02:30.149250Z"
    }
   },
   "outputs": [
    {
     "name": "stdout",
     "output_type": "stream",
     "text": [
      "{'Yan': '91234-5678', 'Pedro': '99999-9999', 'Ana': '98765-4321', 'João': '98887-7778', 'Fernando': '94345-5434', 'Luiza': '94567-7654'}\n"
     ]
    }
   ],
   "source": [
    "meus_contatos_novo = {nome: '9' + meus_contatos[nome] for nome in meus_contatos}\n",
    "print(meus_contatos_novo)"
   ]
  },
  {
   "cell_type": "markdown",
   "id": "dramatic-cameroon",
   "metadata": {},
   "source": [
    "## Views vs. listas"
   ]
  },
  {
   "cell_type": "code",
   "execution_count": 37,
   "id": "quick-forum",
   "metadata": {
    "ExecuteTime": {
     "end_time": "2021-07-16T21:04:01.671308Z",
     "start_time": "2021-07-16T21:04:01.660314Z"
    }
   },
   "outputs": [
    {
     "name": "stdout",
     "output_type": "stream",
     "text": [
      "dict_items([('Yan', '91234-5678'), ('Pedro', '99999-9999'), ('Ana', '98765-4321'), ('João', '98887-7778'), ('Fernando', '94345-5434'), ('Luiza', '94567-7654')])\n"
     ]
    }
   ],
   "source": [
    "valores = meus_contatos_novo.items()\n",
    "print(valores)"
   ]
  },
  {
   "cell_type": "code",
   "execution_count": 38,
   "id": "impaired-latest",
   "metadata": {
    "ExecuteTime": {
     "end_time": "2021-07-16T21:04:08.849541Z",
     "start_time": "2021-07-16T21:04:08.836707Z"
    }
   },
   "outputs": [
    {
     "name": "stdout",
     "output_type": "stream",
     "text": [
      "dict_keys(['Yan', 'Pedro', 'Ana', 'João', 'Fernando', 'Luiza'])\n"
     ]
    }
   ],
   "source": [
    "valores = meus_contatos_novo.keys()\n",
    "print(valores)"
   ]
  },
  {
   "cell_type": "code",
   "execution_count": 36,
   "id": "previous-junction",
   "metadata": {
    "ExecuteTime": {
     "end_time": "2021-07-16T21:03:29.503504Z",
     "start_time": "2021-07-16T21:03:29.489512Z"
    }
   },
   "outputs": [
    {
     "name": "stdout",
     "output_type": "stream",
     "text": [
      "dict_values(['91234-5678', '99999-9999', '98765-4321', '98887-7778', '94345-5434', '94567-7654'])\n"
     ]
    }
   ],
   "source": [
    "valores = meus_contatos_novo.values()\n",
    "print(valores)"
   ]
  },
  {
   "cell_type": "code",
   "execution_count": 39,
   "id": "narrative-ecuador",
   "metadata": {
    "ExecuteTime": {
     "end_time": "2021-07-16T21:05:22.410597Z",
     "start_time": "2021-07-16T21:05:22.393613Z"
    }
   },
   "outputs": [
    {
     "name": "stdout",
     "output_type": "stream",
     "text": [
      "dict_values(['91234-5678', '99999-9999', '98765-4321', '98887-7778', '94345-5434', '94567-7654'])\n",
      "dict_values(['91122-3344', '99999-9999', '98765-4321', '98887-7778', '94345-5434', '94567-7654'])\n"
     ]
    }
   ],
   "source": [
    "valores = meus_contatos_novo.values()\n",
    "print(valores)\n",
    "\n",
    "meus_contatos_novo['Yan'] = '91122-3344'\n",
    "print(valores)"
   ]
  },
  {
   "cell_type": "code",
   "execution_count": 40,
   "id": "statistical-sierra",
   "metadata": {
    "ExecuteTime": {
     "end_time": "2021-07-16T21:06:22.059663Z",
     "start_time": "2021-07-16T21:06:22.049669Z"
    }
   },
   "outputs": [
    {
     "name": "stdout",
     "output_type": "stream",
     "text": [
      "24\n"
     ]
    }
   ],
   "source": [
    "print(valores.__sizeof__())"
   ]
  },
  {
   "cell_type": "markdown",
   "id": "invisible-thinking",
   "metadata": {
    "ExecuteTime": {
     "end_time": "2021-07-16T21:08:56.804742Z",
     "start_time": "2021-07-16T21:08:56.792752Z"
    }
   },
   "source": [
    "# Ordenando listas no Python"
   ]
  },
  {
   "cell_type": "code",
   "execution_count": 43,
   "id": "marine-bronze",
   "metadata": {
    "ExecuteTime": {
     "end_time": "2021-07-16T21:11:02.214944Z",
     "start_time": "2021-07-16T21:11:02.201950Z"
    }
   },
   "outputs": [
    {
     "ename": "SyntaxError",
     "evalue": "invalid syntax (<ipython-input-43-c19db1d22da1>, line 1)",
     "output_type": "error",
     "traceback": [
      "\u001b[1;36m  File \u001b[1;32m\"<ipython-input-43-c19db1d22da1>\"\u001b[1;36m, line \u001b[1;32m1\u001b[0m\n\u001b[1;33m    produtos =  [nome:chocolate valor:3.45,\u001b[0m\n\u001b[1;37m                     ^\u001b[0m\n\u001b[1;31mSyntaxError\u001b[0m\u001b[1;31m:\u001b[0m invalid syntax\n"
     ]
    }
   ],
   "source": [
    "# produto =  [nome:chocolate valor:3.45, \n",
    "#              nome:biscoito valor:2.49, \n",
    "#              nome:cafe valor:3.45, \n",
    "#              nome:suco valor:4.3, \n",
    "#              nome:feijao valor:10.0, \n",
    "#              nome:arroz valor:8.5\n",
    "#             ]"
   ]
  },
  {
   "cell_type": "code",
   "execution_count": 44,
   "id": "voluntary-still",
   "metadata": {
    "ExecuteTime": {
     "end_time": "2021-07-16T21:11:48.433108Z",
     "start_time": "2021-07-16T21:11:48.421115Z"
    }
   },
   "outputs": [],
   "source": [
    "class Produto(object): \n",
    "  def __init__(self, nome, valor): \n",
    "    self.__nome = nome \n",
    "    self.__valor = valor \n",
    "\n",
    "  def __repr__(self): \n",
    "    return \"nome:%s valor:%s\" % (self.__nome, self.__valor)\n",
    "\n",
    "  def get_nome(self): \n",
    "    return self.__nome\n",
    "\n",
    "  def get_valor(self): \n",
    "    return self.__valor"
   ]
  },
  {
   "cell_type": "code",
   "execution_count": null,
   "id": "manufactured-representation",
   "metadata": {},
   "outputs": [],
   "source": [
    "#### Ordenando lista de números no Python"
   ]
  },
  {
   "cell_type": "code",
   "execution_count": 46,
   "id": "weird-discussion",
   "metadata": {
    "ExecuteTime": {
     "end_time": "2021-07-16T21:16:22.553864Z",
     "start_time": "2021-07-16T21:16:22.537878Z"
    }
   },
   "outputs": [
    {
     "name": "stdout",
     "output_type": "stream",
     "text": [
      "[4, 2, 6, 1, 3]\n",
      "[1, 2, 3, 4, 6]\n"
     ]
    }
   ],
   "source": [
    "numeros = [4,2,6,1,3] \n",
    "numeros_ordenados = sorted(numeros)\n",
    "\n",
    "print(numeros) \n",
    "print(numeros_ordenados)"
   ]
  },
  {
   "cell_type": "code",
   "execution_count": null,
   "id": "incorporate-comparative",
   "metadata": {},
   "outputs": [],
   "source": [
    "#### Ordenando lista de strings no Python"
   ]
  },
  {
   "cell_type": "code",
   "execution_count": 74,
   "id": "acquired-badge",
   "metadata": {
    "ExecuteTime": {
     "end_time": "2021-07-16T21:27:27.590528Z",
     "start_time": "2021-07-16T21:27:27.578534Z"
    },
    "run_control": {
     "marked": true
    }
   },
   "outputs": [
    {
     "name": "stdout",
     "output_type": "stream",
     "text": [
      "['chocolate', 'biscoito', 'cafe', 'suco', 'feijao', 'arroz']\n",
      "['ARROZ', 'BISCOITO', 'CAFE', 'CHOCOLATE', 'FEIJAO', 'SUCO']\n"
     ]
    }
   ],
   "source": [
    "palavras = [\"chocolate\",\"biscoito\", \"cafe\", \"suco\", \"feijao\", \"arroz\"] \n",
    "palavras_ordenadas = [palavras.lower() for palavras in palavras]\n",
    "palavras_ordenadas = [palavras.upper() for palavras in palavras]\n",
    "palavras_ordenadas = sorted(palavras_ordenadas)\n",
    "\n",
    "print (palavras) \n",
    "print (palavras_ordenadas)"
   ]
  },
  {
   "cell_type": "code",
   "execution_count": null,
   "id": "blocked-minutes",
   "metadata": {},
   "outputs": [],
   "source": [
    "#### Ordenando lista de objetos no Python"
   ]
  },
  {
   "cell_type": "code",
   "execution_count": 77,
   "id": "native-protest",
   "metadata": {
    "ExecuteTime": {
     "end_time": "2021-07-16T21:28:08.876713Z",
     "start_time": "2021-07-16T21:28:08.866721Z"
    }
   },
   "outputs": [
    {
     "ename": "NameError",
     "evalue": "name 'lista_produtos' is not defined",
     "output_type": "error",
     "traceback": [
      "\u001b[1;31m---------------------------------------------------------------------------\u001b[0m",
      "\u001b[1;31mNameError\u001b[0m                                 Traceback (most recent call last)",
      "\u001b[1;32m<ipython-input-77-bb0c22ebdd3b>\u001b[0m in \u001b[0;36m<module>\u001b[1;34m\u001b[0m\n\u001b[1;32m----> 1\u001b[1;33m \u001b[0mprodutos\u001b[0m \u001b[1;33m=\u001b[0m \u001b[0mlista_produtos\u001b[0m\u001b[1;33m(\u001b[0m\u001b[1;33m)\u001b[0m\u001b[1;33m\u001b[0m\u001b[1;33m\u001b[0m\u001b[0m\n\u001b[0m\u001b[0;32m      2\u001b[0m \u001b[0mprodutos_ordenados\u001b[0m \u001b[1;33m=\u001b[0m \u001b[0msorted\u001b[0m\u001b[1;33m(\u001b[0m\u001b[0mprodutos\u001b[0m\u001b[1;33m)\u001b[0m\u001b[1;33m\u001b[0m\u001b[1;33m\u001b[0m\u001b[0m\n\u001b[0;32m      3\u001b[0m \u001b[1;33m\u001b[0m\u001b[0m\n\u001b[0;32m      4\u001b[0m \u001b[0mprint\u001b[0m \u001b[1;33m(\u001b[0m\u001b[0mprodutos\u001b[0m\u001b[1;33m)\u001b[0m\u001b[1;33m\u001b[0m\u001b[1;33m\u001b[0m\u001b[0m\n\u001b[0;32m      5\u001b[0m \u001b[0mprint\u001b[0m \u001b[1;33m(\u001b[0m\u001b[0mprodutos_ordenados\u001b[0m\u001b[1;33m)\u001b[0m\u001b[1;33m\u001b[0m\u001b[1;33m\u001b[0m\u001b[0m\n",
      "\u001b[1;31mNameError\u001b[0m: name 'lista_produtos' is not defined"
     ]
    }
   ],
   "source": [
    "produtos = lista_produtos() \n",
    "produtos_ordenados = sorted(produtos)\n",
    "\n",
    "print (produtos) \n",
    "print (produtos_ordenados)"
   ]
  },
  {
   "cell_type": "code",
   "execution_count": 80,
   "id": "related-scroll",
   "metadata": {
    "ExecuteTime": {
     "end_time": "2021-07-16T21:32:16.652104Z",
     "start_time": "2021-07-16T21:32:16.643110Z"
    }
   },
   "outputs": [
    {
     "ename": "SyntaxError",
     "evalue": "invalid syntax (<ipython-input-80-c4ff72ba989f>, line 1)",
     "output_type": "error",
     "traceback": [
      "\u001b[1;36m  File \u001b[1;32m\"<ipython-input-80-c4ff72ba989f>\"\u001b[1;36m, line \u001b[1;32m1\u001b[0m\n\u001b[1;33m    lista = dict(nome:chocolate, valor:3.45,\u001b[0m\n\u001b[1;37m                     ^\u001b[0m\n\u001b[1;31mSyntaxError\u001b[0m\u001b[1;31m:\u001b[0m invalid syntax\n"
     ]
    }
   ],
   "source": [
    "lista = dict(nome:chocolate, valor:3.45, \n",
    "nome:biscoito, valor:2.49, \n",
    "nome:cafe, valor:3.45, \n",
    "nome:suco, valor:4.3, \n",
    "nome:feijao, valor:10.0, \n",
    "nome:arroz, valor:8.5)\n",
    "\n"
   ]
  },
  {
   "cell_type": "code",
   "execution_count": null,
   "id": "damaged-dryer",
   "metadata": {},
   "outputs": [],
   "source": []
  }
 ],
 "metadata": {
  "hide_input": false,
  "kernelspec": {
   "display_name": "Python 3",
   "language": "python",
   "name": "python3"
  },
  "language_info": {
   "codemirror_mode": {
    "name": "ipython",
    "version": 3
   },
   "file_extension": ".py",
   "mimetype": "text/x-python",
   "name": "python",
   "nbconvert_exporter": "python",
   "pygments_lexer": "ipython3",
   "version": "3.7.5"
  },
  "latex_envs": {
   "LaTeX_envs_menu_present": true,
   "autoclose": false,
   "autocomplete": true,
   "bibliofile": "biblio.bib",
   "cite_by": "apalike",
   "current_citInitial": 1,
   "eqLabelWithNumbers": true,
   "eqNumInitial": 1,
   "hotkeys": {
    "equation": "Ctrl-E",
    "itemize": "Ctrl-I"
   },
   "labels_anchors": false,
   "latex_user_defs": false,
   "report_style_numbering": false,
   "user_envs_cfg": false
  },
  "nbTranslate": {
   "displayLangs": [
    "*"
   ],
   "hotkey": "alt-t",
   "langInMainMenu": true,
   "sourceLang": "en",
   "targetLang": "fr",
   "useGoogleTranslate": true
  },
  "toc": {
   "base_numbering": 1,
   "nav_menu": {},
   "number_sections": true,
   "sideBar": true,
   "skip_h1_title": false,
   "title_cell": "Table of Contents",
   "title_sidebar": "Contents",
   "toc_cell": false,
   "toc_position": {},
   "toc_section_display": true,
   "toc_window_display": false
  },
  "varInspector": {
   "cols": {
    "lenName": 16,
    "lenType": 16,
    "lenVar": 40
   },
   "kernels_config": {
    "python": {
     "delete_cmd_postfix": "",
     "delete_cmd_prefix": "del ",
     "library": "var_list.py",
     "varRefreshCmd": "print(var_dic_list())"
    },
    "r": {
     "delete_cmd_postfix": ") ",
     "delete_cmd_prefix": "rm(",
     "library": "var_list.r",
     "varRefreshCmd": "cat(var_dic_list()) "
    }
   },
   "types_to_exclude": [
    "module",
    "function",
    "builtin_function_or_method",
    "instance",
    "_Feature"
   ],
   "window_display": false
  }
 },
 "nbformat": 4,
 "nbformat_minor": 5
}
