{
 "cells": [
  {
   "cell_type": "markdown",
   "id": "jewish-hundred",
   "metadata": {},
   "source": [
    "# Trabalhando com dicionários"
   ]
  },
  {
   "cell_type": "markdown",
   "id": "passing-poland",
   "metadata": {
    "ExecuteTime": {
     "end_time": "2021-07-16T18:48:10.129985Z",
     "start_time": "2021-07-16T18:48:10.122990Z"
    }
   },
   "source": [
    "## Sistema de agenda de contatos telefônicos"
   ]
  },
  {
   "cell_type": "code",
   "execution_count": 1,
   "id": "parental-excerpt",
   "metadata": {
    "ExecuteTime": {
     "end_time": "2021-07-19T20:06:47.461904Z",
     "start_time": "2021-07-19T20:06:47.447913Z"
    }
   },
   "outputs": [
    {
     "data": {
      "text/plain": [
       "['1234-5678', '9999-9999', '8765-4321', '8877-7788']"
      ]
     },
     "execution_count": 1,
     "metadata": {},
     "output_type": "execute_result"
    }
   ],
   "source": [
    "telefones = ['1234-5678', '9999-9999', '8765-4321', '8877-7788']\n",
    "telefones"
   ]
  },
  {
   "cell_type": "code",
   "execution_count": 2,
   "id": "surface-entrance",
   "metadata": {
    "ExecuteTime": {
     "end_time": "2021-07-19T20:06:47.477896Z",
     "start_time": "2021-07-19T20:06:47.468901Z"
    }
   },
   "outputs": [],
   "source": [
    "# Qual o sentido de termos uma lista de números soltos?"
   ]
  },
  {
   "cell_type": "code",
   "execution_count": 3,
   "id": "detailed-compiler",
   "metadata": {
    "ExecuteTime": {
     "end_time": "2021-07-19T20:06:47.509874Z",
     "start_time": "2021-07-19T20:06:47.497883Z"
    }
   },
   "outputs": [],
   "source": [
    "# Precisamos, de algum modo, conectar os telefones a seus respectivos contatos."
   ]
  },
  {
   "cell_type": "code",
   "execution_count": 4,
   "id": "solar-canon",
   "metadata": {
    "ExecuteTime": {
     "end_time": "2021-07-19T20:06:47.541854Z",
     "start_time": "2021-07-19T20:06:47.525865Z"
    }
   },
   "outputs": [
    {
     "data": {
      "text/plain": [
       "('Yan', '1234-5678')"
      ]
     },
     "execution_count": 4,
     "metadata": {},
     "output_type": "execute_result"
    }
   ],
   "source": [
    "contato = ('Yan', '1234-5678')\n",
    "contato"
   ]
  },
  {
   "cell_type": "code",
   "execution_count": 5,
   "id": "vital-malta",
   "metadata": {
    "ExecuteTime": {
     "end_time": "2021-07-19T20:06:47.573835Z",
     "start_time": "2021-07-19T20:06:47.554847Z"
    }
   },
   "outputs": [
    {
     "data": {
      "text/plain": [
       "[('Yan', '1234-5678'),\n",
       " ('Pedro', '9999-9999'),\n",
       " ('Ana', '8765-4321'),\n",
       " ('Marina', '8877-7788')]"
      ]
     },
     "execution_count": 5,
     "metadata": {},
     "output_type": "execute_result"
    }
   ],
   "source": [
    "contatos_lista = [('Yan', '1234-5678'), ('Pedro', '9999-9999'),\n",
    "                    ('Ana', '8765-4321'), ('Marina', '8877-7788')]\n",
    "contatos_lista"
   ]
  },
  {
   "cell_type": "code",
   "execution_count": 6,
   "id": "empty-tract",
   "metadata": {
    "ExecuteTime": {
     "end_time": "2021-07-19T20:06:47.589825Z",
     "start_time": "2021-07-19T20:06:47.586828Z"
    }
   },
   "outputs": [],
   "source": [
    "# Ok! Se quisermos acessar o número de telefone da Marina, podemos fazer:"
   ]
  },
  {
   "cell_type": "code",
   "execution_count": 7,
   "id": "continent-cooler",
   "metadata": {
    "ExecuteTime": {
     "end_time": "2021-07-19T20:06:47.621806Z",
     "start_time": "2021-07-19T20:06:47.613811Z"
    }
   },
   "outputs": [
    {
     "name": "stdout",
     "output_type": "stream",
     "text": [
      "8877-7788\n"
     ]
    }
   ],
   "source": [
    "print(contatos_lista[3][1])"
   ]
  },
  {
   "cell_type": "code",
   "execution_count": 8,
   "id": "tracked-envelope",
   "metadata": {
    "ExecuteTime": {
     "end_time": "2021-07-19T20:06:47.652786Z",
     "start_time": "2021-07-19T20:06:47.643791Z"
    }
   },
   "outputs": [],
   "source": [
    "# Assim fica díficil acessar os contatos tendo que memorizar as posições dos arrays."
   ]
  },
  {
   "cell_type": "code",
   "execution_count": 9,
   "id": "burning-kennedy",
   "metadata": {
    "ExecuteTime": {
     "end_time": "2021-07-19T20:06:47.683766Z",
     "start_time": "2021-07-19T20:06:47.670775Z"
    }
   },
   "outputs": [],
   "source": [
    "# Vetor associativo:  https://pt.wikipedia.org/wiki/Vetor_associativo"
   ]
  },
  {
   "cell_type": "code",
   "execution_count": 10,
   "id": "realistic-composition",
   "metadata": {
    "ExecuteTime": {
     "end_time": "2021-07-19T20:06:47.714746Z",
     "start_time": "2021-07-19T20:06:47.699758Z"
    }
   },
   "outputs": [
    {
     "name": "stdout",
     "output_type": "stream",
     "text": [
      "<class 'dict'>\n"
     ]
    }
   ],
   "source": [
    "contatos = {'Yan': '1234-5678'}\n",
    "print(type(contatos))"
   ]
  },
  {
   "cell_type": "code",
   "execution_count": 11,
   "id": "private-arena",
   "metadata": {
    "ExecuteTime": {
     "end_time": "2021-07-19T20:06:47.745727Z",
     "start_time": "2021-07-19T20:06:47.728739Z"
    }
   },
   "outputs": [
    {
     "name": "stdout",
     "output_type": "stream",
     "text": [
      "{'Yan': '1234-5678', 'Pedro': '9999-9999', 'Ana': '8765-4321', 'Marina': '8877-7788'}\n"
     ]
    }
   ],
   "source": [
    "contatos_lista = [('Yan', '1234-5678'), ('Pedro', '9999-9999'),\n",
    "                    ('Ana', '8765-4321'), ('Marina', '8877-7788')]\n",
    "\n",
    "contatos = dict(contatos_lista)\n",
    "print(contatos)"
   ]
  },
  {
   "cell_type": "markdown",
   "id": "minute-fourth",
   "metadata": {
    "ExecuteTime": {
     "end_time": "2021-07-16T19:02:57.069928Z",
     "start_time": "2021-07-16T19:02:57.051939Z"
    }
   },
   "source": [
    "## Acessando os itens de um dicionário"
   ]
  },
  {
   "cell_type": "code",
   "execution_count": 12,
   "id": "obvious-basics",
   "metadata": {
    "ExecuteTime": {
     "end_time": "2021-07-19T20:06:47.929613Z",
     "start_time": "2021-07-19T20:06:47.918621Z"
    }
   },
   "outputs": [
    {
     "name": "stdout",
     "output_type": "stream",
     "text": [
      "8765-4321\n"
     ]
    }
   ],
   "source": [
    "print(contatos['Ana'])"
   ]
  },
  {
   "cell_type": "code",
   "execution_count": 13,
   "id": "foreign-relation",
   "metadata": {
    "ExecuteTime": {
     "end_time": "2021-07-19T20:06:47.960593Z",
     "start_time": "2021-07-19T20:06:47.946603Z"
    }
   },
   "outputs": [
    {
     "name": "stdout",
     "output_type": "stream",
     "text": [
      "1234-5678\n",
      "Contato não encontrado\n"
     ]
    }
   ],
   "source": [
    "print(contatos.get('Yan', 'Contato não encontrado'))\n",
    "print(contatos.get('João', 'Contato não encontrado'))"
   ]
  },
  {
   "cell_type": "code",
   "execution_count": 14,
   "id": "logical-munich",
   "metadata": {
    "ExecuteTime": {
     "end_time": "2021-07-19T20:06:47.991573Z",
     "start_time": "2021-07-19T20:06:47.974586Z"
    }
   },
   "outputs": [
    {
     "name": "stdout",
     "output_type": "stream",
     "text": [
      "True\n"
     ]
    }
   ],
   "source": [
    "print('Yan' in contatos)"
   ]
  },
  {
   "cell_type": "code",
   "execution_count": 15,
   "id": "suspected-composition",
   "metadata": {
    "ExecuteTime": {
     "end_time": "2021-07-19T20:06:48.022554Z",
     "start_time": "2021-07-19T20:06:48.004567Z"
    }
   },
   "outputs": [
    {
     "name": "stdout",
     "output_type": "stream",
     "text": [
      "False\n"
     ]
    }
   ],
   "source": [
    "print('9999-9999' in contatos)"
   ]
  },
  {
   "cell_type": "code",
   "execution_count": 16,
   "id": "fresh-conversion",
   "metadata": {
    "ExecuteTime": {
     "end_time": "2021-07-19T20:06:48.038545Z",
     "start_time": "2021-07-19T20:06:48.032549Z"
    }
   },
   "outputs": [
    {
     "name": "stdout",
     "output_type": "stream",
     "text": [
      "True\n"
     ]
    }
   ],
   "source": [
    "print('9999-9999' in contatos.values())"
   ]
  },
  {
   "cell_type": "markdown",
   "id": "educated-antibody",
   "metadata": {
    "ExecuteTime": {
     "end_time": "2021-07-16T20:19:47.869575Z",
     "start_time": "2021-07-16T20:19:47.862579Z"
    }
   },
   "source": [
    "## Adicionando valores ao dicionário"
   ]
  },
  {
   "cell_type": "code",
   "execution_count": 17,
   "id": "electoral-netscape",
   "metadata": {
    "ExecuteTime": {
     "end_time": "2021-07-19T20:06:48.241418Z",
     "start_time": "2021-07-19T20:06:48.234430Z"
    }
   },
   "outputs": [
    {
     "name": "stdout",
     "output_type": "stream",
     "text": [
      "{'Yan': '1234-5678', 'Pedro': '9999-9999', 'Ana': '8765-4321', 'Marina': '8877-7788', 'João': '8887-7778'}\n"
     ]
    }
   ],
   "source": [
    "contatos['João'] = '8887-7778'\n",
    "print(contatos)"
   ]
  },
  {
   "cell_type": "markdown",
   "id": "excited-promotion",
   "metadata": {},
   "source": [
    "## Removendo itens do dicionário"
   ]
  },
  {
   "cell_type": "code",
   "execution_count": 18,
   "id": "saved-blake",
   "metadata": {
    "ExecuteTime": {
     "end_time": "2021-07-19T20:06:48.472273Z",
     "start_time": "2021-07-19T20:06:48.456286Z"
    }
   },
   "outputs": [
    {
     "name": "stdout",
     "output_type": "stream",
     "text": [
      "{'Yan': '1234-5678', 'Pedro': '9999-9999', 'Ana': '8765-4321', 'João': '8887-7778'}\n"
     ]
    }
   ],
   "source": [
    "del contatos['Marina']\n",
    "print(contatos)"
   ]
  },
  {
   "cell_type": "code",
   "execution_count": 19,
   "id": "apparent-folks",
   "metadata": {
    "ExecuteTime": {
     "end_time": "2021-07-19T20:06:48.503254Z",
     "start_time": "2021-07-19T20:06:48.493261Z"
    }
   },
   "outputs": [
    {
     "name": "stdout",
     "output_type": "stream",
     "text": [
      "8877-7788\n",
      "Contato não encontrado\n",
      "\n",
      "{'Yan': '1234-5678', 'Pedro': '9999-9999', 'Ana': '8765-4321', 'João': '8887-7778'}\n"
     ]
    }
   ],
   "source": [
    "contatos = {'Yan': '1234-5678', 'Pedro': '9999-9999', 'Ana': '8765-4321',\n",
    "            'Marina': '8877-7788', 'João': '8887-7778'}\n",
    "\n",
    "print(contatos.pop('Marina', 'Contato não encontrado'))\n",
    "print(contatos.pop('Catarina', 'Contato não encontrado'))\n",
    "print()\n",
    "print(contatos)"
   ]
  },
  {
   "cell_type": "markdown",
   "id": "elementary-carroll",
   "metadata": {},
   "source": [
    "## Juntando dois dicionários"
   ]
  },
  {
   "cell_type": "code",
   "execution_count": 20,
   "id": "homeless-private",
   "metadata": {
    "ExecuteTime": {
     "end_time": "2021-07-19T20:06:48.705129Z",
     "start_time": "2021-07-19T20:06:48.700132Z"
    }
   },
   "outputs": [],
   "source": [
    "contatos_do_pedro = {'Yan': '1234-5678', 'Fernando':'4345-5434',\n",
    "                        'Luiza':'4567-7654'}"
   ]
  },
  {
   "cell_type": "code",
   "execution_count": 21,
   "id": "positive-promotion",
   "metadata": {
    "ExecuteTime": {
     "end_time": "2021-07-19T20:06:48.736108Z",
     "start_time": "2021-07-19T20:06:48.730114Z"
    }
   },
   "outputs": [
    {
     "name": "stdout",
     "output_type": "stream",
     "text": [
      "{'Yan': '1234-5678', 'Pedro': '9999-9999', 'Ana': '8765-4321', 'João': '8887-7778', 'Fernando': '4345-5434', 'Luiza': '4567-7654'}\n"
     ]
    }
   ],
   "source": [
    "meus_contatos = {'Yan': '1234-5678', 'Pedro': '9999-9999',\n",
    "                    'Ana': '8765-4321', 'João': '8887-7778'}\n",
    "\n",
    "contatos_do_pedro = {'Yan': '1234-5678', 'Fernando': '4345-5434',\n",
    "                        'Luiza': '4567-7654'}\n",
    "\n",
    "for nome in contatos_do_pedro:\n",
    "    meus_contatos[nome] = contatos_do_pedro[nome]\n",
    "\n",
    "print(meus_contatos)"
   ]
  },
  {
   "cell_type": "code",
   "execution_count": 22,
   "id": "running-maintenance",
   "metadata": {
    "ExecuteTime": {
     "end_time": "2021-07-19T20:06:48.767089Z",
     "start_time": "2021-07-19T20:06:48.762094Z"
    }
   },
   "outputs": [
    {
     "name": "stdout",
     "output_type": "stream",
     "text": [
      "Yan\n",
      "Fernando\n",
      "Luiza\n"
     ]
    }
   ],
   "source": [
    "for nome in contatos_do_pedro:\n",
    "    print(nome)"
   ]
  },
  {
   "cell_type": "code",
   "execution_count": 23,
   "id": "prime-anaheim",
   "metadata": {
    "ExecuteTime": {
     "end_time": "2021-07-19T20:06:48.798071Z",
     "start_time": "2021-07-19T20:06:48.793074Z"
    }
   },
   "outputs": [],
   "source": [
    "# Usando a função update mesclar dicionários."
   ]
  },
  {
   "cell_type": "code",
   "execution_count": 24,
   "id": "round-blackberry",
   "metadata": {
    "ExecuteTime": {
     "end_time": "2021-07-19T20:06:48.829052Z",
     "start_time": "2021-07-19T20:06:48.821059Z"
    }
   },
   "outputs": [
    {
     "name": "stdout",
     "output_type": "stream",
     "text": [
      "{'Yan': '1234-5678', 'Pedro': '9999-9999', 'Ana': '8765-4321', 'João': '8887-7778', 'Fernando': '4345-5434', 'Luiza': '4567-7654'}\n"
     ]
    }
   ],
   "source": [
    "meus_contatos = {'Yan': '1234-5678', 'Pedro': '9999-9999',\n",
    "                    'Ana': '8765-4321', 'João': '8887-7778'}\n",
    "\n",
    "contatos_do_pedro = {'Yan': '1234-5678', 'Fernando': '4345-5434',\n",
    "                        'Luiza': '4567-7654'}\n",
    "\n",
    "meus_contatos.update(contatos_do_pedro)\n",
    "print(meus_contatos)"
   ]
  },
  {
   "cell_type": "code",
   "execution_count": 25,
   "id": "incomplete-cleaning",
   "metadata": {
    "ExecuteTime": {
     "end_time": "2021-07-19T20:06:48.860033Z",
     "start_time": "2021-07-19T20:06:48.851038Z"
    }
   },
   "outputs": [
    {
     "name": "stdout",
     "output_type": "stream",
     "text": [
      "{'Yan': '91234-5678', 'Pedro': '99999-9999', 'Ana': '98765-4321', 'João': '98887-7778', 'Fernando': '94345-5434', 'Luiza': '94567-7654'}\n"
     ]
    }
   ],
   "source": [
    "meus_contatos_novo = {nome: '9' + meus_contatos[nome] for nome in meus_contatos}\n",
    "print(meus_contatos_novo)"
   ]
  },
  {
   "cell_type": "markdown",
   "id": "dramatic-cameroon",
   "metadata": {},
   "source": [
    "## Views vs. listas"
   ]
  },
  {
   "cell_type": "code",
   "execution_count": 26,
   "id": "quick-forum",
   "metadata": {
    "ExecuteTime": {
     "end_time": "2021-07-19T20:06:49.045916Z",
     "start_time": "2021-07-19T20:06:49.039921Z"
    }
   },
   "outputs": [
    {
     "name": "stdout",
     "output_type": "stream",
     "text": [
      "dict_items([('Yan', '91234-5678'), ('Pedro', '99999-9999'), ('Ana', '98765-4321'), ('João', '98887-7778'), ('Fernando', '94345-5434'), ('Luiza', '94567-7654')])\n"
     ]
    }
   ],
   "source": [
    "valores = meus_contatos_novo.items()\n",
    "print(valores)"
   ]
  },
  {
   "cell_type": "code",
   "execution_count": 27,
   "id": "impaired-latest",
   "metadata": {
    "ExecuteTime": {
     "end_time": "2021-07-19T20:06:49.076900Z",
     "start_time": "2021-07-19T20:06:49.068902Z"
    }
   },
   "outputs": [
    {
     "name": "stdout",
     "output_type": "stream",
     "text": [
      "dict_keys(['Yan', 'Pedro', 'Ana', 'João', 'Fernando', 'Luiza'])\n"
     ]
    }
   ],
   "source": [
    "valores = meus_contatos_novo.keys()\n",
    "print(valores)"
   ]
  },
  {
   "cell_type": "code",
   "execution_count": 28,
   "id": "previous-junction",
   "metadata": {
    "ExecuteTime": {
     "end_time": "2021-07-19T20:06:49.107876Z",
     "start_time": "2021-07-19T20:06:49.095887Z"
    }
   },
   "outputs": [
    {
     "name": "stdout",
     "output_type": "stream",
     "text": [
      "dict_values(['91234-5678', '99999-9999', '98765-4321', '98887-7778', '94345-5434', '94567-7654'])\n"
     ]
    }
   ],
   "source": [
    "valores = meus_contatos_novo.values()\n",
    "print(valores)"
   ]
  },
  {
   "cell_type": "code",
   "execution_count": 29,
   "id": "narrative-ecuador",
   "metadata": {
    "ExecuteTime": {
     "end_time": "2021-07-19T20:06:49.138858Z",
     "start_time": "2021-07-19T20:06:49.123869Z"
    }
   },
   "outputs": [
    {
     "name": "stdout",
     "output_type": "stream",
     "text": [
      "dict_values(['91234-5678', '99999-9999', '98765-4321', '98887-7778', '94345-5434', '94567-7654'])\n",
      "dict_values(['91122-3344', '99999-9999', '98765-4321', '98887-7778', '94345-5434', '94567-7654'])\n"
     ]
    }
   ],
   "source": [
    "valores = meus_contatos_novo.values()\n",
    "print(valores)\n",
    "\n",
    "meus_contatos_novo['Yan'] = '91122-3344'\n",
    "print(valores)"
   ]
  },
  {
   "cell_type": "code",
   "execution_count": 30,
   "id": "statistical-sierra",
   "metadata": {
    "ExecuteTime": {
     "end_time": "2021-07-19T20:06:49.153848Z",
     "start_time": "2021-07-19T20:06:49.150851Z"
    }
   },
   "outputs": [
    {
     "name": "stdout",
     "output_type": "stream",
     "text": [
      "24\n"
     ]
    }
   ],
   "source": [
    "print(valores.__sizeof__())"
   ]
  },
  {
   "cell_type": "markdown",
   "id": "invisible-thinking",
   "metadata": {
    "ExecuteTime": {
     "end_time": "2021-07-16T21:08:56.804742Z",
     "start_time": "2021-07-16T21:08:56.792752Z"
    }
   },
   "source": [
    "# Ordenando listas no Python"
   ]
  },
  {
   "cell_type": "code",
   "execution_count": 31,
   "id": "marine-bronze",
   "metadata": {
    "ExecuteTime": {
     "end_time": "2021-07-19T20:06:49.355727Z",
     "start_time": "2021-07-19T20:06:49.345730Z"
    }
   },
   "outputs": [],
   "source": [
    "# produto =  [nome:chocolate valor:3.45, \n",
    "#              nome:biscoito valor:2.49, \n",
    "#              nome:cafe valor:3.45, \n",
    "#              nome:suco valor:4.3, \n",
    "#              nome:feijao valor:10.0, \n",
    "#              nome:arroz valor:8.5\n",
    "#             ]"
   ]
  },
  {
   "cell_type": "code",
   "execution_count": 32,
   "id": "voluntary-still",
   "metadata": {
    "ExecuteTime": {
     "end_time": "2021-07-19T20:06:49.386702Z",
     "start_time": "2021-07-19T20:06:49.377710Z"
    },
    "code_folding": [
     1,
     5,
     8,
     11
    ]
   },
   "outputs": [],
   "source": [
    "class Produto(object): \n",
    "  def __init__(self, nome, valor): \n",
    "    self.__nome = nome \n",
    "    self.__valor = valor \n",
    "\n",
    "  def __repr__(self): \n",
    "    return \"nome:%s valor:%s\" % (self.__nome, self.__valor)\n",
    "\n",
    "  def get_nome(self): \n",
    "    return self.__nome\n",
    "\n",
    "  def get_valor(self): \n",
    "    return self.__valor"
   ]
  },
  {
   "cell_type": "code",
   "execution_count": 33,
   "id": "manufactured-representation",
   "metadata": {
    "ExecuteTime": {
     "end_time": "2021-07-19T20:06:49.417684Z",
     "start_time": "2021-07-19T20:06:49.406690Z"
    }
   },
   "outputs": [],
   "source": [
    "#### Ordenando lista de números no Python"
   ]
  },
  {
   "cell_type": "code",
   "execution_count": 34,
   "id": "weird-discussion",
   "metadata": {
    "ExecuteTime": {
     "end_time": "2021-07-19T20:06:49.448664Z",
     "start_time": "2021-07-19T20:06:49.432676Z"
    }
   },
   "outputs": [
    {
     "name": "stdout",
     "output_type": "stream",
     "text": [
      "[4, 2, 6, 1, 3]\n",
      "[1, 2, 3, 4, 6]\n"
     ]
    }
   ],
   "source": [
    "numeros = [4,2,6,1,3] \n",
    "numeros_ordenados = sorted(numeros)\n",
    "\n",
    "print(numeros) \n",
    "print(numeros_ordenados)"
   ]
  },
  {
   "cell_type": "code",
   "execution_count": 35,
   "id": "incorporate-comparative",
   "metadata": {
    "ExecuteTime": {
     "end_time": "2021-07-19T20:06:49.464654Z",
     "start_time": "2021-07-19T20:06:49.460658Z"
    }
   },
   "outputs": [],
   "source": [
    "#### Ordenando lista de strings no Python"
   ]
  },
  {
   "cell_type": "code",
   "execution_count": 36,
   "id": "acquired-badge",
   "metadata": {
    "ExecuteTime": {
     "end_time": "2021-07-19T20:06:49.495635Z",
     "start_time": "2021-07-19T20:06:49.489641Z"
    },
    "run_control": {
     "marked": true
    }
   },
   "outputs": [
    {
     "name": "stdout",
     "output_type": "stream",
     "text": [
      "['chocolate', 'biscoito', 'cafe', 'suco', 'feijao', 'arroz']\n",
      "['ARROZ', 'BISCOITO', 'CAFE', 'CHOCOLATE', 'FEIJAO', 'SUCO']\n"
     ]
    }
   ],
   "source": [
    "palavras = [\"chocolate\",\"biscoito\", \"cafe\", \"suco\", \"feijao\", \"arroz\"] \n",
    "palavras_ordenadas = [palavras.lower() for palavras in palavras]\n",
    "palavras_ordenadas = [palavras.upper() for palavras in palavras]\n",
    "palavras_ordenadas = sorted(palavras_ordenadas)\n",
    "\n",
    "print (palavras) \n",
    "print (palavras_ordenadas)"
   ]
  },
  {
   "cell_type": "code",
   "execution_count": 37,
   "id": "blocked-minutes",
   "metadata": {
    "ExecuteTime": {
     "end_time": "2021-07-19T20:06:49.526623Z",
     "start_time": "2021-07-19T20:06:49.518628Z"
    }
   },
   "outputs": [],
   "source": [
    "#### Ordenando lista de objetos no Python"
   ]
  },
  {
   "cell_type": "code",
   "execution_count": 38,
   "id": "invalid-lightweight",
   "metadata": {
    "ExecuteTime": {
     "end_time": "2021-07-19T20:06:49.557602Z",
     "start_time": "2021-07-19T20:06:49.549608Z"
    }
   },
   "outputs": [],
   "source": [
    "class Produto(object): \n",
    "  def __init__(self, nome, valor): \n",
    "    self.__nome = nome \n",
    "    self.__valor = valor \n",
    "\n",
    "  def __repr__(self): \n",
    "    return \"nome:%s valor:%s\" % (self.__nome, self.__valor)\n",
    "\n",
    "  def get_nome(self): \n",
    "    return self.__nome\n",
    "\n",
    "  def get_valor(self): \n",
    "    return self.__valor"
   ]
  },
  {
   "cell_type": "code",
   "execution_count": 47,
   "id": "adaptive-lambda",
   "metadata": {
    "ExecuteTime": {
     "end_time": "2021-07-19T20:11:46.659168Z",
     "start_time": "2021-07-19T20:11:46.644178Z"
    }
   },
   "outputs": [],
   "source": [
    "lista_de_produto = []\n",
    "lista_de_produto.append(Produto(\"chocolate\", 3.45))\n",
    "lista_de_produto.append(Produto(\"biscoito\", 2.49))\n",
    "lista_de_produto.append(Produto(\"cafe\", 3.45))\n",
    "lista_de_produto.append(Produto(\"suco\", 4.30))\n",
    "lista_de_produto.append(Produto(\"feijao\", 10.00))\n",
    "lista_de_produto.append(Produto(\"arroz\", 8.50))"
   ]
  },
  {
   "cell_type": "code",
   "execution_count": 48,
   "id": "southwest-specification",
   "metadata": {
    "ExecuteTime": {
     "end_time": "2021-07-19T20:11:48.107651Z",
     "start_time": "2021-07-19T20:11:48.099657Z"
    }
   },
   "outputs": [
    {
     "name": "stdout",
     "output_type": "stream",
     "text": [
      "nome:chocolate valor:3.45\n",
      "nome:biscoito valor:2.49\n",
      "nome:cafe valor:3.45\n",
      "nome:suco valor:4.3\n",
      "nome:feijao valor:10.0\n",
      "nome:arroz valor:8.5\n"
     ]
    }
   ],
   "source": [
    "for i in lista_de_produto:\n",
    "    print(i)"
   ]
  },
  {
   "cell_type": "code",
   "execution_count": 49,
   "id": "personalized-theorem",
   "metadata": {
    "ExecuteTime": {
     "end_time": "2021-07-19T20:11:49.315913Z",
     "start_time": "2021-07-19T20:11:49.299922Z"
    }
   },
   "outputs": [
    {
     "data": {
      "text/plain": [
       "[nome:chocolate valor:3.45,\n",
       " nome:biscoito valor:2.49,\n",
       " nome:cafe valor:3.45,\n",
       " nome:suco valor:4.3,\n",
       " nome:feijao valor:10.0,\n",
       " nome:arroz valor:8.5]"
      ]
     },
     "execution_count": 49,
     "metadata": {},
     "output_type": "execute_result"
    }
   ],
   "source": [
    "[produto for produto in lista_de_produto]"
   ]
  },
  {
   "cell_type": "code",
   "execution_count": 62,
   "id": "naked-casting",
   "metadata": {
    "ExecuteTime": {
     "end_time": "2021-07-19T20:14:53.988794Z",
     "start_time": "2021-07-19T20:14:53.972805Z"
    }
   },
   "outputs": [
    {
     "name": "stdout",
     "output_type": "stream",
     "text": [
      "[nome:chocolate valor:3.45, nome:biscoito valor:2.49, nome:cafe valor:3.45, nome:suco valor:4.3, nome:feijao valor:10.0, nome:arroz valor:8.5]\n",
      "\n",
      "[nome:biscoito valor:2.49, nome:chocolate valor:3.45, nome:cafe valor:3.45, nome:suco valor:4.3, nome:arroz valor:8.5, nome:feijao valor:10.0]\n"
     ]
    }
   ],
   "source": [
    "# Ordenando valores do objeto\n",
    "produtos_ordenados = sorted(lista_de_produto, key = Produto.get_valor)\n",
    "\n",
    "print(lista_de_produto) \n",
    "print()\n",
    "print(produtos_ordenados)"
   ]
  },
  {
   "cell_type": "code",
   "execution_count": 63,
   "id": "laden-gazette",
   "metadata": {
    "ExecuteTime": {
     "end_time": "2021-07-19T20:16:02.544621Z",
     "start_time": "2021-07-19T20:16:02.529629Z"
    }
   },
   "outputs": [
    {
     "name": "stdout",
     "output_type": "stream",
     "text": [
      "[nome:chocolate valor:3.45, nome:biscoito valor:2.49, nome:cafe valor:3.45, nome:suco valor:4.3, nome:feijao valor:10.0, nome:arroz valor:8.5]\n",
      "\n",
      "[nome:feijao valor:10.0, nome:arroz valor:8.5, nome:suco valor:4.3, nome:chocolate valor:3.45, nome:cafe valor:3.45, nome:biscoito valor:2.49]\n"
     ]
    }
   ],
   "source": [
    "# Ordenando valores do objeto na ordem reversa\n",
    "produtos_ordenados = sorted(lista_de_produto, key = Produto.get_valor, reverse=True)\n",
    "\n",
    "print(lista_de_produto) \n",
    "print()\n",
    "print(produtos_ordenados)"
   ]
  },
  {
   "cell_type": "code",
   "execution_count": 64,
   "id": "rocky-treasury",
   "metadata": {
    "ExecuteTime": {
     "end_time": "2021-07-19T20:16:53.541077Z",
     "start_time": "2021-07-19T20:16:53.523090Z"
    }
   },
   "outputs": [
    {
     "name": "stdout",
     "output_type": "stream",
     "text": [
      "[nome:chocolate valor:3.45, nome:biscoito valor:2.49, nome:cafe valor:3.45, nome:suco valor:4.3, nome:feijao valor:10.0, nome:arroz valor:8.5]\n",
      "\n",
      "[nome:suco valor:4.3, nome:feijao valor:10.0, nome:chocolate valor:3.45, nome:cafe valor:3.45, nome:biscoito valor:2.49, nome:arroz valor:8.5]\n"
     ]
    }
   ],
   "source": [
    "# Ordenando valores ordem de nome\n",
    "produtos_ordenados = sorted(lista_de_produto, key = Produto.get_nome, reverse=True)\n",
    "\n",
    "print(lista_de_produto) \n",
    "print()\n",
    "print(produtos_ordenados)"
   ]
  }
 ],
 "metadata": {
  "hide_input": false,
  "kernelspec": {
   "display_name": "Python 3",
   "language": "python",
   "name": "python3"
  },
  "language_info": {
   "codemirror_mode": {
    "name": "ipython",
    "version": 3
   },
   "file_extension": ".py",
   "mimetype": "text/x-python",
   "name": "python",
   "nbconvert_exporter": "python",
   "pygments_lexer": "ipython3",
   "version": "3.7.5"
  },
  "latex_envs": {
   "LaTeX_envs_menu_present": true,
   "autoclose": false,
   "autocomplete": true,
   "bibliofile": "biblio.bib",
   "cite_by": "apalike",
   "current_citInitial": 1,
   "eqLabelWithNumbers": true,
   "eqNumInitial": 1,
   "hotkeys": {
    "equation": "Ctrl-E",
    "itemize": "Ctrl-I"
   },
   "labels_anchors": false,
   "latex_user_defs": false,
   "report_style_numbering": false,
   "user_envs_cfg": false
  },
  "nbTranslate": {
   "displayLangs": [
    "*"
   ],
   "hotkey": "alt-t",
   "langInMainMenu": true,
   "sourceLang": "en",
   "targetLang": "fr",
   "useGoogleTranslate": true
  },
  "toc": {
   "base_numbering": 1,
   "nav_menu": {},
   "number_sections": true,
   "sideBar": true,
   "skip_h1_title": false,
   "title_cell": "Table of Contents",
   "title_sidebar": "Contents",
   "toc_cell": false,
   "toc_position": {},
   "toc_section_display": true,
   "toc_window_display": false
  },
  "varInspector": {
   "cols": {
    "lenName": 16,
    "lenType": 16,
    "lenVar": 40
   },
   "kernels_config": {
    "python": {
     "delete_cmd_postfix": "",
     "delete_cmd_prefix": "del ",
     "library": "var_list.py",
     "varRefreshCmd": "print(var_dic_list())"
    },
    "r": {
     "delete_cmd_postfix": ") ",
     "delete_cmd_prefix": "rm(",
     "library": "var_list.r",
     "varRefreshCmd": "cat(var_dic_list()) "
    }
   },
   "types_to_exclude": [
    "module",
    "function",
    "builtin_function_or_method",
    "instance",
    "_Feature"
   ],
   "window_display": false
  }
 },
 "nbformat": 4,
 "nbformat_minor": 5
}
