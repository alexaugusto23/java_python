{
 "cells": [
  {
   "cell_type": "markdown",
   "id": "written-moral",
   "metadata": {},
   "source": [
    "# Introdução a Collections"
   ]
  },
  {
   "cell_type": "code",
   "execution_count": 198,
   "id": "impaired-devon",
   "metadata": {},
   "outputs": [
    {
     "name": "stdout",
     "output_type": "stream",
     "text": [
      "39\n",
      "30\n",
      "27\n",
      "18\n"
     ]
    }
   ],
   "source": [
    "idade1 = 39\n",
    "idade2 = 30\n",
    "idade3 = 27\n",
    "idade4 = 18\n",
    "\n",
    "print(idade1)\n",
    "print(idade2)\n",
    "print(idade3)\n",
    "print(idade4)"
   ]
  },
  {
   "cell_type": "code",
   "execution_count": 199,
   "id": "victorian-retention",
   "metadata": {},
   "outputs": [],
   "source": [
    "idades = [39,30,27,18]"
   ]
  },
  {
   "cell_type": "code",
   "execution_count": 200,
   "id": "worst-northwest",
   "metadata": {},
   "outputs": [
    {
     "data": {
      "text/plain": [
       "list"
      ]
     },
     "execution_count": 200,
     "metadata": {},
     "output_type": "execute_result"
    }
   ],
   "source": [
    "type(idades)"
   ]
  },
  {
   "cell_type": "code",
   "execution_count": 201,
   "id": "stupid-century",
   "metadata": {},
   "outputs": [
    {
     "data": {
      "text/plain": [
       "4"
      ]
     },
     "execution_count": 201,
     "metadata": {},
     "output_type": "execute_result"
    }
   ],
   "source": [
    "len(idades)"
   ]
  },
  {
   "cell_type": "code",
   "execution_count": 202,
   "id": "executive-hawaii",
   "metadata": {},
   "outputs": [
    {
     "data": {
      "text/plain": [
       "39"
      ]
     },
     "execution_count": 202,
     "metadata": {},
     "output_type": "execute_result"
    }
   ],
   "source": [
    "idades[0]"
   ]
  },
  {
   "cell_type": "code",
   "execution_count": 203,
   "id": "acknowledged-ticket",
   "metadata": {},
   "outputs": [
    {
     "data": {
      "text/plain": [
       "[39, 30, 27, 18]"
      ]
     },
     "execution_count": 203,
     "metadata": {},
     "output_type": "execute_result"
    }
   ],
   "source": [
    "idades"
   ]
  },
  {
   "cell_type": "code",
   "execution_count": 204,
   "id": "preliminary-outline",
   "metadata": {},
   "outputs": [
    {
     "name": "stdout",
     "output_type": "stream",
     "text": [
      "39\n",
      "30\n",
      "27\n",
      "18\n"
     ]
    }
   ],
   "source": [
    "print(idades[0])\n",
    "print(idades[1])\n",
    "print(idades[2])\n",
    "print(idades[3])"
   ]
  },
  {
   "cell_type": "code",
   "execution_count": 205,
   "id": "several-poker",
   "metadata": {},
   "outputs": [],
   "source": [
    "idades.append(15)"
   ]
  },
  {
   "cell_type": "code",
   "execution_count": 206,
   "id": "bearing-america",
   "metadata": {},
   "outputs": [
    {
     "data": {
      "text/plain": [
       "[39, 30, 27, 18, 15]"
      ]
     },
     "execution_count": 206,
     "metadata": {},
     "output_type": "execute_result"
    }
   ],
   "source": [
    "idades"
   ]
  },
  {
   "cell_type": "code",
   "execution_count": 207,
   "id": "athletic-blade",
   "metadata": {},
   "outputs": [],
   "source": [
    "idades.remove(30)"
   ]
  },
  {
   "cell_type": "code",
   "execution_count": 208,
   "id": "champion-ecology",
   "metadata": {},
   "outputs": [
    {
     "data": {
      "text/plain": [
       "[39, 27, 18, 15]"
      ]
     },
     "execution_count": 208,
     "metadata": {},
     "output_type": "execute_result"
    }
   ],
   "source": [
    "idades"
   ]
  },
  {
   "cell_type": "code",
   "execution_count": 209,
   "id": "humanitarian-charleston",
   "metadata": {},
   "outputs": [],
   "source": [
    "idades.append(15)"
   ]
  },
  {
   "cell_type": "code",
   "execution_count": 210,
   "id": "qualified-pickup",
   "metadata": {},
   "outputs": [
    {
     "data": {
      "text/plain": [
       "[39, 27, 18, 15, 15]"
      ]
     },
     "execution_count": 210,
     "metadata": {},
     "output_type": "execute_result"
    }
   ],
   "source": [
    "idades"
   ]
  },
  {
   "cell_type": "code",
   "execution_count": 211,
   "id": "extra-wales",
   "metadata": {},
   "outputs": [],
   "source": [
    "idades.remove(15)"
   ]
  },
  {
   "cell_type": "code",
   "execution_count": 212,
   "id": "professional-transcript",
   "metadata": {},
   "outputs": [
    {
     "data": {
      "text/plain": [
       "[39, 27, 18, 15]"
      ]
     },
     "execution_count": 212,
     "metadata": {},
     "output_type": "execute_result"
    }
   ],
   "source": [
    "idades"
   ]
  },
  {
   "cell_type": "code",
   "execution_count": 213,
   "id": "static-intensity",
   "metadata": {},
   "outputs": [],
   "source": [
    "idades.append(27)"
   ]
  },
  {
   "cell_type": "code",
   "execution_count": 214,
   "id": "saving-celtic",
   "metadata": {},
   "outputs": [
    {
     "data": {
      "text/plain": [
       "[39, 18, 15, 27]"
      ]
     },
     "execution_count": 214,
     "metadata": {},
     "output_type": "execute_result"
    }
   ],
   "source": [
    "idades.remove(27)\n",
    "idades"
   ]
  },
  {
   "cell_type": "code",
   "execution_count": 215,
   "id": "pointed-pillow",
   "metadata": {},
   "outputs": [
    {
     "data": {
      "text/plain": [
       "[]"
      ]
     },
     "execution_count": 215,
     "metadata": {},
     "output_type": "execute_result"
    }
   ],
   "source": [
    "idades.clear()\n",
    "idades"
   ]
  },
  {
   "cell_type": "code",
   "execution_count": 216,
   "id": "suspected-mixture",
   "metadata": {},
   "outputs": [
    {
     "data": {
      "text/plain": [
       "False"
      ]
     },
     "execution_count": 216,
     "metadata": {},
     "output_type": "execute_result"
    }
   ],
   "source": [
    "28 in idades"
   ]
  },
  {
   "cell_type": "code",
   "execution_count": 217,
   "id": "settled-pacific",
   "metadata": {},
   "outputs": [
    {
     "data": {
      "text/plain": [
       "False"
      ]
     },
     "execution_count": 217,
     "metadata": {},
     "output_type": "execute_result"
    }
   ],
   "source": [
    "15 in idades"
   ]
  },
  {
   "cell_type": "code",
   "execution_count": 218,
   "id": "rapid-folder",
   "metadata": {},
   "outputs": [],
   "source": [
    "idades = [39,28,27,18]"
   ]
  },
  {
   "cell_type": "code",
   "execution_count": 219,
   "id": "sunset-christopher",
   "metadata": {},
   "outputs": [
    {
     "data": {
      "text/plain": [
       "[39, 27, 18]"
      ]
     },
     "execution_count": 219,
     "metadata": {},
     "output_type": "execute_result"
    }
   ],
   "source": [
    "if 28 in idades:\n",
    "    idades.remove(28)\n",
    "idades"
   ]
  },
  {
   "cell_type": "code",
   "execution_count": 220,
   "id": "regular-wallace",
   "metadata": {},
   "outputs": [
    {
     "data": {
      "text/plain": [
       "[20, 39, 27, 18]"
      ]
     },
     "execution_count": 220,
     "metadata": {},
     "output_type": "execute_result"
    }
   ],
   "source": [
    "idades.insert(0,20)\n",
    "idades"
   ]
  },
  {
   "cell_type": "code",
   "execution_count": 221,
   "id": "oriented-contents",
   "metadata": {
    "scrolled": true
   },
   "outputs": [
    {
     "data": {
      "text/plain": [
       "[20, 39, 18]"
      ]
     },
     "execution_count": 221,
     "metadata": {},
     "output_type": "execute_result"
    }
   ],
   "source": [
    "idades = [20, 39, 18]\n",
    "idades"
   ]
  },
  {
   "cell_type": "code",
   "execution_count": 222,
   "id": "prostate-queens",
   "metadata": {},
   "outputs": [
    {
     "data": {
      "text/plain": [
       "[20, 39, 18, [27, 19]]"
      ]
     },
     "execution_count": 222,
     "metadata": {},
     "output_type": "execute_result"
    }
   ],
   "source": [
    "idades.append([27,19])\n",
    "idades"
   ]
  },
  {
   "cell_type": "code",
   "execution_count": 223,
   "id": "caring-accuracy",
   "metadata": {},
   "outputs": [
    {
     "name": "stdout",
     "output_type": "stream",
     "text": [
      "Recebi o elemento 20\n",
      "Recebi o elemento 39\n",
      "Recebi o elemento 18\n",
      "Recebi o elemento [27, 19]\n"
     ]
    }
   ],
   "source": [
    "for elemento in idades:\n",
    "    print(\"Recebi o elemento\", elemento) "
   ]
  },
  {
   "cell_type": "code",
   "execution_count": 224,
   "id": "present-blocking",
   "metadata": {},
   "outputs": [
    {
     "data": {
      "text/plain": [
       "[20, 39, 18, 27, 19]"
      ]
     },
     "execution_count": 224,
     "metadata": {},
     "output_type": "execute_result"
    }
   ],
   "source": [
    "idades = [20, 39, 18]\n",
    "idades.extend([27,19])\n",
    "idades"
   ]
  },
  {
   "cell_type": "code",
   "execution_count": 225,
   "id": "sonic-given",
   "metadata": {},
   "outputs": [
    {
     "name": "stdout",
     "output_type": "stream",
     "text": [
      "[20, 15, 30, 39, 30, 18, 30, 31, 45]\n"
     ]
    },
    {
     "data": {
      "text/plain": [
       "[20, 15, 39, 18, 31, 45]"
      ]
     },
     "execution_count": 225,
     "metadata": {},
     "output_type": "execute_result"
    }
   ],
   "source": [
    "idades = [20, 15, 30, 39, 30, 18, 30 , 31, 45]\n",
    "print(idades)\n",
    "while 30 in idades:\n",
    "    idades.remove(30)\n",
    "idades"
   ]
  },
  {
   "cell_type": "code",
   "execution_count": 226,
   "id": "veterinary-excellence",
   "metadata": {},
   "outputs": [
    {
     "name": "stdout",
     "output_type": "stream",
     "text": [
      "21\n",
      "40\n",
      "19\n",
      "28\n",
      "20\n"
     ]
    }
   ],
   "source": [
    "idades = [20, 39, 18, 27, 19]\n",
    "for idade in idades:\n",
    "    print(idade +1)"
   ]
  },
  {
   "cell_type": "code",
   "execution_count": 227,
   "id": "processed-people",
   "metadata": {},
   "outputs": [
    {
     "data": {
      "text/plain": [
       "[21, 40, 19, 28, 20]"
      ]
     },
     "execution_count": 227,
     "metadata": {},
     "output_type": "execute_result"
    }
   ],
   "source": [
    "idades = [20, 39, 18, 27, 19]\n",
    "idade_no_ano_que_vem = []\n",
    "for idade in idades:\n",
    "    idade_no_ano_que_vem.append(idade +1)\n",
    "idade_no_ano_que_vem"
   ]
  },
  {
   "cell_type": "code",
   "execution_count": 228,
   "id": "indonesian-skiing",
   "metadata": {},
   "outputs": [
    {
     "data": {
      "text/plain": [
       "[21, 40, 19, 28, 20]"
      ]
     },
     "execution_count": 228,
     "metadata": {},
     "output_type": "execute_result"
    }
   ],
   "source": [
    "idade_no_ano_que_vem2 = [(idade + 1) for idade in idades]\n",
    "idade_no_ano_que_vem2"
   ]
  },
  {
   "cell_type": "code",
   "execution_count": 229,
   "id": "forced-freedom",
   "metadata": {},
   "outputs": [
    {
     "data": {
      "text/plain": [
       "[39, 27]"
      ]
     },
     "execution_count": 229,
     "metadata": {},
     "output_type": "execute_result"
    }
   ],
   "source": [
    "[idade for idade in idades if idade > 21]"
   ]
  },
  {
   "cell_type": "code",
   "execution_count": 230,
   "id": "specific-trash",
   "metadata": {},
   "outputs": [],
   "source": [
    "#list comprehension"
   ]
  },
  {
   "cell_type": "code",
   "execution_count": 231,
   "id": "embedded-practitioner",
   "metadata": {},
   "outputs": [],
   "source": [
    "def faz_processamento_de_visualizacao(lista):\n",
    "    print(len(lista))"
   ]
  },
  {
   "cell_type": "code",
   "execution_count": 232,
   "id": "sweet-venezuela",
   "metadata": {},
   "outputs": [
    {
     "name": "stdout",
     "output_type": "stream",
     "text": [
      "5\n"
     ]
    },
    {
     "data": {
      "text/plain": [
       "[16, 21, 29, 56, 43]"
      ]
     },
     "execution_count": 232,
     "metadata": {},
     "output_type": "execute_result"
    }
   ],
   "source": [
    "idades = [16, 21, 29, 56, 43]\n",
    "faz_processamento_de_visualizacao(idades)\n",
    "idades\n"
   ]
  },
  {
   "cell_type": "code",
   "execution_count": 233,
   "id": "protective-garbage",
   "metadata": {
    "scrolled": false
   },
   "outputs": [
    {
     "name": "stdout",
     "output_type": "stream",
     "text": [
      "0\n",
      "[]\n",
      "1\n",
      "[13]\n",
      "2\n",
      "[13, 13]\n",
      "3\n",
      "[13, 13, 13]\n",
      "4\n",
      "[13, 13, 13, 13]\n"
     ]
    }
   ],
   "source": [
    "def faz_processamento_de_visualizacao(lista = []):\n",
    "    print(len(lista))\n",
    "    print(lista)\n",
    "    lista.append(13)\n",
    "faz_processamento_de_visualizacao()\n",
    "faz_processamento_de_visualizacao()\n",
    "faz_processamento_de_visualizacao()\n",
    "faz_processamento_de_visualizacao()\n",
    "faz_processamento_de_visualizacao()"
   ]
  },
  {
   "cell_type": "code",
   "execution_count": 234,
   "id": "sporting-focus",
   "metadata": {},
   "outputs": [
    {
     "name": "stdout",
     "output_type": "stream",
     "text": [
      "0\n",
      "[]\n",
      "0\n",
      "[]\n",
      "0\n",
      "[]\n",
      "0\n",
      "[]\n",
      "0\n",
      "[]\n"
     ]
    }
   ],
   "source": [
    "def faz_processamento_de_visualizacao(lista = None):\n",
    "    if lista == None: lista = list()\n",
    "    print(len(lista))\n",
    "    print(lista)\n",
    "    lista.append(13)\n",
    "faz_processamento_de_visualizacao()\n",
    "faz_processamento_de_visualizacao()\n",
    "faz_processamento_de_visualizacao()\n",
    "faz_processamento_de_visualizacao()\n",
    "faz_processamento_de_visualizacao()"
   ]
  },
  {
   "cell_type": "markdown",
   "id": "olive-central",
   "metadata": {},
   "source": [
    "# Objetos próprios"
   ]
  },
  {
   "cell_type": "code",
   "execution_count": 235,
   "id": "sufficient-percentage",
   "metadata": {},
   "outputs": [],
   "source": [
    "class ContaCorrente:\n",
    "    def __init__(self, codigo):\n",
    "        self.codigo = codigo\n",
    "        self.saldo = 0\n",
    "    \n",
    "    def deposita(self, valor):\n",
    "        self.saldo += valor\n",
    "    \n",
    "    def __str__(self):\n",
    "        return \"(>>codigo {} saldo {} <<)\".format(self.codigo, self.saldo)"
   ]
  },
  {
   "cell_type": "code",
   "execution_count": 236,
   "id": "adequate-press",
   "metadata": {},
   "outputs": [
    {
     "name": "stdout",
     "output_type": "stream",
     "text": [
      "(>>codigo 15 saldo 0 <<)\n"
     ]
    }
   ],
   "source": [
    "conta_alex = ContaCorrente(15)\n",
    "print(conta_alex)"
   ]
  },
  {
   "cell_type": "code",
   "execution_count": 237,
   "id": "stone-thanks",
   "metadata": {},
   "outputs": [],
   "source": [
    "conta_alex.deposita(500)"
   ]
  },
  {
   "cell_type": "code",
   "execution_count": 238,
   "id": "eleven-stevens",
   "metadata": {},
   "outputs": [
    {
     "name": "stdout",
     "output_type": "stream",
     "text": [
      "(>>codigo 15 saldo 500 <<)\n"
     ]
    }
   ],
   "source": [
    "print(conta_alex)"
   ]
  },
  {
   "cell_type": "code",
   "execution_count": 239,
   "id": "meaningful-rocket",
   "metadata": {
    "collapsed": true
   },
   "outputs": [],
   "source": [
    "conta_da_dani = ContaCorrente(47685)"
   ]
  },
  {
   "cell_type": "code",
   "execution_count": 240,
   "id": "sunrise-south",
   "metadata": {},
   "outputs": [
    {
     "name": "stdout",
     "output_type": "stream",
     "text": [
      "(>>codigo 47685 saldo 1000 <<)\n"
     ]
    }
   ],
   "source": [
    "conta_da_dani.deposita(1000)\n",
    "print(conta_da_dani)"
   ]
  },
  {
   "cell_type": "code",
   "execution_count": 241,
   "id": "color-transmission",
   "metadata": {},
   "outputs": [
    {
     "name": "stdout",
     "output_type": "stream",
     "text": [
      "[<__main__.ContaCorrente object at 0x000001F897660788>, <__main__.ContaCorrente object at 0x000001F89A6A4888>]\n"
     ]
    }
   ],
   "source": [
    "contas = [conta_alex, conta_da_dani]\n",
    "print(contas)"
   ]
  },
  {
   "cell_type": "code",
   "execution_count": 242,
   "id": "available-shopper",
   "metadata": {},
   "outputs": [
    {
     "name": "stdout",
     "output_type": "stream",
     "text": [
      "(>>codigo 15 saldo 500 <<)\n",
      "(>>codigo 47685 saldo 1000 <<)\n"
     ]
    }
   ],
   "source": [
    "for conta in contas:\n",
    "    print(conta)"
   ]
  },
  {
   "cell_type": "code",
   "execution_count": 243,
   "id": "israeli-karen",
   "metadata": {},
   "outputs": [],
   "source": [
    "contas = [conta_alex, conta_da_dani, conta_alex]"
   ]
  },
  {
   "cell_type": "code",
   "execution_count": 244,
   "id": "binding-pontiac",
   "metadata": {},
   "outputs": [
    {
     "name": "stdout",
     "output_type": "stream",
     "text": [
      "(>>codigo 15 saldo 500 <<)\n"
     ]
    }
   ],
   "source": [
    "print(contas[0])"
   ]
  },
  {
   "cell_type": "code",
   "execution_count": 245,
   "id": "exempt-three",
   "metadata": {},
   "outputs": [],
   "source": [
    "conta_alex.deposita(100)"
   ]
  },
  {
   "cell_type": "code",
   "execution_count": 246,
   "id": "alien-enemy",
   "metadata": {},
   "outputs": [
    {
     "name": "stdout",
     "output_type": "stream",
     "text": [
      "(>>codigo 15 saldo 600 <<)\n"
     ]
    }
   ],
   "source": [
    "print(contas[0])"
   ]
  },
  {
   "cell_type": "code",
   "execution_count": 247,
   "id": "olive-manchester",
   "metadata": {},
   "outputs": [
    {
     "name": "stdout",
     "output_type": "stream",
     "text": [
      "(>>codigo 15 saldo 600 <<)\n"
     ]
    }
   ],
   "source": [
    "print(conta_alex)"
   ]
  },
  {
   "cell_type": "code",
   "execution_count": 248,
   "id": "caring-corpus",
   "metadata": {},
   "outputs": [],
   "source": [
    "contas[2].deposita(300)"
   ]
  },
  {
   "cell_type": "code",
   "execution_count": 249,
   "id": "english-buffer",
   "metadata": {},
   "outputs": [
    {
     "name": "stdout",
     "output_type": "stream",
     "text": [
      "(>>codigo 15 saldo 900 <<)\n"
     ]
    }
   ],
   "source": [
    "print(conta_alex)"
   ]
  },
  {
   "cell_type": "code",
   "execution_count": 250,
   "id": "practical-wrapping",
   "metadata": {},
   "outputs": [
    {
     "name": "stdout",
     "output_type": "stream",
     "text": [
      "(>>codigo 15 saldo 900 <<) (>>codigo 47685 saldo 1000 <<)\n",
      "(>>codigo 15 saldo 1000 <<) (>>codigo 47685 saldo 1100 <<)\n"
     ]
    }
   ],
   "source": [
    "def deposita_para_todas(contas):\n",
    "    for conta in contas:\n",
    "        conta.deposita(100)\n",
    "\n",
    "contas = [conta_alex, conta_da_dani]\n",
    "print(contas[0], contas[1])\n",
    "deposita_para_todas(contas)\n",
    "print(contas[0], contas[1])"
   ]
  },
  {
   "cell_type": "code",
   "execution_count": 251,
   "id": "posted-destination",
   "metadata": {},
   "outputs": [],
   "source": [
    "contas.insert(0,76)"
   ]
  },
  {
   "cell_type": "code",
   "execution_count": 252,
   "id": "printable-gothic",
   "metadata": {},
   "outputs": [
    {
     "name": "stdout",
     "output_type": "stream",
     "text": [
      "76 (>>codigo 15 saldo 1000 <<) (>>codigo 47685 saldo 1100 <<)\n"
     ]
    }
   ],
   "source": [
    "print(contas[0], contas[1], contas[2])"
   ]
  },
  {
   "cell_type": "code",
   "execution_count": 253,
   "id": "connected-morris",
   "metadata": {},
   "outputs": [
    {
     "ename": "AttributeError",
     "evalue": "'int' object has no attribute 'deposita'",
     "output_type": "error",
     "traceback": [
      "\u001b[1;31m---------------------------------------------------------------------------\u001b[0m",
      "\u001b[1;31mAttributeError\u001b[0m                            Traceback (most recent call last)",
      "\u001b[1;32m<ipython-input-253-b95928c0b1f5>\u001b[0m in \u001b[0;36m<module>\u001b[1;34m\u001b[0m\n\u001b[1;32m----> 1\u001b[1;33m \u001b[0mdeposita_para_todas\u001b[0m\u001b[1;33m(\u001b[0m\u001b[0mcontas\u001b[0m\u001b[1;33m)\u001b[0m\u001b[1;33m\u001b[0m\u001b[1;33m\u001b[0m\u001b[0m\n\u001b[0m\u001b[0;32m      2\u001b[0m \u001b[0mprint\u001b[0m\u001b[1;33m(\u001b[0m\u001b[0mcontas\u001b[0m\u001b[1;33m[\u001b[0m\u001b[1;36m0\u001b[0m\u001b[1;33m]\u001b[0m\u001b[1;33m,\u001b[0m \u001b[0mcontas\u001b[0m\u001b[1;33m[\u001b[0m\u001b[1;36m1\u001b[0m\u001b[1;33m]\u001b[0m\u001b[1;33m,\u001b[0m \u001b[0mcontas\u001b[0m\u001b[1;33m[\u001b[0m\u001b[1;36m2\u001b[0m\u001b[1;33m]\u001b[0m\u001b[1;33m)\u001b[0m \u001b[1;31m# Vai dar erro por que não é possivel adicionar mais um posição no objeto.\u001b[0m\u001b[1;33m\u001b[0m\u001b[1;33m\u001b[0m\u001b[0m\n",
      "\u001b[1;32m<ipython-input-250-3ca7359612d4>\u001b[0m in \u001b[0;36mdeposita_para_todas\u001b[1;34m(contas)\u001b[0m\n\u001b[0;32m      1\u001b[0m \u001b[1;32mdef\u001b[0m \u001b[0mdeposita_para_todas\u001b[0m\u001b[1;33m(\u001b[0m\u001b[0mcontas\u001b[0m\u001b[1;33m)\u001b[0m\u001b[1;33m:\u001b[0m\u001b[1;33m\u001b[0m\u001b[1;33m\u001b[0m\u001b[0m\n\u001b[0;32m      2\u001b[0m     \u001b[1;32mfor\u001b[0m \u001b[0mconta\u001b[0m \u001b[1;32min\u001b[0m \u001b[0mcontas\u001b[0m\u001b[1;33m:\u001b[0m\u001b[1;33m\u001b[0m\u001b[1;33m\u001b[0m\u001b[0m\n\u001b[1;32m----> 3\u001b[1;33m         \u001b[0mconta\u001b[0m\u001b[1;33m.\u001b[0m\u001b[0mdeposita\u001b[0m\u001b[1;33m(\u001b[0m\u001b[1;36m100\u001b[0m\u001b[1;33m)\u001b[0m\u001b[1;33m\u001b[0m\u001b[1;33m\u001b[0m\u001b[0m\n\u001b[0m\u001b[0;32m      4\u001b[0m \u001b[1;33m\u001b[0m\u001b[0m\n\u001b[0;32m      5\u001b[0m \u001b[0mcontas\u001b[0m \u001b[1;33m=\u001b[0m \u001b[1;33m[\u001b[0m\u001b[0mconta_alex\u001b[0m\u001b[1;33m,\u001b[0m \u001b[0mconta_da_dani\u001b[0m\u001b[1;33m]\u001b[0m\u001b[1;33m\u001b[0m\u001b[1;33m\u001b[0m\u001b[0m\n",
      "\u001b[1;31mAttributeError\u001b[0m: 'int' object has no attribute 'deposita'"
     ]
    }
   ],
   "source": [
    "deposita_para_todas(contas)\n",
    "print(contas[0], contas[1], contas[2]) # Vai dar erro por que não é possivel adicionar mais um posição no objeto."
   ]
  },
  {
   "cell_type": "code",
   "execution_count": 117,
   "id": "statewide-harbor",
   "metadata": {},
   "outputs": [],
   "source": [
    "guilherme = ('Guilherme', 37, 1981)\n",
    "daniela = ('Daniela', 31, 1987)"
   ]
  },
  {
   "cell_type": "code",
   "execution_count": 118,
   "id": "widespread-founder",
   "metadata": {},
   "outputs": [
    {
     "name": "stdout",
     "output_type": "stream",
     "text": [
      "('Guilherme', 37, 1981) \n",
      " ('Daniela', 31, 1987)\n"
     ]
    }
   ],
   "source": [
    "print(guilherme,'\\n',daniela)"
   ]
  },
  {
   "cell_type": "code",
   "execution_count": 120,
   "id": "german-savage",
   "metadata": {},
   "outputs": [
    {
     "name": "stdout",
     "output_type": "stream",
     "text": [
      "(15, 1100)\n"
     ]
    }
   ],
   "source": [
    "conta_do_gui = (15 , 1000)\n",
    "# conta_do_gui.deposita() Variação OO\n",
    "\n",
    "def deposita(conta): # Variação Funcional\n",
    "    novo_saldo = conta[1] + 100\n",
    "    codigo =  conta[0]\n",
    "    return (codigo, novo_saldo)\n",
    "\n",
    "\n",
    "conta_do_gui = deposita(conta_do_gui)\n",
    "print(conta_do_gui)"
   ]
  },
  {
   "cell_type": "code",
   "execution_count": 121,
   "id": "intellectual-specialist",
   "metadata": {},
   "outputs": [
    {
     "data": {
      "text/plain": [
       "[('Guilherme', 37, 1981), ('Daniela', 31, 1987)]"
      ]
     },
     "execution_count": 121,
     "metadata": {},
     "output_type": "execute_result"
    }
   ],
   "source": [
    "usuarios = [guilherme, daniela]\n",
    "usuarios"
   ]
  },
  {
   "cell_type": "code",
   "execution_count": 123,
   "id": "twenty-jurisdiction",
   "metadata": {},
   "outputs": [
    {
     "data": {
      "text/plain": [
       "[('Guilherme', 37, 1981), ('Daniela', 31, 1987), ('Paulo', 39, 1979)]"
      ]
     },
     "execution_count": 123,
     "metadata": {},
     "output_type": "execute_result"
    }
   ],
   "source": [
    "usuarios.append(('Paulo', 39, 1979))\n",
    "usuarios"
   ]
  },
  {
   "cell_type": "code",
   "execution_count": 127,
   "id": "surgical-aberdeen",
   "metadata": {},
   "outputs": [
    {
     "name": "stdout",
     "output_type": "stream",
     "text": [
      "Guilherme\n",
      "Daniela\n",
      "Paulo\n"
     ]
    }
   ],
   "source": [
    "print(usuarios[0][0])\n",
    "print(usuarios[1][0])\n",
    "print(usuarios[2][0])"
   ]
  },
  {
   "cell_type": "code",
   "execution_count": 190,
   "id": "respiratory-conversation",
   "metadata": {},
   "outputs": [
    {
     "data": {
      "text/plain": [
       "(<__main__.ContaCorrente at 0x1f897abbe48>,\n",
       " <__main__.ContaCorrente at 0x1f897abb6c8>)"
      ]
     },
     "execution_count": 190,
     "metadata": {},
     "output_type": "execute_result"
    }
   ],
   "source": [
    "contas = ()\n",
    "conta_do_gui = ContaCorrente(15)\n",
    "conta_do_gui.deposita(500)\n",
    "conta_da_dani = ContaCorrente(234876)\n",
    "conta_da_dani.deposita(1000)\n",
    "\n",
    "contas = (conta_do_gui, conta_da_dani)\n",
    "contas"
   ]
  },
  {
   "cell_type": "code",
   "execution_count": 191,
   "id": "placed-confirmation",
   "metadata": {},
   "outputs": [
    {
     "name": "stdout",
     "output_type": "stream",
     "text": [
      "(>>codigo 15 saldo 500 <<)\n",
      "(>>codigo 234876 saldo 1000 <<)\n"
     ]
    }
   ],
   "source": [
    "for conta in contas:\n",
    "    print(conta)"
   ]
  },
  {
   "cell_type": "code",
   "execution_count": 192,
   "id": "original-chase",
   "metadata": {},
   "outputs": [
    {
     "ename": "AttributeError",
     "evalue": "'tuple' object has no attribute 'append'",
     "output_type": "error",
     "traceback": [
      "\u001b[1;31m---------------------------------------------------------------------------\u001b[0m",
      "\u001b[1;31mAttributeError\u001b[0m                            Traceback (most recent call last)",
      "\u001b[1;32m<ipython-input-192-2a440e860371>\u001b[0m in \u001b[0;36m<module>\u001b[1;34m\u001b[0m\n\u001b[1;32m----> 1\u001b[1;33m \u001b[0mcontas\u001b[0m\u001b[1;33m.\u001b[0m\u001b[0mappend\u001b[0m\u001b[1;33m(\u001b[0m\u001b[1;36m423768\u001b[0m\u001b[1;33m)\u001b[0m\u001b[1;33m\u001b[0m\u001b[1;33m\u001b[0m\u001b[0m\n\u001b[0m",
      "\u001b[1;31mAttributeError\u001b[0m: 'tuple' object has no attribute 'append'"
     ]
    }
   ],
   "source": [
    "contas.append(423768)"
   ]
  },
  {
   "cell_type": "code",
   "execution_count": 193,
   "id": "female-justice",
   "metadata": {},
   "outputs": [
    {
     "data": {
      "text/plain": [
       "(<__main__.ContaCorrente at 0x1f897abbe48>,\n",
       " <__main__.ContaCorrente at 0x1f897abb6c8>)"
      ]
     },
     "execution_count": 193,
     "metadata": {},
     "output_type": "execute_result"
    }
   ],
   "source": [
    "contas"
   ]
  },
  {
   "cell_type": "code",
   "execution_count": 194,
   "id": "municipal-change",
   "metadata": {},
   "outputs": [],
   "source": [
    "contas[0].deposita(300)"
   ]
  },
  {
   "cell_type": "code",
   "execution_count": 195,
   "id": "lesbian-snake",
   "metadata": {},
   "outputs": [
    {
     "data": {
      "text/plain": [
       "<__main__.ContaCorrente at 0x1f897abbe48>"
      ]
     },
     "execution_count": 195,
     "metadata": {},
     "output_type": "execute_result"
    }
   ],
   "source": [
    "contas[0]"
   ]
  },
  {
   "cell_type": "code",
   "execution_count": 196,
   "id": "initial-drinking",
   "metadata": {},
   "outputs": [
    {
     "name": "stdout",
     "output_type": "stream",
     "text": [
      "(>>codigo 15 saldo 800 <<)\n",
      "(>>codigo 234876 saldo 1000 <<)\n"
     ]
    }
   ],
   "source": [
    "for conta in contas:\n",
    "    print(conta)"
   ]
  },
  {
   "cell_type": "markdown",
   "id": "infinite-clock",
   "metadata": {},
   "source": [
    "# Herança e Polimorfismo"
   ]
  },
  {
   "cell_type": "code",
   "execution_count": null,
   "id": "emerging-whale",
   "metadata": {},
   "outputs": [],
   "source": []
  }
 ],
 "metadata": {
  "kernelspec": {
   "display_name": "Python 3",
   "language": "python",
   "name": "python3"
  },
  "language_info": {
   "codemirror_mode": {
    "name": "ipython",
    "version": 3
   },
   "file_extension": ".py",
   "mimetype": "text/x-python",
   "name": "python",
   "nbconvert_exporter": "python",
   "pygments_lexer": "ipython3",
   "version": "3.8.7"
  }
 },
 "nbformat": 4,
 "nbformat_minor": 5
}
