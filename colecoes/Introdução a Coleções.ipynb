{
 "cells": [
  {
   "cell_type": "markdown",
   "id": "written-moral",
   "metadata": {},
   "source": [
    "# Introdução a Collections"
   ]
  },
  {
   "cell_type": "code",
   "execution_count": 58,
   "id": "impaired-devon",
   "metadata": {},
   "outputs": [
    {
     "output_type": "stream",
     "name": "stdout",
     "text": [
      "39\n30\n27\n18\n"
     ]
    }
   ],
   "source": [
    "idade1 = 39\n",
    "idade2 = 30\n",
    "idade3 = 27\n",
    "idade4 = 18\n",
    "\n",
    "print(idade1)\n",
    "print(idade2)\n",
    "print(idade3)\n",
    "print(idade4)"
   ]
  },
  {
   "cell_type": "code",
   "execution_count": 59,
   "id": "victorian-retention",
   "metadata": {},
   "outputs": [],
   "source": [
    "idades = [39,30,27,18]"
   ]
  },
  {
   "cell_type": "code",
   "execution_count": 60,
   "id": "worst-northwest",
   "metadata": {},
   "outputs": [
    {
     "output_type": "execute_result",
     "data": {
      "text/plain": [
       "list"
      ]
     },
     "metadata": {},
     "execution_count": 60
    }
   ],
   "source": [
    "type(idades)"
   ]
  },
  {
   "cell_type": "code",
   "execution_count": 61,
   "id": "stupid-century",
   "metadata": {},
   "outputs": [
    {
     "output_type": "execute_result",
     "data": {
      "text/plain": [
       "4"
      ]
     },
     "metadata": {},
     "execution_count": 61
    }
   ],
   "source": [
    "len(idades)"
   ]
  },
  {
   "cell_type": "code",
   "execution_count": 62,
   "id": "executive-hawaii",
   "metadata": {},
   "outputs": [
    {
     "output_type": "execute_result",
     "data": {
      "text/plain": [
       "39"
      ]
     },
     "metadata": {},
     "execution_count": 62
    }
   ],
   "source": [
    "idades[0]"
   ]
  },
  {
   "cell_type": "code",
   "execution_count": 63,
   "id": "acknowledged-ticket",
   "metadata": {},
   "outputs": [
    {
     "output_type": "execute_result",
     "data": {
      "text/plain": [
       "[39, 30, 27, 18]"
      ]
     },
     "metadata": {},
     "execution_count": 63
    }
   ],
   "source": [
    "idades"
   ]
  },
  {
   "cell_type": "code",
   "execution_count": 64,
   "id": "preliminary-outline",
   "metadata": {},
   "outputs": [
    {
     "output_type": "stream",
     "name": "stdout",
     "text": [
      "39\n30\n27\n18\n"
     ]
    }
   ],
   "source": [
    "print(idades[0])\n",
    "print(idades[1])\n",
    "print(idades[2])\n",
    "print(idades[3])"
   ]
  },
  {
   "cell_type": "code",
   "execution_count": 65,
   "id": "several-poker",
   "metadata": {},
   "outputs": [],
   "source": [
    "idades.append(15)"
   ]
  },
  {
   "cell_type": "code",
   "execution_count": 66,
   "id": "bearing-america",
   "metadata": {},
   "outputs": [
    {
     "output_type": "execute_result",
     "data": {
      "text/plain": [
       "[39, 30, 27, 18, 15]"
      ]
     },
     "metadata": {},
     "execution_count": 66
    }
   ],
   "source": [
    "idades"
   ]
  },
  {
   "cell_type": "code",
   "execution_count": 67,
   "id": "athletic-blade",
   "metadata": {},
   "outputs": [],
   "source": [
    "idades.remove(30)"
   ]
  },
  {
   "cell_type": "code",
   "execution_count": 68,
   "id": "champion-ecology",
   "metadata": {},
   "outputs": [
    {
     "output_type": "execute_result",
     "data": {
      "text/plain": [
       "[39, 27, 18, 15]"
      ]
     },
     "metadata": {},
     "execution_count": 68
    }
   ],
   "source": [
    "idades"
   ]
  },
  {
   "cell_type": "code",
   "execution_count": 69,
   "id": "humanitarian-charleston",
   "metadata": {},
   "outputs": [],
   "source": [
    "idades.append(15)"
   ]
  },
  {
   "cell_type": "code",
   "execution_count": 70,
   "id": "qualified-pickup",
   "metadata": {},
   "outputs": [
    {
     "output_type": "execute_result",
     "data": {
      "text/plain": [
       "[39, 27, 18, 15, 15]"
      ]
     },
     "metadata": {},
     "execution_count": 70
    }
   ],
   "source": [
    "idades"
   ]
  },
  {
   "cell_type": "code",
   "execution_count": 71,
   "id": "extra-wales",
   "metadata": {},
   "outputs": [],
   "source": [
    "idades.remove(15)"
   ]
  },
  {
   "cell_type": "code",
   "execution_count": 72,
   "id": "professional-transcript",
   "metadata": {},
   "outputs": [
    {
     "output_type": "execute_result",
     "data": {
      "text/plain": [
       "[39, 27, 18, 15]"
      ]
     },
     "metadata": {},
     "execution_count": 72
    }
   ],
   "source": [
    "idades"
   ]
  },
  {
   "cell_type": "code",
   "execution_count": 73,
   "id": "static-intensity",
   "metadata": {},
   "outputs": [],
   "source": [
    "idades.append(27)"
   ]
  },
  {
   "cell_type": "code",
   "execution_count": 74,
   "id": "saving-celtic",
   "metadata": {},
   "outputs": [
    {
     "output_type": "execute_result",
     "data": {
      "text/plain": [
       "[39, 18, 15, 27]"
      ]
     },
     "metadata": {},
     "execution_count": 74
    }
   ],
   "source": [
    "idades.remove(27)\n",
    "idades"
   ]
  },
  {
   "cell_type": "code",
   "execution_count": 75,
   "id": "pointed-pillow",
   "metadata": {},
   "outputs": [
    {
     "output_type": "execute_result",
     "data": {
      "text/plain": [
       "[]"
      ]
     },
     "metadata": {},
     "execution_count": 75
    }
   ],
   "source": [
    "idades.clear()\n",
    "idades"
   ]
  },
  {
   "cell_type": "code",
   "execution_count": 76,
   "id": "suspected-mixture",
   "metadata": {},
   "outputs": [
    {
     "output_type": "execute_result",
     "data": {
      "text/plain": [
       "False"
      ]
     },
     "metadata": {},
     "execution_count": 76
    }
   ],
   "source": [
    "28 in idades"
   ]
  },
  {
   "cell_type": "code",
   "execution_count": 77,
   "id": "settled-pacific",
   "metadata": {},
   "outputs": [
    {
     "output_type": "execute_result",
     "data": {
      "text/plain": [
       "False"
      ]
     },
     "metadata": {},
     "execution_count": 77
    }
   ],
   "source": [
    "15 in idades"
   ]
  },
  {
   "cell_type": "code",
   "execution_count": 78,
   "id": "rapid-folder",
   "metadata": {},
   "outputs": [],
   "source": [
    "idades = [39,28,27,18]"
   ]
  },
  {
   "cell_type": "code",
   "execution_count": 79,
   "id": "sunset-christopher",
   "metadata": {},
   "outputs": [
    {
     "output_type": "execute_result",
     "data": {
      "text/plain": [
       "[39, 27, 18]"
      ]
     },
     "metadata": {},
     "execution_count": 79
    }
   ],
   "source": [
    "if 28 in idades:\n",
    "    idades.remove(28)\n",
    "idades"
   ]
  },
  {
   "cell_type": "code",
   "execution_count": 80,
   "id": "regular-wallace",
   "metadata": {},
   "outputs": [
    {
     "output_type": "execute_result",
     "data": {
      "text/plain": [
       "[20, 39, 27, 18]"
      ]
     },
     "metadata": {},
     "execution_count": 80
    }
   ],
   "source": [
    "idades.insert(0,20)\n",
    "idades"
   ]
  },
  {
   "cell_type": "code",
   "execution_count": 81,
   "id": "oriented-contents",
   "metadata": {
    "scrolled": true
   },
   "outputs": [
    {
     "output_type": "execute_result",
     "data": {
      "text/plain": [
       "[20, 39, 18]"
      ]
     },
     "metadata": {},
     "execution_count": 81
    }
   ],
   "source": [
    "idades = [20, 39, 18]\n",
    "idades"
   ]
  },
  {
   "cell_type": "code",
   "execution_count": 82,
   "id": "prostate-queens",
   "metadata": {},
   "outputs": [
    {
     "output_type": "execute_result",
     "data": {
      "text/plain": [
       "[20, 39, 18, [27, 19]]"
      ]
     },
     "metadata": {},
     "execution_count": 82
    }
   ],
   "source": [
    "idades.append([27,19])\n",
    "idades"
   ]
  },
  {
   "cell_type": "code",
   "execution_count": 83,
   "id": "caring-accuracy",
   "metadata": {},
   "outputs": [
    {
     "output_type": "stream",
     "name": "stdout",
     "text": [
      "Recebi o elemento 20\nRecebi o elemento 39\nRecebi o elemento 18\nRecebi o elemento [27, 19]\n"
     ]
    }
   ],
   "source": [
    "for elemento in idades:\n",
    "    print(\"Recebi o elemento\", elemento) "
   ]
  },
  {
   "cell_type": "code",
   "execution_count": 84,
   "id": "present-blocking",
   "metadata": {},
   "outputs": [
    {
     "output_type": "execute_result",
     "data": {
      "text/plain": [
       "[20, 39, 18, 27, 19]"
      ]
     },
     "metadata": {},
     "execution_count": 84
    }
   ],
   "source": [
    "idades = [20, 39, 18]\n",
    "idades.extend([27,19])\n",
    "idades"
   ]
  },
  {
   "cell_type": "code",
   "execution_count": 85,
   "id": "sonic-given",
   "metadata": {},
   "outputs": [
    {
     "output_type": "stream",
     "name": "stdout",
     "text": [
      "[20, 15, 30, 39, 30, 18, 30, 31, 45]\n"
     ]
    },
    {
     "output_type": "execute_result",
     "data": {
      "text/plain": [
       "[20, 15, 39, 18, 31, 45]"
      ]
     },
     "metadata": {},
     "execution_count": 85
    }
   ],
   "source": [
    "idades = [20, 15, 30, 39, 30, 18, 30 , 31, 45]\n",
    "print(idades)\n",
    "while 30 in idades:\n",
    "    idades.remove(30)\n",
    "idades"
   ]
  },
  {
   "cell_type": "code",
   "execution_count": 86,
   "id": "veterinary-excellence",
   "metadata": {},
   "outputs": [
    {
     "output_type": "stream",
     "name": "stdout",
     "text": [
      "21\n40\n19\n28\n20\n"
     ]
    }
   ],
   "source": [
    "idades = [20, 39, 18, 27, 19]\n",
    "for idade in idades:\n",
    "    print(idade +1)"
   ]
  },
  {
   "cell_type": "code",
   "execution_count": 87,
   "id": "processed-people",
   "metadata": {},
   "outputs": [
    {
     "output_type": "execute_result",
     "data": {
      "text/plain": [
       "[21, 40, 19, 28, 20]"
      ]
     },
     "metadata": {},
     "execution_count": 87
    }
   ],
   "source": [
    "idades = [20, 39, 18, 27, 19]\n",
    "idade_no_ano_que_vem = []\n",
    "for idade in idades:\n",
    "    idade_no_ano_que_vem.append(idade +1)\n",
    "idade_no_ano_que_vem"
   ]
  },
  {
   "cell_type": "code",
   "execution_count": 88,
   "id": "indonesian-skiing",
   "metadata": {},
   "outputs": [
    {
     "output_type": "execute_result",
     "data": {
      "text/plain": [
       "[21, 40, 19, 28, 20]"
      ]
     },
     "metadata": {},
     "execution_count": 88
    }
   ],
   "source": [
    "idade_no_ano_que_vem2 = [(idade + 1) for idade in idades]\n",
    "idade_no_ano_que_vem2"
   ]
  },
  {
   "cell_type": "code",
   "execution_count": 89,
   "id": "forced-freedom",
   "metadata": {},
   "outputs": [
    {
     "output_type": "execute_result",
     "data": {
      "text/plain": [
       "[39, 27]"
      ]
     },
     "metadata": {},
     "execution_count": 89
    }
   ],
   "source": [
    "[idade for idade in idades if idade > 21]"
   ]
  },
  {
   "cell_type": "code",
   "execution_count": 90,
   "id": "specific-trash",
   "metadata": {},
   "outputs": [],
   "source": [
    "#list comprehension"
   ]
  },
  {
   "cell_type": "code",
   "execution_count": 91,
   "id": "embedded-practitioner",
   "metadata": {},
   "outputs": [],
   "source": [
    "def faz_processamento_de_visualizacao(lista):\n",
    "    print(len(lista))"
   ]
  },
  {
   "cell_type": "code",
   "execution_count": 92,
   "id": "sweet-venezuela",
   "metadata": {},
   "outputs": [
    {
     "output_type": "stream",
     "name": "stdout",
     "text": [
      "5\n"
     ]
    },
    {
     "output_type": "execute_result",
     "data": {
      "text/plain": [
       "[16, 21, 29, 56, 43]"
      ]
     },
     "metadata": {},
     "execution_count": 92
    }
   ],
   "source": [
    "idades = [16, 21, 29, 56, 43]\n",
    "faz_processamento_de_visualizacao(idades)\n",
    "idades\n"
   ]
  },
  {
   "cell_type": "code",
   "execution_count": 93,
   "id": "protective-garbage",
   "metadata": {
    "scrolled": false
   },
   "outputs": [
    {
     "output_type": "stream",
     "name": "stdout",
     "text": [
      "0\n[]\n1\n[13]\n2\n[13, 13]\n3\n[13, 13, 13]\n4\n[13, 13, 13, 13]\n"
     ]
    }
   ],
   "source": [
    "def faz_processamento_de_visualizacao(lista = []):\n",
    "    print(len(lista))\n",
    "    print(lista)\n",
    "    lista.append(13)\n",
    "faz_processamento_de_visualizacao()\n",
    "faz_processamento_de_visualizacao()\n",
    "faz_processamento_de_visualizacao()\n",
    "faz_processamento_de_visualizacao()\n",
    "faz_processamento_de_visualizacao()"
   ]
  },
  {
   "cell_type": "code",
   "execution_count": 94,
   "id": "sporting-focus",
   "metadata": {},
   "outputs": [
    {
     "output_type": "stream",
     "name": "stdout",
     "text": [
      "0\n[]\n0\n[]\n0\n[]\n0\n[]\n0\n[]\n"
     ]
    }
   ],
   "source": [
    "def faz_processamento_de_visualizacao(lista = None):\n",
    "    if lista == None: lista = list()\n",
    "    print(len(lista))\n",
    "    print(lista)\n",
    "    lista.append(13)\n",
    "faz_processamento_de_visualizacao()\n",
    "faz_processamento_de_visualizacao()\n",
    "faz_processamento_de_visualizacao()\n",
    "faz_processamento_de_visualizacao()\n",
    "faz_processamento_de_visualizacao()"
   ]
  },
  {
   "cell_type": "markdown",
   "id": "olive-central",
   "metadata": {},
   "source": [
    "# Objetos próprios"
   ]
  },
  {
   "cell_type": "code",
   "execution_count": 95,
   "id": "sufficient-percentage",
   "metadata": {},
   "outputs": [],
   "source": [
    "class Conta_Corrente:\n",
    "    def __init__(self, codigo):\n",
    "        self.codigo = codigo\n",
    "        self.saldo = 0\n",
    "    \n",
    "    def deposita(self, valor):\n",
    "        self.saldo += valor\n",
    "    \n",
    "    def __str__(self):\n",
    "        return \"(>>codigo {} saldo {} <<)\".format(self.codigo, self.saldo)"
   ]
  },
  {
   "cell_type": "code",
   "execution_count": 96,
   "id": "adequate-press",
   "metadata": {},
   "outputs": [
    {
     "output_type": "stream",
     "name": "stdout",
     "text": [
      "(>>codigo 15 saldo 0 <<)\n"
     ]
    }
   ],
   "source": [
    "conta_alex = Conta_Corrente(15)\n",
    "print(conta_alex)"
   ]
  },
  {
   "cell_type": "code",
   "execution_count": 97,
   "id": "stone-thanks",
   "metadata": {},
   "outputs": [],
   "source": [
    "conta_alex.deposita(500)"
   ]
  },
  {
   "cell_type": "code",
   "execution_count": 98,
   "id": "eleven-stevens",
   "metadata": {},
   "outputs": [
    {
     "output_type": "stream",
     "name": "stdout",
     "text": [
      "(>>codigo 15 saldo 500 <<)\n"
     ]
    }
   ],
   "source": [
    "print(conta_alex)"
   ]
  },
  {
   "cell_type": "code",
   "execution_count": 99,
   "id": "meaningful-rocket",
   "metadata": {
    "collapsed": true
   },
   "outputs": [],
   "source": [
    "conta_da_dani = Conta_Corrente(47685)"
   ]
  },
  {
   "cell_type": "code",
   "execution_count": 100,
   "id": "sunrise-south",
   "metadata": {},
   "outputs": [
    {
     "output_type": "stream",
     "name": "stdout",
     "text": [
      "(>>codigo 47685 saldo 1000 <<)\n"
     ]
    }
   ],
   "source": [
    "conta_da_dani.deposita(1000)\n",
    "print(conta_da_dani)"
   ]
  },
  {
   "cell_type": "code",
   "execution_count": 101,
   "id": "color-transmission",
   "metadata": {},
   "outputs": [
    {
     "output_type": "stream",
     "name": "stdout",
     "text": [
      "[<__main__.Conta_Corrente object at 0x000002910E8F9148>, <__main__.Conta_Corrente object at 0x000002910E935F48>]\n"
     ]
    }
   ],
   "source": [
    "contas = [conta_alex, conta_da_dani]\n",
    "print(contas)"
   ]
  },
  {
   "cell_type": "code",
   "execution_count": 102,
   "id": "available-shopper",
   "metadata": {},
   "outputs": [
    {
     "output_type": "stream",
     "name": "stdout",
     "text": [
      "(>>codigo 15 saldo 500 <<)\n(>>codigo 47685 saldo 1000 <<)\n"
     ]
    }
   ],
   "source": [
    "for conta in contas:\n",
    "    print(conta)"
   ]
  },
  {
   "cell_type": "code",
   "execution_count": 103,
   "id": "israeli-karen",
   "metadata": {},
   "outputs": [],
   "source": [
    "contas = [conta_alex, conta_da_dani, conta_alex]"
   ]
  },
  {
   "cell_type": "code",
   "execution_count": 104,
   "id": "binding-pontiac",
   "metadata": {},
   "outputs": [
    {
     "output_type": "stream",
     "name": "stdout",
     "text": [
      "(>>codigo 15 saldo 500 <<)\n"
     ]
    }
   ],
   "source": [
    "print(contas[0])"
   ]
  },
  {
   "cell_type": "code",
   "execution_count": 105,
   "id": "exempt-three",
   "metadata": {},
   "outputs": [],
   "source": [
    "conta_alex.deposita(100)"
   ]
  },
  {
   "cell_type": "code",
   "execution_count": 106,
   "id": "alien-enemy",
   "metadata": {},
   "outputs": [
    {
     "output_type": "stream",
     "name": "stdout",
     "text": [
      "(>>codigo 15 saldo 600 <<)\n"
     ]
    }
   ],
   "source": [
    "print(contas[0])"
   ]
  },
  {
   "cell_type": "code",
   "execution_count": 107,
   "id": "olive-manchester",
   "metadata": {},
   "outputs": [
    {
     "output_type": "stream",
     "name": "stdout",
     "text": [
      "(>>codigo 15 saldo 600 <<)\n"
     ]
    }
   ],
   "source": [
    "print(conta_alex)"
   ]
  },
  {
   "cell_type": "code",
   "execution_count": 108,
   "id": "caring-corpus",
   "metadata": {},
   "outputs": [],
   "source": [
    "contas[2].deposita(300)"
   ]
  },
  {
   "cell_type": "code",
   "execution_count": 109,
   "id": "english-buffer",
   "metadata": {},
   "outputs": [
    {
     "output_type": "stream",
     "name": "stdout",
     "text": [
      "(>>codigo 15 saldo 900 <<)\n"
     ]
    }
   ],
   "source": [
    "print(conta_alex)"
   ]
  },
  {
   "cell_type": "code",
   "execution_count": 110,
   "id": "practical-wrapping",
   "metadata": {},
   "outputs": [
    {
     "output_type": "stream",
     "name": "stdout",
     "text": [
      "(>>codigo 15 saldo 900 <<) (>>codigo 47685 saldo 1000 <<)\n(>>codigo 15 saldo 1000 <<) (>>codigo 47685 saldo 1100 <<)\n"
     ]
    }
   ],
   "source": [
    "def deposita_para_todas(contas):\n",
    "    for conta in contas:\n",
    "        conta.deposita(100)\n",
    "\n",
    "contas = [conta_alex, conta_da_dani]\n",
    "print(contas[0], contas[1])\n",
    "deposita_para_todas(contas)\n",
    "print(contas[0], contas[1])"
   ]
  },
  {
   "cell_type": "code",
   "execution_count": 111,
   "id": "posted-destination",
   "metadata": {},
   "outputs": [],
   "source": [
    "contas.insert(0,76)"
   ]
  },
  {
   "cell_type": "code",
   "execution_count": 112,
   "id": "printable-gothic",
   "metadata": {},
   "outputs": [
    {
     "output_type": "stream",
     "name": "stdout",
     "text": [
      "76 (>>codigo 15 saldo 1000 <<) (>>codigo 47685 saldo 1100 <<)\n"
     ]
    }
   ],
   "source": [
    "print(contas[0], contas[1], contas[2])"
   ]
  },
  {
   "cell_type": "code",
   "execution_count": 113,
   "id": "connected-morris",
   "metadata": {},
   "outputs": [
    {
     "output_type": "error",
     "ename": "AttributeError",
     "evalue": "'int' object has no attribute 'deposita'",
     "traceback": [
      "\u001b[1;31m---------------------------------------------------------------------------\u001b[0m",
      "\u001b[1;31mAttributeError\u001b[0m                            Traceback (most recent call last)",
      "\u001b[1;32m<ipython-input-113-b95928c0b1f5>\u001b[0m in \u001b[0;36m<module>\u001b[1;34m\u001b[0m\n\u001b[1;32m----> 1\u001b[1;33m \u001b[0mdeposita_para_todas\u001b[0m\u001b[1;33m(\u001b[0m\u001b[0mcontas\u001b[0m\u001b[1;33m)\u001b[0m\u001b[1;33m\u001b[0m\u001b[1;33m\u001b[0m\u001b[0m\n\u001b[0m\u001b[0;32m      2\u001b[0m \u001b[0mprint\u001b[0m\u001b[1;33m(\u001b[0m\u001b[0mcontas\u001b[0m\u001b[1;33m[\u001b[0m\u001b[1;36m0\u001b[0m\u001b[1;33m]\u001b[0m\u001b[1;33m,\u001b[0m \u001b[0mcontas\u001b[0m\u001b[1;33m[\u001b[0m\u001b[1;36m1\u001b[0m\u001b[1;33m]\u001b[0m\u001b[1;33m,\u001b[0m \u001b[0mcontas\u001b[0m\u001b[1;33m[\u001b[0m\u001b[1;36m2\u001b[0m\u001b[1;33m]\u001b[0m\u001b[1;33m)\u001b[0m \u001b[1;31m# Vai dar erro por que não é possivel adicionar mais um posição no objeto.\u001b[0m\u001b[1;33m\u001b[0m\u001b[1;33m\u001b[0m\u001b[0m\n",
      "\u001b[1;32m<ipython-input-110-3ca7359612d4>\u001b[0m in \u001b[0;36mdeposita_para_todas\u001b[1;34m(contas)\u001b[0m\n\u001b[0;32m      1\u001b[0m \u001b[1;32mdef\u001b[0m \u001b[0mdeposita_para_todas\u001b[0m\u001b[1;33m(\u001b[0m\u001b[0mcontas\u001b[0m\u001b[1;33m)\u001b[0m\u001b[1;33m:\u001b[0m\u001b[1;33m\u001b[0m\u001b[1;33m\u001b[0m\u001b[0m\n\u001b[0;32m      2\u001b[0m     \u001b[1;32mfor\u001b[0m \u001b[0mconta\u001b[0m \u001b[1;32min\u001b[0m \u001b[0mcontas\u001b[0m\u001b[1;33m:\u001b[0m\u001b[1;33m\u001b[0m\u001b[1;33m\u001b[0m\u001b[0m\n\u001b[1;32m----> 3\u001b[1;33m         \u001b[0mconta\u001b[0m\u001b[1;33m.\u001b[0m\u001b[0mdeposita\u001b[0m\u001b[1;33m(\u001b[0m\u001b[1;36m100\u001b[0m\u001b[1;33m)\u001b[0m\u001b[1;33m\u001b[0m\u001b[1;33m\u001b[0m\u001b[0m\n\u001b[0m\u001b[0;32m      4\u001b[0m \u001b[1;33m\u001b[0m\u001b[0m\n\u001b[0;32m      5\u001b[0m \u001b[0mcontas\u001b[0m \u001b[1;33m=\u001b[0m \u001b[1;33m[\u001b[0m\u001b[0mconta_alex\u001b[0m\u001b[1;33m,\u001b[0m \u001b[0mconta_da_dani\u001b[0m\u001b[1;33m]\u001b[0m\u001b[1;33m\u001b[0m\u001b[1;33m\u001b[0m\u001b[0m\n",
      "\u001b[1;31mAttributeError\u001b[0m: 'int' object has no attribute 'deposita'"
     ]
    }
   ],
   "source": [
    "deposita_para_todas(contas)\n",
    "print(contas[0], contas[1], contas[2]) # Vai dar erro por que não é possivel adicionar mais um posição no objeto."
   ]
  },
  {
   "cell_type": "code",
   "execution_count": 117,
   "id": "statewide-harbor",
   "metadata": {},
   "outputs": [],
   "source": [
    "guilherme = ('Guilherme', 37, 1981)\n",
    "daniela = ('Daniela', 31, 1987)"
   ]
  },
  {
   "cell_type": "code",
   "execution_count": 118,
   "id": "widespread-founder",
   "metadata": {},
   "outputs": [
    {
     "name": "stdout",
     "output_type": "stream",
     "text": [
      "('Guilherme', 37, 1981) \n",
      " ('Daniela', 31, 1987)\n"
     ]
    }
   ],
   "source": [
    "print(guilherme,'\\n',daniela)"
   ]
  },
  {
   "cell_type": "code",
   "execution_count": 120,
   "id": "german-savage",
   "metadata": {},
   "outputs": [
    {
     "name": "stdout",
     "output_type": "stream",
     "text": [
      "(15, 1100)\n"
     ]
    }
   ],
   "source": [
    "conta_do_gui = (15 , 1000)\n",
    "# conta_do_gui.deposita() Variação OO\n",
    "\n",
    "def deposita(conta): # Variação Funcional\n",
    "    novo_saldo = conta[1] + 100\n",
    "    codigo =  conta[0]\n",
    "    return (codigo, novo_saldo)\n",
    "\n",
    "\n",
    "conta_do_gui = deposita(conta_do_gui)\n",
    "print(conta_do_gui)"
   ]
  },
  {
   "cell_type": "code",
   "execution_count": 121,
   "id": "intellectual-specialist",
   "metadata": {},
   "outputs": [
    {
     "data": {
      "text/plain": [
       "[('Guilherme', 37, 1981), ('Daniela', 31, 1987)]"
      ]
     },
     "execution_count": 121,
     "metadata": {},
     "output_type": "execute_result"
    }
   ],
   "source": [
    "usuarios = [guilherme, daniela]\n",
    "usuarios"
   ]
  },
  {
   "cell_type": "code",
   "execution_count": 123,
   "id": "twenty-jurisdiction",
   "metadata": {},
   "outputs": [
    {
     "data": {
      "text/plain": [
       "[('Guilherme', 37, 1981), ('Daniela', 31, 1987), ('Paulo', 39, 1979)]"
      ]
     },
     "execution_count": 123,
     "metadata": {},
     "output_type": "execute_result"
    }
   ],
   "source": [
    "usuarios.append(('Paulo', 39, 1979))\n",
    "usuarios"
   ]
  },
  {
   "cell_type": "code",
   "execution_count": 127,
   "id": "surgical-aberdeen",
   "metadata": {},
   "outputs": [
    {
     "name": "stdout",
     "output_type": "stream",
     "text": [
      "Guilherme\n",
      "Daniela\n",
      "Paulo\n"
     ]
    }
   ],
   "source": [
    "print(usuarios[0][0])\n",
    "print(usuarios[1][0])\n",
    "print(usuarios[2][0])"
   ]
  },
  {
   "cell_type": "code",
   "execution_count": 190,
   "id": "respiratory-conversation",
   "metadata": {},
   "outputs": [
    {
     "data": {
      "text/plain": [
       "(<__main__.ContaCorrente at 0x1f897abbe48>,\n",
       " <__main__.ContaCorrente at 0x1f897abb6c8>)"
      ]
     },
     "execution_count": 190,
     "metadata": {},
     "output_type": "execute_result"
    }
   ],
   "source": [
    "contas = ()\n",
    "conta_do_gui = ContaCorrente(15)\n",
    "conta_do_gui.deposita(500)\n",
    "conta_da_dani = ContaCorrente(234876)\n",
    "conta_da_dani.deposita(1000)\n",
    "\n",
    "contas = (conta_do_gui, conta_da_dani)\n",
    "contas"
   ]
  },
  {
   "cell_type": "code",
   "execution_count": 191,
   "id": "placed-confirmation",
   "metadata": {},
   "outputs": [
    {
     "name": "stdout",
     "output_type": "stream",
     "text": [
      "(>>codigo 15 saldo 500 <<)\n",
      "(>>codigo 234876 saldo 1000 <<)\n"
     ]
    }
   ],
   "source": [
    "for conta in contas:\n",
    "    print(conta)"
   ]
  },
  {
   "cell_type": "code",
   "execution_count": 192,
   "id": "original-chase",
   "metadata": {},
   "outputs": [
    {
     "ename": "AttributeError",
     "evalue": "'tuple' object has no attribute 'append'",
     "output_type": "error",
     "traceback": [
      "\u001b[1;31m---------------------------------------------------------------------------\u001b[0m",
      "\u001b[1;31mAttributeError\u001b[0m                            Traceback (most recent call last)",
      "\u001b[1;32m<ipython-input-192-2a440e860371>\u001b[0m in \u001b[0;36m<module>\u001b[1;34m\u001b[0m\n\u001b[1;32m----> 1\u001b[1;33m \u001b[0mcontas\u001b[0m\u001b[1;33m.\u001b[0m\u001b[0mappend\u001b[0m\u001b[1;33m(\u001b[0m\u001b[1;36m423768\u001b[0m\u001b[1;33m)\u001b[0m\u001b[1;33m\u001b[0m\u001b[1;33m\u001b[0m\u001b[0m\n\u001b[0m",
      "\u001b[1;31mAttributeError\u001b[0m: 'tuple' object has no attribute 'append'"
     ]
    }
   ],
   "source": [
    "contas.append(423768)"
   ]
  },
  {
   "cell_type": "code",
   "execution_count": 193,
   "id": "female-justice",
   "metadata": {},
   "outputs": [
    {
     "data": {
      "text/plain": [
       "(<__main__.ContaCorrente at 0x1f897abbe48>,\n",
       " <__main__.ContaCorrente at 0x1f897abb6c8>)"
      ]
     },
     "execution_count": 193,
     "metadata": {},
     "output_type": "execute_result"
    }
   ],
   "source": [
    "contas"
   ]
  },
  {
   "cell_type": "code",
   "execution_count": 194,
   "id": "municipal-change",
   "metadata": {},
   "outputs": [],
   "source": [
    "contas[0].deposita(300)"
   ]
  },
  {
   "cell_type": "code",
   "execution_count": 195,
   "id": "lesbian-snake",
   "metadata": {},
   "outputs": [
    {
     "data": {
      "text/plain": [
       "<__main__.ContaCorrente at 0x1f897abbe48>"
      ]
     },
     "execution_count": 195,
     "metadata": {},
     "output_type": "execute_result"
    }
   ],
   "source": [
    "contas[0]"
   ]
  },
  {
   "cell_type": "code",
   "execution_count": 196,
   "id": "initial-drinking",
   "metadata": {},
   "outputs": [
    {
     "name": "stdout",
     "output_type": "stream",
     "text": [
      "(>>codigo 15 saldo 800 <<)\n",
      "(>>codigo 234876 saldo 1000 <<)\n"
     ]
    }
   ],
   "source": [
    "for conta in contas:\n",
    "    print(conta)"
   ]
  },
  {
   "cell_type": "markdown",
   "id": "infinite-clock",
   "metadata": {},
   "source": [
    "# Herança e Polimorfismo"
   ]
  },
  {
   "cell_type": "code",
   "execution_count": 114,
   "id": "emerging-whale",
   "metadata": {},
   "outputs": [],
   "source": [
    "class Conta:\n",
    "\n",
    "    def __init__(self, codigo):\n",
    "        self._codigo = codigo\n",
    "        self._saldo = 0\n",
    "    \n",
    "    def deposita(self, valor):\n",
    "        self.saldo += valor\n",
    "    \n",
    "    def __str__(self):\n",
    "        return \"(>>Código {} Saldo<<)\".fortmat(self._codigo, self_saldo)"
   ]
  },
  {
   "cell_type": "code",
   "execution_count": 115,
   "metadata": {},
   "outputs": [
    {
     "output_type": "error",
     "ename": "AttributeError",
     "evalue": "'str' object has no attribute 'fortmat'",
     "traceback": [
      "\u001b[1;31m---------------------------------------------------------------------------\u001b[0m",
      "\u001b[1;31mAttributeError\u001b[0m                            Traceback (most recent call last)",
      "\u001b[1;32m<ipython-input-115-bcabbe50454b>\u001b[0m in \u001b[0;36m<module>\u001b[1;34m\u001b[0m\n\u001b[1;32m----> 1\u001b[1;33m \u001b[0mprint\u001b[0m\u001b[1;33m(\u001b[0m\u001b[0mConta\u001b[0m\u001b[1;33m(\u001b[0m\u001b[1;36m88\u001b[0m\u001b[1;33m)\u001b[0m\u001b[1;33m)\u001b[0m\u001b[1;33m\u001b[0m\u001b[1;33m\u001b[0m\u001b[0m\n\u001b[0m",
      "\u001b[1;32m<ipython-input-114-c40695503cb4>\u001b[0m in \u001b[0;36m__str__\u001b[1;34m(self)\u001b[0m\n\u001b[0;32m      9\u001b[0m \u001b[1;33m\u001b[0m\u001b[0m\n\u001b[0;32m     10\u001b[0m     \u001b[1;32mdef\u001b[0m \u001b[0m__str__\u001b[0m\u001b[1;33m(\u001b[0m\u001b[0mself\u001b[0m\u001b[1;33m)\u001b[0m\u001b[1;33m:\u001b[0m\u001b[1;33m\u001b[0m\u001b[1;33m\u001b[0m\u001b[0m\n\u001b[1;32m---> 11\u001b[1;33m         \u001b[1;32mreturn\u001b[0m \u001b[1;34m\"(>>Código {} Saldo<<)\"\u001b[0m\u001b[1;33m.\u001b[0m\u001b[0mfortmat\u001b[0m\u001b[1;33m(\u001b[0m\u001b[0mself\u001b[0m\u001b[1;33m.\u001b[0m\u001b[0m_codigo\u001b[0m\u001b[1;33m,\u001b[0m \u001b[0mself_saldo\u001b[0m\u001b[1;33m)\u001b[0m\u001b[1;33m\u001b[0m\u001b[1;33m\u001b[0m\u001b[0m\n\u001b[0m",
      "\u001b[1;31mAttributeError\u001b[0m: 'str' object has no attribute 'fortmat'"
     ]
    }
   ],
   "source": [
    "print(Conta(88))"
   ]
  },
  {
   "cell_type": "code",
   "execution_count": null,
   "metadata": {},
   "outputs": [],
   "source": [
    "class ContaCorrente(conta):\n",
    "\n",
    "    def passa_o_mes(self):\n",
    "        self._saldo -= 2\n",
    "\n",
    "class Poupanca(Conta)\n",
    "    def passa_o_mes(self)\n",
    "    self.saldo *= 1.01\n",
    "    self.saldo -=3"
   ]
  }
 ],
 "metadata": {
  "kernelspec": {
   "display_name": "Python 3",
   "language": "python",
   "name": "python3"
  },
  "language_info": {
   "codemirror_mode": {
    "name": "ipython",
    "version": 3
   },
   "file_extension": ".py",
   "mimetype": "text/x-python",
   "name": "python",
   "nbconvert_exporter": "python",
   "pygments_lexer": "ipython3",
   "version": "3.7.8-final"
  }
 },
 "nbformat": 4,
 "nbformat_minor": 5
}