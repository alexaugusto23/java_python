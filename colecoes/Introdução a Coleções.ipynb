{
 "cells": [
  {
   "cell_type": "code",
   "execution_count": 4,
   "id": "impaired-devon",
   "metadata": {},
   "outputs": [
    {
     "output_type": "stream",
     "name": "stdout",
     "text": [
      "39\n30\n27\n18\n"
     ]
    }
   ],
   "source": [
    "idade1 = 39\n",
    "idade2 = 30\n",
    "idade3 = 27\n",
    "idade4 = 18\n",
    "\n",
    "print(idade1)\n",
    "print(idade2)\n",
    "print(idade3)\n",
    "print(idade4)"
   ]
  },
  {
   "cell_type": "code",
   "execution_count": 5,
   "id": "victorian-retention",
   "metadata": {},
   "outputs": [],
   "source": [
    "idades = [39,30,27,18]"
   ]
  },
  {
   "cell_type": "code",
   "execution_count": 6,
   "id": "worst-northwest",
   "metadata": {},
   "outputs": [
    {
     "output_type": "execute_result",
     "data": {
      "text/plain": [
       "list"
      ]
     },
     "metadata": {},
     "execution_count": 6
    }
   ],
   "source": [
    "type(idades)"
   ]
  },
  {
   "cell_type": "code",
   "execution_count": 7,
   "id": "stupid-century",
   "metadata": {},
   "outputs": [
    {
     "output_type": "execute_result",
     "data": {
      "text/plain": [
       "4"
      ]
     },
     "metadata": {},
     "execution_count": 7
    }
   ],
   "source": [
    "len(idades)"
   ]
  },
  {
   "cell_type": "code",
   "execution_count": 8,
   "id": "executive-hawaii",
   "metadata": {},
   "outputs": [
    {
     "output_type": "execute_result",
     "data": {
      "text/plain": [
       "39"
      ]
     },
     "metadata": {},
     "execution_count": 8
    }
   ],
   "source": [
    "idades[0]"
   ]
  },
  {
   "cell_type": "code",
   "execution_count": 9,
   "id": "acknowledged-ticket",
   "metadata": {},
   "outputs": [
    {
     "output_type": "execute_result",
     "data": {
      "text/plain": [
       "[39, 30, 27, 18]"
      ]
     },
     "metadata": {},
     "execution_count": 9
    }
   ],
   "source": [
    "idades"
   ]
  },
  {
   "cell_type": "code",
   "execution_count": 10,
   "id": "preliminary-outline",
   "metadata": {},
   "outputs": [
    {
     "output_type": "stream",
     "name": "stdout",
     "text": [
      "39\n30\n27\n18\n"
     ]
    }
   ],
   "source": [
    "print(idades[0])\n",
    "print(idades[1])\n",
    "print(idades[2])\n",
    "print(idades[3])"
   ]
  },
  {
   "cell_type": "code",
   "execution_count": 11,
   "id": "several-poker",
   "metadata": {},
   "outputs": [],
   "source": [
    "idades.append(15)"
   ]
  },
  {
   "cell_type": "code",
   "execution_count": 12,
   "id": "bearing-america",
   "metadata": {},
   "outputs": [
    {
     "output_type": "execute_result",
     "data": {
      "text/plain": [
       "[39, 30, 27, 18, 15]"
      ]
     },
     "metadata": {},
     "execution_count": 12
    }
   ],
   "source": [
    "idades"
   ]
  },
  {
   "cell_type": "code",
   "execution_count": 13,
   "id": "athletic-blade",
   "metadata": {},
   "outputs": [],
   "source": [
    "idades.remove(30)"
   ]
  },
  {
   "cell_type": "code",
   "execution_count": 14,
   "id": "champion-ecology",
   "metadata": {},
   "outputs": [
    {
     "output_type": "execute_result",
     "data": {
      "text/plain": [
       "[39, 27, 18, 15]"
      ]
     },
     "metadata": {},
     "execution_count": 14
    }
   ],
   "source": [
    "idades"
   ]
  },
  {
   "cell_type": "code",
   "execution_count": 15,
   "id": "humanitarian-charleston",
   "metadata": {},
   "outputs": [],
   "source": [
    "idades.append(15)"
   ]
  },
  {
   "cell_type": "code",
   "execution_count": 16,
   "id": "qualified-pickup",
   "metadata": {},
   "outputs": [
    {
     "output_type": "execute_result",
     "data": {
      "text/plain": [
       "[39, 27, 18, 15, 15]"
      ]
     },
     "metadata": {},
     "execution_count": 16
    }
   ],
   "source": [
    "idades"
   ]
  },
  {
   "cell_type": "code",
   "execution_count": 17,
   "id": "extra-wales",
   "metadata": {},
   "outputs": [],
   "source": [
    "idades.remove(15)"
   ]
  },
  {
   "cell_type": "code",
   "execution_count": 18,
   "id": "professional-transcript",
   "metadata": {},
   "outputs": [
    {
     "output_type": "execute_result",
     "data": {
      "text/plain": [
       "[39, 27, 18, 15]"
      ]
     },
     "metadata": {},
     "execution_count": 18
    }
   ],
   "source": [
    "idades"
   ]
  },
  {
   "cell_type": "code",
   "execution_count": 19,
   "id": "static-intensity",
   "metadata": {},
   "outputs": [],
   "source": [
    "idades.append(27)"
   ]
  },
  {
   "cell_type": "code",
   "execution_count": 20,
   "id": "saving-celtic",
   "metadata": {},
   "outputs": [
    {
     "output_type": "execute_result",
     "data": {
      "text/plain": [
       "[39, 18, 15, 27]"
      ]
     },
     "metadata": {},
     "execution_count": 20
    }
   ],
   "source": [
    "idades.remove(27)\n",
    "idades"
   ]
  },
  {
   "cell_type": "code",
   "execution_count": 21,
   "id": "pointed-pillow",
   "metadata": {},
   "outputs": [
    {
     "output_type": "execute_result",
     "data": {
      "text/plain": [
       "[]"
      ]
     },
     "metadata": {},
     "execution_count": 21
    }
   ],
   "source": [
    "idades.clear()\n",
    "idades"
   ]
  },
  {
   "cell_type": "code",
   "execution_count": 22,
   "id": "suspected-mixture",
   "metadata": {},
   "outputs": [
    {
     "output_type": "execute_result",
     "data": {
      "text/plain": [
       "False"
      ]
     },
     "metadata": {},
     "execution_count": 22
    }
   ],
   "source": [
    "28 in idades"
   ]
  },
  {
   "cell_type": "code",
   "execution_count": 23,
   "id": "settled-pacific",
   "metadata": {},
   "outputs": [
    {
     "output_type": "execute_result",
     "data": {
      "text/plain": [
       "False"
      ]
     },
     "metadata": {},
     "execution_count": 23
    }
   ],
   "source": [
    "15 in idades"
   ]
  },
  {
   "cell_type": "code",
   "execution_count": 24,
   "id": "rapid-folder",
   "metadata": {},
   "outputs": [],
   "source": [
    "idades = [39,28,27,18]"
   ]
  },
  {
   "cell_type": "code",
   "execution_count": 25,
   "id": "sunset-christopher",
   "metadata": {},
   "outputs": [
    {
     "output_type": "execute_result",
     "data": {
      "text/plain": [
       "[39, 27, 18]"
      ]
     },
     "metadata": {},
     "execution_count": 25
    }
   ],
   "source": [
    "if 28 in idades:\n",
    "    idades.remove(28)\n",
    "idades"
   ]
  },
  {
   "cell_type": "code",
   "execution_count": 26,
   "id": "regular-wallace",
   "metadata": {},
   "outputs": [
    {
     "output_type": "execute_result",
     "data": {
      "text/plain": [
       "[20, 39, 27, 18]"
      ]
     },
     "metadata": {},
     "execution_count": 26
    }
   ],
   "source": [
    "idades.insert(0,20)\n",
    "idades"
   ]
  },
  {
   "cell_type": "code",
   "execution_count": 27,
   "id": "oriented-contents",
   "metadata": {
    "scrolled": true
   },
   "outputs": [
    {
     "output_type": "execute_result",
     "data": {
      "text/plain": [
       "[20, 39, 18]"
      ]
     },
     "metadata": {},
     "execution_count": 27
    }
   ],
   "source": [
    "idades = [20, 39, 18]\n",
    "idades"
   ]
  },
  {
   "cell_type": "code",
   "execution_count": 28,
   "id": "prostate-queens",
   "metadata": {},
   "outputs": [
    {
     "output_type": "execute_result",
     "data": {
      "text/plain": [
       "[20, 39, 18, [27, 19]]"
      ]
     },
     "metadata": {},
     "execution_count": 28
    }
   ],
   "source": [
    "idades.append([27,19])\n",
    "idades"
   ]
  },
  {
   "cell_type": "code",
   "execution_count": 29,
   "id": "caring-accuracy",
   "metadata": {},
   "outputs": [
    {
     "output_type": "stream",
     "name": "stdout",
     "text": [
      "Recebi o elemento 20\nRecebi o elemento 39\nRecebi o elemento 18\nRecebi o elemento [27, 19]\n"
     ]
    }
   ],
   "source": [
    "for elemento in idades:\n",
    "    print(\"Recebi o elemento\", elemento) "
   ]
  },
  {
   "cell_type": "code",
   "execution_count": 30,
   "id": "present-blocking",
   "metadata": {},
   "outputs": [
    {
     "output_type": "execute_result",
     "data": {
      "text/plain": [
       "[20, 39, 18, 27, 19]"
      ]
     },
     "metadata": {},
     "execution_count": 30
    }
   ],
   "source": [
    "idades = [20, 39, 18]\n",
    "idades.extend([27,19])\n",
    "idades"
   ]
  },
  {
   "cell_type": "code",
   "execution_count": 31,
   "id": "sonic-given",
   "metadata": {},
   "outputs": [
    {
     "output_type": "stream",
     "name": "stdout",
     "text": [
      "[20, 15, 30, 39, 30, 18, 30, 31, 45]\n"
     ]
    },
    {
     "output_type": "execute_result",
     "data": {
      "text/plain": [
       "[20, 15, 39, 18, 31, 45]"
      ]
     },
     "metadata": {},
     "execution_count": 31
    }
   ],
   "source": [
    "idades = [20, 15, 30, 39, 30, 18, 30 , 31, 45]\n",
    "print(idades)\n",
    "while 30 in idades:\n",
    "    idades.remove(30)\n",
    "idades"
   ]
  },
  {
   "cell_type": "code",
   "execution_count": 32,
   "id": "veterinary-excellence",
   "metadata": {},
   "outputs": [
    {
     "output_type": "stream",
     "name": "stdout",
     "text": [
      "21\n40\n19\n28\n20\n"
     ]
    }
   ],
   "source": [
    "idades = [20, 39, 18, 27, 19]\n",
    "for idade in idades:\n",
    "    print(idade +1)"
   ]
  },
  {
   "cell_type": "code",
   "execution_count": 33,
   "id": "processed-people",
   "metadata": {},
   "outputs": [
    {
     "output_type": "execute_result",
     "data": {
      "text/plain": [
       "[21, 40, 19, 28, 20]"
      ]
     },
     "metadata": {},
     "execution_count": 33
    }
   ],
   "source": [
    "idades = [20, 39, 18, 27, 19]\n",
    "idade_no_ano_que_vem = []\n",
    "for idade in idades:\n",
    "    idade_no_ano_que_vem.append(idade +1)\n",
    "idade_no_ano_que_vem"
   ]
  },
  {
   "cell_type": "code",
   "execution_count": 34,
   "id": "indonesian-skiing",
   "metadata": {},
   "outputs": [
    {
     "output_type": "execute_result",
     "data": {
      "text/plain": [
       "[21, 40, 19, 28, 20]"
      ]
     },
     "metadata": {},
     "execution_count": 34
    }
   ],
   "source": [
    "idade_no_ano_que_vem2 = [(idade + 1) for idade in idades]\n",
    "idade_no_ano_que_vem2"
   ]
  },
  {
   "cell_type": "code",
   "execution_count": 35,
   "id": "forced-freedom",
   "metadata": {},
   "outputs": [
    {
     "output_type": "execute_result",
     "data": {
      "text/plain": [
       "[39, 27]"
      ]
     },
     "metadata": {},
     "execution_count": 35
    }
   ],
   "source": [
    "[idade for idade in idades if idade > 21]"
   ]
  },
  {
   "cell_type": "code",
   "execution_count": 36,
   "id": "specific-trash",
   "metadata": {},
   "outputs": [],
   "source": [
    "#list comprehension"
   ]
  },
  {
   "cell_type": "code",
   "execution_count": 37,
   "id": "embedded-practitioner",
   "metadata": {},
   "outputs": [],
   "source": [
    "def faz_processamento_de_visualizacao(lista):\n",
    "    print(len(lista))"
   ]
  },
  {
   "cell_type": "code",
   "execution_count": 38,
   "id": "sweet-venezuela",
   "metadata": {},
   "outputs": [
    {
     "output_type": "stream",
     "name": "stdout",
     "text": [
      "5\n"
     ]
    },
    {
     "output_type": "execute_result",
     "data": {
      "text/plain": [
       "[16, 21, 29, 56, 43]"
      ]
     },
     "metadata": {},
     "execution_count": 38
    }
   ],
   "source": [
    "idades = [16, 21, 29, 56, 43]\n",
    "faz_processamento_de_visualizacao(idades)\n",
    "idades\n"
   ]
  },
  {
   "cell_type": "code",
   "execution_count": 39,
   "id": "protective-garbage",
   "metadata": {
    "scrolled": false
   },
   "outputs": [
    {
     "output_type": "stream",
     "name": "stdout",
     "text": [
      "0\n[]\n1\n[13]\n2\n[13, 13]\n3\n[13, 13, 13]\n4\n[13, 13, 13, 13]\n"
     ]
    }
   ],
   "source": [
    "def faz_processamento_de_visualizacao(lista = []):\n",
    "    print(len(lista))\n",
    "    print(lista)\n",
    "    lista.append(13)\n",
    "faz_processamento_de_visualizacao()\n",
    "faz_processamento_de_visualizacao()\n",
    "faz_processamento_de_visualizacao()\n",
    "faz_processamento_de_visualizacao()\n",
    "faz_processamento_de_visualizacao()"
   ]
  },
  {
   "cell_type": "code",
   "execution_count": 40,
   "id": "sporting-focus",
   "metadata": {},
   "outputs": [
    {
     "output_type": "stream",
     "name": "stdout",
     "text": [
      "0\n[]\n0\n[]\n0\n[]\n0\n[]\n0\n[]\n"
     ]
    }
   ],
   "source": [
    "def faz_processamento_de_visualizacao(lista = None):\n",
    "    if lista == None: lista = list()\n",
    "    print(len(lista))\n",
    "    print(lista)\n",
    "    lista.append(13)\n",
    "faz_processamento_de_visualizacao()\n",
    "faz_processamento_de_visualizacao()\n",
    "faz_processamento_de_visualizacao()\n",
    "faz_processamento_de_visualizacao()\n",
    "faz_processamento_de_visualizacao()"
   ]
  },
  {
   "cell_type": "markdown",
   "id": "olive-central",
   "metadata": {},
   "source": [
    "# Objetos próprios"
   ]
  },
  {
   "cell_type": "code",
   "execution_count": 41,
   "id": "sufficient-percentage",
   "metadata": {},
   "outputs": [],
   "source": [
    "class ContaCorrente:\n",
    "    def __init__(self, codigo):\n",
    "        self.codigo = codigo\n",
    "        self.saldo = 0\n",
    "    \n",
    "    def deposita(self, valor):\n",
    "        self.saldo += valor\n",
    "    \n",
    "    def __str__(self):\n",
    "        return \"(>>codigo {} saldo {} <<)\".format(self.codigo, self.saldo)"
   ]
  },
  {
   "cell_type": "code",
   "execution_count": 42,
   "id": "adequate-press",
   "metadata": {},
   "outputs": [
    {
     "output_type": "stream",
     "name": "stdout",
     "text": [
      "(>>codigo 15 saldo 0 <<)\n"
     ]
    }
   ],
   "source": [
    "conta_alex = ContaCorrente(15)\n",
    "print(conta_alex)"
   ]
  },
  {
   "cell_type": "code",
   "execution_count": 43,
   "id": "stone-thanks",
   "metadata": {},
   "outputs": [],
   "source": [
    "conta_alex.deposita(500)"
   ]
  },
  {
   "cell_type": "code",
   "execution_count": 44,
   "id": "eleven-stevens",
   "metadata": {},
   "outputs": [
    {
     "output_type": "stream",
     "name": "stdout",
     "text": [
      "(>>codigo 15 saldo 500 <<)\n"
     ]
    }
   ],
   "source": [
    "print(conta_alex)"
   ]
  },
  {
   "cell_type": "code",
   "execution_count": 45,
   "id": "meaningful-rocket",
   "metadata": {
    "collapsed": true
   },
   "outputs": [],
   "source": [
    "conta_da_dani = ContaCorrente(47685)"
   ]
  },
  {
   "cell_type": "code",
   "execution_count": 46,
   "metadata": {},
   "outputs": [
    {
     "output_type": "stream",
     "name": "stdout",
     "text": [
      "(>>codigo 47685 saldo 1000 <<)\n"
     ]
    }
   ],
   "source": [
    "conta_da_dani.deposita(1000)\n",
    "print(conta_da_dani)"
   ]
  },
  {
   "cell_type": "code",
   "execution_count": 47,
   "metadata": {},
   "outputs": [
    {
     "output_type": "stream",
     "name": "stdout",
     "text": [
      "[<__main__.ContaCorrente object at 0x000001BCE67D4BB0>, <__main__.ContaCorrente object at 0x000001BCE8213D90>]\n"
     ]
    }
   ],
   "source": [
    "contas = [conta_alex, conta_da_dani]\n",
    "print(contas)"
   ]
  },
  {
   "cell_type": "code",
   "execution_count": 49,
   "metadata": {},
   "outputs": [
    {
     "output_type": "stream",
     "name": "stdout",
     "text": [
      "(>>codigo 15 saldo 500 <<)\n(>>codigo 47685 saldo 1000 <<)\n"
     ]
    }
   ],
   "source": [
    "for conta in contas:\n",
    "    print(conta)"
   ]
  },
  {
   "cell_type": "code",
   "execution_count": 50,
   "metadata": {},
   "outputs": [],
   "source": [
    "contas = [conta_alex, conta_da_dani, conta_alex]"
   ]
  },
  {
   "cell_type": "code",
   "execution_count": 51,
   "metadata": {},
   "outputs": [
    {
     "output_type": "stream",
     "name": "stdout",
     "text": [
      "(>>codigo 15 saldo 500 <<)\n"
     ]
    }
   ],
   "source": [
    "print(contas[0])"
   ]
  },
  {
   "cell_type": "code",
   "execution_count": 52,
   "metadata": {},
   "outputs": [],
   "source": [
    "conta_alex.deposita(100)"
   ]
  },
  {
   "cell_type": "code",
   "execution_count": 53,
   "metadata": {},
   "outputs": [
    {
     "output_type": "stream",
     "name": "stdout",
     "text": [
      "(>>codigo 15 saldo 600 <<)\n"
     ]
    }
   ],
   "source": [
    "print(contas[0])"
   ]
  },
  {
   "cell_type": "code",
   "execution_count": 54,
   "metadata": {},
   "outputs": [
    {
     "output_type": "stream",
     "name": "stdout",
     "text": [
      "(>>codigo 15 saldo 600 <<)\n"
     ]
    }
   ],
   "source": [
    "print(conta_alex)"
   ]
  },
  {
   "cell_type": "code",
   "execution_count": 55,
   "metadata": {},
   "outputs": [],
   "source": [
    "contas[2].deposita(300)"
   ]
  },
  {
   "cell_type": "code",
   "execution_count": 56,
   "metadata": {},
   "outputs": [
    {
     "output_type": "stream",
     "name": "stdout",
     "text": [
      "(>>codigo 15 saldo 900 <<)\n"
     ]
    }
   ],
   "source": [
    "print(conta_alex)"
   ]
  },
  {
   "cell_type": "code",
   "execution_count": null,
   "metadata": {},
   "outputs": [],
   "source": []
  }
 ],
 "metadata": {
  "kernelspec": {
   "display_name": "Python 3",
   "language": "python",
   "name": "python3"
  },
  "language_info": {
   "codemirror_mode": {
    "name": "ipython",
    "version": 3
   },
   "file_extension": ".py",
   "mimetype": "text/x-python",
   "name": "python",
   "nbconvert_exporter": "python",
   "pygments_lexer": "ipython3",
   "version": "3.8.7-final"
  }
 },
 "nbformat": 4,
 "nbformat_minor": 5
}