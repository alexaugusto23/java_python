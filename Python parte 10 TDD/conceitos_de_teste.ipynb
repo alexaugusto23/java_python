{
 "cells": [
  {
   "attachments": {},
   "cell_type": "markdown",
   "metadata": {},
   "source": [
    "# Cria ambiente virtual\n",
    "py -m venv venv\n",
    "\n",
    "# Acessa o ambiente\n",
    "venv\\scripts\\activate\n",
    "\n",
    "# Instanlando pytest\n",
    "pip install pytest==7.1.2\n",
    "\n",
    "# Listando pacotes\n",
    "pip freeze\n",
    "\n",
    "# Criando Arquivo 'requirements.txt' de Configuração da Venv\n",
    "pip freeze > requirements.txt\n",
    "\n",
    "# Rodando o teste na CMD\n",
    "* pytest \n",
    "* pytest -v # mostra mais informações do teste.\n",
    "* pytest -k idade # filtra o teste pelo nome ou contém a palavra citada.\n",
    "* pytest -v -k idade # usando duas tags.\n",
    "* pytest -v -m calcular_bonus # filtrando com marcador.\n",
    "* pytest --markers # traz documentação deste decorator.\n",
    "\n",
    "# Instalando extenção do pytest de cobertura de testes.\n",
    "\n",
    "pip install pytest-cov==3.0.0\n",
    "\n",
    "# Verificando cobertura de testes\n",
    "\n",
    "* pytest --cov\n",
    "* pytest --cov=codigo tests/ # especificando o diretório de teste de cobertura.\n",
    "* pytest --cov=codigo tests/ --cov-report term-missing # mostra os testes faltantes.\n",
    "* pytest --cov=codigo tests/ --cov-report html # Gera relatório em html\n",
    "* pytest --junitxml report.xml # gera relatóri xml\n",
    "* pytest --cov-report xml"
   ]
  },
  {
   "cell_type": "markdown",
   "metadata": {},
   "source": []
  },
  {
   "attachments": {},
   "cell_type": "markdown",
   "metadata": {},
   "source": [
    "# Para saber mais: Arrange-Act-Assert\n",
    "\n",
    "Existe uma outra metodologia muito utilizada para a construção do raciocínio de funcionamento de testes chamada Arrange-Act-Assert ou simplesmente AAA. Essa metodologia também consiste em 3 etapas para a construção de um teste, análogas às etapas do Given-When-Then.\n",
    "\n",
    "Arrange: A tradução não literal seria algo como organizar. A organização, nesse caso, seria focada nos passos preliminares necessários para montar o contexto inicial do teste;\n",
    "Act: A tradução não literal seria algo como agir. Nesse caso seria a ação que parte dos passos organizados na primeira etapa e leva ao que vamos averiguar no final;\n",
    "Assert: A tradução não literal seria algo como averiguar. Nesse caso, averiguarmos que o desfecho trazido pela ação é realmente aquele que esperamos."
   ]
  },
  {
   "attachments": {},
   "cell_type": "markdown",
   "metadata": {},
   "source": [
    "# O que são testes? \n",
    "\n",
    "Afinal de contas, por que testes existem? Vamos usar o exemplo da Dominique para analisar essa questão.\n",
    "\n",
    "A Dominique é uma pessoa desenvolvedora e, ao longo de sua carreira, ela desenvolverá muitos códigos. Grande parte desses códigos serão funcionalidades de uma aplicação maior — haverá um grande projeto e cada trecho desenvolvido será uma nova funcionalidade a ser adicionada nele.\n",
    "\n",
    "Cada funcionalidade deve respeitar certas regras de negócio do projeto, recebendo determinadas informações e retornando determinados dados.\n",
    "\n",
    "No início do desenvolvimento, enquanto o projeto ainda está pequeno, é fácil julgar se o código respeita ou não as regras de negócio. Porém, conforme o projeto crescer, a hierarquia do projeto aumentar, existir mais módulos, classes e métodos, e surgir mais regras de negócio, logo cada funcionalidade terá que respeitar inúmeras regras! É neste ponto que entra o processo de testes.\n",
    "\n",
    "O teste verifica se cada funcionalidade está se comportando como deveria, garantindo um desempenho de maior qualidade dos códigos. Inclusive, há pessoas que são contratadas para se dedicarem em tempo integral apenas a esses procedimentos! Os testers são responsáveis por aplicar testes em códigos de outras pessoas desenvolvedoras, executando os famosos testes manuais.\n",
    "\n",
    "O teste manual apresenta algumas desvantagens em relação ao automático. Primeiramente, ele é um processo mais lento e trabalhoso, visto que é uma pessoa quem o realizará. Ela precisa visualizar e interpretar o código, analisar as regras de negócio e elaborar algoritmos que testarão a funcionalidade específica. Por conta desse fator humano, os testes manuais também estão sujeitos a falhas.\n",
    "\n",
    "Por outro lado, um tester é capaz de observar a especificidade de cada projeto em particular. Este é o grande mérito dos testes manuais: uma pessoa encarregada exclusivamente de testes examinará minuciosamente os processos envolvidos no código.\n",
    "\n",
    "Ademais, construir testes manuais pode ser bastante inconveniente. Uma vez que a pessoa dev está desenvolvendo um projeto, é inoportuno interromper esse avanço para produzir testes manuais para todas as funcionalidades existentes. Ainda mais se já soubermos que o código está funcionando.\n",
    "\n",
    "Em contrapartida, o teste automatizado possui várias características interessantes. A primeira vantagem é ser automatizado. Uma vez desenvolvido, é necessário apenas informar o valor que a função receberá e o valor esperado como retorno. O restante do processo é automático, não será preciso alocar tanta atenção a ele.\n",
    "\n",
    "Além disso, o feedback é rápido. Com a execução dos testes, obtemos rapidamente o retorno com os pontos de melhorias do código.\n",
    "\n",
    "Outra vantagem é a segurança na alteração do código. Como os testes automatizados definem as regras de negócio que o projeto deve obedecer, há maior segurança ao trabalhar com um código que nunca vimos antes e modificá-lo (fazendo uma migração de um padrão de projeto para outro, por exemplo). Contanto que o novo código continue obedecendo às mesmas regras do código antigo, temos maior liberdade para alterá-lo sem problemas.\n",
    "\n",
    "Dessa forma, os testes automatizados influenciam a cultura da refatoração (refactoring), incentivando a melhoria contínua de código.\n",
    "\n",
    "A seguir, vamos comentar sobre os tipos de testes.\n",
    "\n",
    "Os testes unitários são responsáveis por averiguar o funcionamento de pequenas partes da aplicação (as menores unidades de um código), como um método ou uma classe.\n",
    "\n",
    "Os testes de integração, como o nome sugere, verificam a integração entre essas unidades menores que compõem o projeto, isto é, os trechos que testamos individualmente nos testes unitários.\n",
    "\n",
    "Os testes de ponta a ponta (End-to-End — E2E) aferem o bom funcionamento da aplicação inteira, desde o início até o final. Muitas vezes, esse teste simula o usuário da aplicação e o ambiente de produção em que o produto será colocado. Trata-se de um teste mais abrangente, que compreende todo o processo da aplicação.\n",
    "\n",
    "Esses são os tipos de testes mais relevantes. Teremos mais conteúdos sobre esse tema no decorrer do curso e poderemos tirar dúvidas relacionadas aos tipos de testes. No caso, focaremos nos testes unitários."
   ]
  }
 ],
 "metadata": {
  "kernelspec": {
   "display_name": "Python 3",
   "language": "python",
   "name": "python3"
  },
  "language_info": {
   "name": "python",
   "version": "3.9.6 (tags/v3.9.6:db3ff76, Jun 28 2021, 15:26:21) [MSC v.1929 64 bit (AMD64)]"
  },
  "orig_nbformat": 4,
  "vscode": {
   "interpreter": {
    "hash": "75b64ca35833826d255b5110be976b8b491e59919d991eceebad02336ca41c97"
   }
  }
 },
 "nbformat": 4,
 "nbformat_minor": 2
}
