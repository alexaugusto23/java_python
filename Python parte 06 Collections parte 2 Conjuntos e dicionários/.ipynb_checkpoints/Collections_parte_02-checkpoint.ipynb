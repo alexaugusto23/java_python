{
 "cells": [
  {
   "cell_type": "markdown",
   "metadata": {},
   "source": [
    "# Collections parte 2: Conjuntos e dicionários"
   ]
  },
  {
   "cell_type": "markdown",
   "metadata": {
    "ExecuteTime": {
     "end_time": "2021-07-15T18:45:20.867611Z",
     "start_time": "2021-07-15T18:45:20.864614Z"
    }
   },
   "source": [
    "##  Trabalhando com conjuntos, os sets"
   ]
  },
  {
   "cell_type": "code",
   "execution_count": 1,
   "metadata": {
    "ExecuteTime": {
     "end_time": "2021-07-16T14:31:25.306076Z",
     "start_time": "2021-07-16T14:31:25.291086Z"
    }
   },
   "outputs": [],
   "source": [
    "usuarios_data_science = [15, 23, 43, 56]\n",
    "usuarios_machine_learning = [13,23,56,42]"
   ]
  },
  {
   "cell_type": "code",
   "execution_count": 2,
   "metadata": {
    "ExecuteTime": {
     "end_time": "2021-07-16T14:31:25.384028Z",
     "start_time": "2021-07-16T14:31:25.359047Z"
    }
   },
   "outputs": [
    {
     "data": {
      "text/plain": [
       "[15, 23, 43, 56]"
      ]
     },
     "execution_count": 2,
     "metadata": {},
     "output_type": "execute_result"
    }
   ],
   "source": [
    "assistiram = []\n",
    "assistiram.extend(usuarios_data_science)\n",
    "assistiram"
   ]
  },
  {
   "cell_type": "code",
   "execution_count": 3,
   "metadata": {
    "ExecuteTime": {
     "end_time": "2021-07-16T14:31:25.430998Z",
     "start_time": "2021-07-16T14:31:25.422006Z"
    }
   },
   "outputs": [
    {
     "data": {
      "text/plain": [
       "[15, 23, 43, 56, 13, 23, 56, 42]"
      ]
     },
     "execution_count": 3,
     "metadata": {},
     "output_type": "execute_result"
    }
   ],
   "source": [
    "assistiram = usuarios_data_science.copy()\n",
    "assistiram.extend(usuarios_machine_learning)\n",
    "assistiram"
   ]
  },
  {
   "cell_type": "code",
   "execution_count": 4,
   "metadata": {
    "ExecuteTime": {
     "end_time": "2021-07-16T14:31:25.492960Z",
     "start_time": "2021-07-16T14:31:25.477970Z"
    }
   },
   "outputs": [
    {
     "data": {
      "text/plain": [
       "8"
      ]
     },
     "execution_count": 4,
     "metadata": {},
     "output_type": "execute_result"
    }
   ],
   "source": [
    "len(assistiram)"
   ]
  },
  {
   "cell_type": "code",
   "execution_count": 5,
   "metadata": {
    "ExecuteTime": {
     "end_time": "2021-07-16T14:31:25.539929Z",
     "start_time": "2021-07-16T14:31:25.529939Z"
    }
   },
   "outputs": [],
   "source": [
    "# set -> conjunto"
   ]
  },
  {
   "cell_type": "code",
   "execution_count": 6,
   "metadata": {
    "ExecuteTime": {
     "end_time": "2021-07-16T14:31:25.586901Z",
     "start_time": "2021-07-16T14:31:25.580907Z"
    }
   },
   "outputs": [
    {
     "data": {
      "text/plain": [
       "{13, 15, 23, 42, 43, 56}"
      ]
     },
     "execution_count": 6,
     "metadata": {},
     "output_type": "execute_result"
    }
   ],
   "source": [
    "set(assistiram)"
   ]
  },
  {
   "cell_type": "code",
   "execution_count": 7,
   "metadata": {
    "ExecuteTime": {
     "end_time": "2021-07-16T14:31:25.650864Z",
     "start_time": "2021-07-16T14:31:25.631876Z"
    }
   },
   "outputs": [
    {
     "data": {
      "text/plain": [
       "{1, 2, 3}"
      ]
     },
     "execution_count": 7,
     "metadata": {},
     "output_type": "execute_result"
    }
   ],
   "source": [
    "set([1,2,3,1])"
   ]
  },
  {
   "cell_type": "code",
   "execution_count": 8,
   "metadata": {
    "ExecuteTime": {
     "end_time": "2021-07-16T14:31:25.698838Z",
     "start_time": "2021-07-16T14:31:25.683848Z"
    }
   },
   "outputs": [
    {
     "data": {
      "text/plain": [
       "{1, 2, 3, 4}"
      ]
     },
     "execution_count": 8,
     "metadata": {},
     "output_type": "execute_result"
    }
   ],
   "source": [
    "{4,1,2,3,1}"
   ]
  },
  {
   "cell_type": "code",
   "execution_count": 9,
   "metadata": {
    "ExecuteTime": {
     "end_time": "2021-07-16T14:31:25.743809Z",
     "start_time": "2021-07-16T14:31:25.738815Z"
    }
   },
   "outputs": [
    {
     "data": {
      "text/plain": [
       "set"
      ]
     },
     "execution_count": 9,
     "metadata": {},
     "output_type": "execute_result"
    }
   ],
   "source": [
    "type({1,2})"
   ]
  },
  {
   "cell_type": "code",
   "execution_count": 10,
   "metadata": {
    "ExecuteTime": {
     "end_time": "2021-07-16T14:31:25.821761Z",
     "start_time": "2021-07-16T14:31:25.803774Z"
    }
   },
   "outputs": [],
   "source": [
    "usuarios_data_science = {15, 23, 43, 56}\n",
    "usuarios_machine_learning = {13,23,56,42}"
   ]
  },
  {
   "cell_type": "code",
   "execution_count": 11,
   "metadata": {
    "ExecuteTime": {
     "end_time": "2021-07-16T14:31:25.913704Z",
     "start_time": "2021-07-16T14:31:25.906711Z"
    }
   },
   "outputs": [
    {
     "data": {
      "text/plain": [
       "{15, 23, 43, 56}"
      ]
     },
     "execution_count": 11,
     "metadata": {},
     "output_type": "execute_result"
    }
   ],
   "source": [
    "usuarios_data_science"
   ]
  },
  {
   "cell_type": "code",
   "execution_count": 12,
   "metadata": {
    "ExecuteTime": {
     "end_time": "2021-07-16T14:31:25.975667Z",
     "start_time": "2021-07-16T14:31:25.966674Z"
    }
   },
   "outputs": [
    {
     "data": {
      "text/plain": [
       "{13, 23, 42, 56}"
      ]
     },
     "execution_count": 12,
     "metadata": {},
     "output_type": "execute_result"
    }
   ],
   "source": [
    "usuarios_machine_learning"
   ]
  },
  {
   "cell_type": "code",
   "execution_count": 13,
   "metadata": {
    "ExecuteTime": {
     "end_time": "2021-07-16T14:31:26.037627Z",
     "start_time": "2021-07-16T14:31:26.026636Z"
    }
   },
   "outputs": [
    {
     "name": "stdout",
     "output_type": "stream",
     "text": [
      "42\n",
      "43\n",
      "13\n",
      "15\n",
      "23\n",
      "56\n"
     ]
    }
   ],
   "source": [
    "for usuario in set(assistiram):\n",
    "    print(usuario)"
   ]
  },
  {
   "cell_type": "code",
   "execution_count": 14,
   "metadata": {
    "ExecuteTime": {
     "end_time": "2021-07-16T14:31:26.101587Z",
     "start_time": "2021-07-16T14:31:26.089596Z"
    }
   },
   "outputs": [],
   "source": [
    "# União dos conjuntos."
   ]
  },
  {
   "cell_type": "code",
   "execution_count": 15,
   "metadata": {
    "ExecuteTime": {
     "end_time": "2021-07-16T14:31:26.163548Z",
     "start_time": "2021-07-16T14:31:26.151557Z"
    }
   },
   "outputs": [
    {
     "data": {
      "text/plain": [
       "{13, 15, 23, 42, 43, 56}"
      ]
     },
     "execution_count": 15,
     "metadata": {},
     "output_type": "execute_result"
    }
   ],
   "source": [
    "usuarios_data_science | usuarios_machine_learning"
   ]
  },
  {
   "cell_type": "markdown",
   "metadata": {},
   "source": [
    "##  Mais operações de conjuntos"
   ]
  },
  {
   "cell_type": "code",
   "execution_count": 16,
   "metadata": {
    "ExecuteTime": {
     "end_time": "2021-07-16T14:31:26.653294Z",
     "start_time": "2021-07-16T14:31:26.636307Z"
    }
   },
   "outputs": [],
   "source": [
    "# intersecção dos conjuntos."
   ]
  },
  {
   "cell_type": "code",
   "execution_count": 17,
   "metadata": {
    "ExecuteTime": {
     "end_time": "2021-07-16T14:31:26.701266Z",
     "start_time": "2021-07-16T14:31:26.687281Z"
    }
   },
   "outputs": [
    {
     "data": {
      "text/plain": [
       "{23, 56}"
      ]
     },
     "execution_count": 17,
     "metadata": {},
     "output_type": "execute_result"
    }
   ],
   "source": [
    "usuarios_data_science & usuarios_machine_learning"
   ]
  },
  {
   "cell_type": "code",
   "execution_count": 18,
   "metadata": {
    "ExecuteTime": {
     "end_time": "2021-07-16T14:31:26.747235Z",
     "start_time": "2021-07-16T14:31:26.738244Z"
    }
   },
   "outputs": [
    {
     "data": {
      "text/plain": [
       "{15, 43}"
      ]
     },
     "execution_count": 18,
     "metadata": {},
     "output_type": "execute_result"
    }
   ],
   "source": [
    "lista_para_ml = usuarios_data_science - usuarios_machine_learning\n",
    "lista_para_ml"
   ]
  },
  {
   "cell_type": "code",
   "execution_count": 19,
   "metadata": {
    "ExecuteTime": {
     "end_time": "2021-07-16T14:31:26.795205Z",
     "start_time": "2021-07-16T14:31:26.790210Z"
    }
   },
   "outputs": [
    {
     "data": {
      "text/plain": [
       "True"
      ]
     },
     "execution_count": 19,
     "metadata": {},
     "output_type": "execute_result"
    }
   ],
   "source": [
    "fez_ds_mas_nao_fez_ml =  usuarios_data_science - usuarios_machine_learning\n",
    "15 in fez_ds_mas_nao_fez_ml"
   ]
  },
  {
   "cell_type": "code",
   "execution_count": 20,
   "metadata": {
    "ExecuteTime": {
     "end_time": "2021-07-16T14:31:26.859168Z",
     "start_time": "2021-07-16T14:31:26.841177Z"
    }
   },
   "outputs": [
    {
     "data": {
      "text/plain": [
       "False"
      ]
     },
     "execution_count": 20,
     "metadata": {},
     "output_type": "execute_result"
    }
   ],
   "source": [
    "23 in fez_ds_mas_nao_fez_ml"
   ]
  },
  {
   "cell_type": "code",
   "execution_count": 21,
   "metadata": {
    "ExecuteTime": {
     "end_time": "2021-07-16T14:31:26.905138Z",
     "start_time": "2021-07-16T14:31:26.891148Z"
    }
   },
   "outputs": [
    {
     "data": {
      "text/plain": [
       "{13, 15, 42, 43}"
      ]
     },
     "execution_count": 21,
     "metadata": {},
     "output_type": "execute_result"
    }
   ],
   "source": [
    "usuarios_data_science ^ usuarios_machine_learning"
   ]
  },
  {
   "cell_type": "code",
   "execution_count": 22,
   "metadata": {
    "ExecuteTime": {
     "end_time": "2021-07-16T14:31:26.953107Z",
     "start_time": "2021-07-16T14:31:26.945113Z"
    }
   },
   "outputs": [
    {
     "data": {
      "text/plain": [
       "{13, 15, 42, 43}"
      ]
     },
     "execution_count": 22,
     "metadata": {},
     "output_type": "execute_result"
    }
   ],
   "source": [
    "usuarios_data_science - usuarios_machine_learning | usuarios_machine_learning - usuarios_data_science "
   ]
  },
  {
   "cell_type": "code",
   "execution_count": 23,
   "metadata": {
    "ExecuteTime": {
     "end_time": "2021-07-16T14:31:27.015069Z",
     "start_time": "2021-07-16T14:31:26.999082Z"
    }
   },
   "outputs": [],
   "source": [
    "# Utilizar o | para juntar conjuntos;\n",
    "# Utilizar o & para juntar apenas números que estão no mesmo conjunto;\n",
    "# Utilizar o - para remover números repetidos que estão no em dois conjuntos;\n",
    "# O que é ou (^) exclusivo."
   ]
  },
  {
   "cell_type": "markdown",
   "metadata": {},
   "source": [
    "## Outro tipo de conjunto e conjuntos de outros tipos"
   ]
  },
  {
   "cell_type": "code",
   "execution_count": 24,
   "metadata": {
    "ExecuteTime": {
     "end_time": "2021-07-16T14:31:27.484779Z",
     "start_time": "2021-07-16T14:31:27.477783Z"
    }
   },
   "outputs": [
    {
     "data": {
      "text/plain": [
       "7"
      ]
     },
     "execution_count": 24,
     "metadata": {},
     "output_type": "execute_result"
    }
   ],
   "source": [
    "usuarios = {1,5,76,34,52,13,17}\n",
    "len(usuarios)"
   ]
  },
  {
   "cell_type": "code",
   "execution_count": 25,
   "metadata": {
    "ExecuteTime": {
     "end_time": "2021-07-16T14:31:27.532753Z",
     "start_time": "2021-07-16T14:31:27.528753Z"
    }
   },
   "outputs": [
    {
     "data": {
      "text/plain": [
       "7"
      ]
     },
     "execution_count": 25,
     "metadata": {},
     "output_type": "execute_result"
    }
   ],
   "source": [
    "usuarios.add(13)\n",
    "len(usuarios)"
   ]
  },
  {
   "cell_type": "code",
   "execution_count": 26,
   "metadata": {
    "ExecuteTime": {
     "end_time": "2021-07-16T14:31:27.596710Z",
     "start_time": "2021-07-16T14:31:27.578720Z"
    }
   },
   "outputs": [
    {
     "data": {
      "text/plain": [
       "8"
      ]
     },
     "execution_count": 26,
     "metadata": {},
     "output_type": "execute_result"
    }
   ],
   "source": [
    "usuarios.add(765)\n",
    "len(usuarios)"
   ]
  },
  {
   "cell_type": "code",
   "execution_count": 27,
   "metadata": {
    "ExecuteTime": {
     "end_time": "2021-07-16T14:31:27.642682Z",
     "start_time": "2021-07-16T14:31:27.628689Z"
    }
   },
   "outputs": [
    {
     "data": {
      "text/plain": [
       "frozenset({1, 5, 13, 17, 34, 52, 76, 765})"
      ]
     },
     "execution_count": 27,
     "metadata": {},
     "output_type": "execute_result"
    }
   ],
   "source": [
    "usuarios = frozenset(usuarios)\n",
    "usuarios"
   ]
  },
  {
   "cell_type": "code",
   "execution_count": 28,
   "metadata": {
    "ExecuteTime": {
     "end_time": "2021-07-16T14:31:27.690651Z",
     "start_time": "2021-07-16T14:31:27.678658Z"
    }
   },
   "outputs": [
    {
     "data": {
      "text/plain": [
       "frozenset"
      ]
     },
     "execution_count": 28,
     "metadata": {},
     "output_type": "execute_result"
    }
   ],
   "source": [
    "type(usuarios)"
   ]
  },
  {
   "cell_type": "code",
   "execution_count": 29,
   "metadata": {
    "ExecuteTime": {
     "end_time": "2021-07-16T14:31:27.832563Z",
     "start_time": "2021-07-16T14:31:27.730626Z"
    }
   },
   "outputs": [
    {
     "ename": "AttributeError",
     "evalue": "'frozenset' object has no attribute 'add'",
     "output_type": "error",
     "traceback": [
      "\u001b[1;31m---------------------------------------------------------------------------\u001b[0m",
      "\u001b[1;31mAttributeError\u001b[0m                            Traceback (most recent call last)",
      "\u001b[1;32m<ipython-input-29-f85b988f2472>\u001b[0m in \u001b[0;36m<module>\u001b[1;34m\u001b[0m\n\u001b[1;32m----> 1\u001b[1;33m \u001b[0musuarios\u001b[0m\u001b[1;33m.\u001b[0m\u001b[0madd\u001b[0m\u001b[1;33m(\u001b[0m\u001b[1;36m134\u001b[0m\u001b[1;33m)\u001b[0m\u001b[1;33m\u001b[0m\u001b[1;33m\u001b[0m\u001b[0m\n\u001b[0m",
      "\u001b[1;31mAttributeError\u001b[0m: 'frozenset' object has no attribute 'add'"
     ]
    }
   ],
   "source": [
    "usuarios.add(134)"
   ]
  },
  {
   "cell_type": "code",
   "execution_count": null,
   "metadata": {
    "ExecuteTime": {
     "end_time": "2021-07-16T14:31:27.835561Z",
     "start_time": "2021-07-16T14:31:27.782Z"
    }
   },
   "outputs": [],
   "source": [
    "meu_texto = \"Bem vindo meu nome é Guilherme eu gosto muito de nomes e tenho o meu cachorro e gosto muito de cachorro\""
   ]
  },
  {
   "cell_type": "code",
   "execution_count": null,
   "metadata": {
    "ExecuteTime": {
     "end_time": "2021-07-16T14:31:27.836559Z",
     "start_time": "2021-07-16T14:31:27.833Z"
    },
    "scrolled": true
   },
   "outputs": [],
   "source": [
    "meu_texto.split()"
   ]
  },
  {
   "cell_type": "code",
   "execution_count": null,
   "metadata": {
    "ExecuteTime": {
     "end_time": "2021-07-16T14:31:27.883530Z",
     "start_time": "2021-07-16T14:31:27.881Z"
    }
   },
   "outputs": [],
   "source": [
    "set(meu_texto.split())"
   ]
  },
  {
   "cell_type": "markdown",
   "metadata": {},
   "source": [
    "## Dicionários ou Dict"
   ]
  },
  {
   "cell_type": "markdown",
   "metadata": {},
   "source": [
    "### Mapa"
   ]
  },
  {
   "cell_type": "code",
   "execution_count": 30,
   "metadata": {
    "ExecuteTime": {
     "end_time": "2021-07-16T14:31:28.793966Z",
     "start_time": "2021-07-16T14:31:28.784971Z"
    }
   },
   "outputs": [],
   "source": [
    "# \"Guilherme\":1,\n",
    "# \"Cachorro\":2,\n",
    "# \"Nome\":3,\n",
    "# \"Vindo\":4"
   ]
  },
  {
   "cell_type": "code",
   "execution_count": 31,
   "metadata": {
    "ExecuteTime": {
     "end_time": "2021-07-16T14:31:28.855927Z",
     "start_time": "2021-07-16T14:31:28.837939Z"
    }
   },
   "outputs": [],
   "source": [
    "aparicoes = {\"Guilherme\":1,\n",
    "\"Cachorro\":2,\n",
    "\"Nome\":3,\n",
    "\"Vindo\":4}"
   ]
  },
  {
   "cell_type": "code",
   "execution_count": 32,
   "metadata": {
    "ExecuteTime": {
     "end_time": "2021-07-16T14:31:28.903899Z",
     "start_time": "2021-07-16T14:31:28.886910Z"
    }
   },
   "outputs": [
    {
     "data": {
      "text/plain": [
       "{'Guilherme': 1, 'Cachorro': 2, 'Nome': 3, 'Vindo': 4}"
      ]
     },
     "execution_count": 32,
     "metadata": {},
     "output_type": "execute_result"
    }
   ],
   "source": [
    "aparicoes"
   ]
  },
  {
   "cell_type": "code",
   "execution_count": 33,
   "metadata": {
    "ExecuteTime": {
     "end_time": "2021-07-16T14:31:28.951869Z",
     "start_time": "2021-07-16T14:31:28.938877Z"
    }
   },
   "outputs": [
    {
     "data": {
      "text/plain": [
       "dict"
      ]
     },
     "execution_count": 33,
     "metadata": {},
     "output_type": "execute_result"
    }
   ],
   "source": [
    "type(aparicoes)"
   ]
  },
  {
   "cell_type": "code",
   "execution_count": 34,
   "metadata": {
    "ExecuteTime": {
     "end_time": "2021-07-16T14:31:28.997837Z",
     "start_time": "2021-07-16T14:31:28.987846Z"
    }
   },
   "outputs": [
    {
     "data": {
      "text/plain": [
       "1"
      ]
     },
     "execution_count": 34,
     "metadata": {},
     "output_type": "execute_result"
    }
   ],
   "source": [
    "aparicoes[\"Guilherme\"]"
   ]
  },
  {
   "cell_type": "code",
   "execution_count": 35,
   "metadata": {
    "ExecuteTime": {
     "end_time": "2021-07-16T14:31:29.045808Z",
     "start_time": "2021-07-16T14:31:29.037814Z"
    }
   },
   "outputs": [
    {
     "data": {
      "text/plain": [
       "2"
      ]
     },
     "execution_count": 35,
     "metadata": {},
     "output_type": "execute_result"
    }
   ],
   "source": [
    "aparicoes[\"Cachorro\"]"
   ]
  },
  {
   "cell_type": "code",
   "execution_count": 36,
   "metadata": {
    "ExecuteTime": {
     "end_time": "2021-07-16T14:31:29.093780Z",
     "start_time": "2021-07-16T14:31:29.085784Z"
    }
   },
   "outputs": [
    {
     "data": {
      "text/plain": [
       "'Não encontrado'"
      ]
     },
     "execution_count": 36,
     "metadata": {},
     "output_type": "execute_result"
    }
   ],
   "source": [
    "aparicoes.get(\"xpto\", \"Não encontrado\")"
   ]
  },
  {
   "cell_type": "code",
   "execution_count": 37,
   "metadata": {
    "ExecuteTime": {
     "end_time": "2021-07-16T14:31:29.154741Z",
     "start_time": "2021-07-16T14:31:29.135753Z"
    }
   },
   "outputs": [
    {
     "data": {
      "text/plain": [
       "2"
      ]
     },
     "execution_count": 37,
     "metadata": {},
     "output_type": "execute_result"
    }
   ],
   "source": [
    "aparicoes.get(\"Cachorro\", \"Não encontrado\")"
   ]
  },
  {
   "cell_type": "code",
   "execution_count": 38,
   "metadata": {
    "ExecuteTime": {
     "end_time": "2021-07-16T14:31:29.201714Z",
     "start_time": "2021-07-16T14:31:29.185723Z"
    }
   },
   "outputs": [
    {
     "data": {
      "text/plain": [
       "{'Guilerme': 2, 'Cachorro': 1}"
      ]
     },
     "execution_count": 38,
     "metadata": {},
     "output_type": "execute_result"
    }
   ],
   "source": [
    "aparicoes = dict(Guilerme=2, Cachorro = 1)\n",
    "aparicoes"
   ]
  },
  {
   "cell_type": "code",
   "execution_count": 39,
   "metadata": {
    "ExecuteTime": {
     "end_time": "2021-07-16T14:31:29.249684Z",
     "start_time": "2021-07-16T14:31:29.236692Z"
    }
   },
   "outputs": [
    {
     "data": {
      "text/plain": [
       "{'Guilherme': 1, 'Cachorro': 2, 'Nome': 3, 'Vindo': 4}"
      ]
     },
     "execution_count": 39,
     "metadata": {},
     "output_type": "execute_result"
    }
   ],
   "source": [
    "aparicoes = {\"Guilherme\":1,\n",
    "\"Cachorro\":2,\n",
    "\"Nome\":3,\n",
    "\"Vindo\":4}\n",
    "aparicoes"
   ]
  },
  {
   "cell_type": "markdown",
   "metadata": {},
   "source": [
    "##  Mais operações de dicionários"
   ]
  },
  {
   "cell_type": "code",
   "execution_count": 40,
   "metadata": {
    "ExecuteTime": {
     "end_time": "2021-07-16T14:31:29.737380Z",
     "start_time": "2021-07-16T14:31:29.731386Z"
    }
   },
   "outputs": [
    {
     "data": {
      "text/plain": [
       "{'Guilherme': 1, 'Cachorro': 2, 'Nome': 3, 'Vindo': 4, 'Carlos': 1}"
      ]
     },
     "execution_count": 40,
     "metadata": {},
     "output_type": "execute_result"
    }
   ],
   "source": [
    "aparicoes[\"Carlos\"] = 1\n",
    "aparicoes"
   ]
  },
  {
   "cell_type": "code",
   "execution_count": 41,
   "metadata": {
    "ExecuteTime": {
     "end_time": "2021-07-16T14:31:29.799342Z",
     "start_time": "2021-07-16T14:31:29.780354Z"
    }
   },
   "outputs": [
    {
     "data": {
      "text/plain": [
       "{'Guilherme': 1, 'Cachorro': 2, 'Nome': 3, 'Vindo': 4, 'Carlos': 2}"
      ]
     },
     "execution_count": 41,
     "metadata": {},
     "output_type": "execute_result"
    }
   ],
   "source": [
    "aparicoes[\"Carlos\"] = 2\n",
    "aparicoes"
   ]
  },
  {
   "cell_type": "code",
   "execution_count": 42,
   "metadata": {
    "ExecuteTime": {
     "end_time": "2021-07-16T14:31:29.847313Z",
     "start_time": "2021-07-16T14:31:29.829331Z"
    }
   },
   "outputs": [
    {
     "data": {
      "text/plain": [
       "{'Guilherme': 1, 'Cachorro': 2, 'Nome': 3, 'Vindo': 4}"
      ]
     },
     "execution_count": 42,
     "metadata": {},
     "output_type": "execute_result"
    }
   ],
   "source": [
    "del aparicoes[\"Carlos\"]\n",
    "aparicoes"
   ]
  },
  {
   "cell_type": "code",
   "execution_count": 43,
   "metadata": {
    "ExecuteTime": {
     "end_time": "2021-07-16T14:31:29.894282Z",
     "start_time": "2021-07-16T14:31:29.880298Z"
    }
   },
   "outputs": [
    {
     "data": {
      "text/plain": [
       "True"
      ]
     },
     "execution_count": 43,
     "metadata": {},
     "output_type": "execute_result"
    }
   ],
   "source": [
    "\"Cachorro\" in aparicoes"
   ]
  },
  {
   "cell_type": "code",
   "execution_count": 44,
   "metadata": {
    "ExecuteTime": {
     "end_time": "2021-07-16T14:31:29.941254Z",
     "start_time": "2021-07-16T14:31:29.931259Z"
    }
   },
   "outputs": [
    {
     "data": {
      "text/plain": [
       "False"
      ]
     },
     "execution_count": 44,
     "metadata": {},
     "output_type": "execute_result"
    }
   ],
   "source": [
    "\"Carlos\" in aparicoes"
   ]
  },
  {
   "cell_type": "code",
   "execution_count": 45,
   "metadata": {
    "ExecuteTime": {
     "end_time": "2021-07-16T14:31:29.989223Z",
     "start_time": "2021-07-16T14:31:29.981234Z"
    }
   },
   "outputs": [
    {
     "name": "stdout",
     "output_type": "stream",
     "text": [
      "Guilherme\n",
      "Cachorro\n",
      "Nome\n",
      "Vindo\n"
     ]
    }
   ],
   "source": [
    "for elemento in aparicoes:\n",
    "    print(elemento)"
   ]
  },
  {
   "cell_type": "code",
   "execution_count": 46,
   "metadata": {
    "ExecuteTime": {
     "end_time": "2021-07-16T14:31:30.037192Z",
     "start_time": "2021-07-16T14:31:30.032199Z"
    }
   },
   "outputs": [
    {
     "name": "stdout",
     "output_type": "stream",
     "text": [
      "Guilherme\n",
      "Cachorro\n",
      "Nome\n",
      "Vindo\n"
     ]
    }
   ],
   "source": [
    "for elemento in aparicoes.keys():\n",
    "    print(elemento)"
   ]
  },
  {
   "cell_type": "code",
   "execution_count": 47,
   "metadata": {
    "ExecuteTime": {
     "end_time": "2021-07-16T14:31:30.099156Z",
     "start_time": "2021-07-16T14:31:30.083165Z"
    }
   },
   "outputs": [
    {
     "name": "stdout",
     "output_type": "stream",
     "text": [
      "1\n",
      "2\n",
      "3\n",
      "4\n"
     ]
    }
   ],
   "source": [
    "for elemento in aparicoes.values():\n",
    "    print(elemento)"
   ]
  },
  {
   "cell_type": "code",
   "execution_count": 48,
   "metadata": {
    "ExecuteTime": {
     "end_time": "2021-07-16T14:31:30.145128Z",
     "start_time": "2021-07-16T14:31:30.134134Z"
    }
   },
   "outputs": [
    {
     "name": "stdout",
     "output_type": "stream",
     "text": [
      "Guilherme 1\n",
      "Cachorro 2\n",
      "Nome 3\n",
      "Vindo 4\n"
     ]
    }
   ],
   "source": [
    "for elemento in aparicoes.keys():\n",
    "    print(elemento, aparicoes[elemento])"
   ]
  },
  {
   "cell_type": "code",
   "execution_count": 49,
   "metadata": {
    "ExecuteTime": {
     "end_time": "2021-07-16T14:31:30.193098Z",
     "start_time": "2021-07-16T14:31:30.186102Z"
    }
   },
   "outputs": [
    {
     "name": "stdout",
     "output_type": "stream",
     "text": [
      "('Guilherme', 1)\n",
      "('Cachorro', 2)\n",
      "('Nome', 3)\n",
      "('Vindo', 4)\n"
     ]
    }
   ],
   "source": [
    "for elemento in aparicoes.items():\n",
    "    print(elemento)"
   ]
  },
  {
   "cell_type": "code",
   "execution_count": 50,
   "metadata": {
    "ExecuteTime": {
     "end_time": "2021-07-16T14:31:30.255059Z",
     "start_time": "2021-07-16T14:31:30.238069Z"
    }
   },
   "outputs": [
    {
     "name": "stdout",
     "output_type": "stream",
     "text": [
      "Guilherme = 1\n",
      "Cachorro = 2\n",
      "Nome = 3\n",
      "Vindo = 4\n"
     ]
    }
   ],
   "source": [
    "for chave, valor in aparicoes.items():\n",
    "    print(f\"{chave} = {valor}\")"
   ]
  },
  {
   "cell_type": "code",
   "execution_count": 51,
   "metadata": {
    "ExecuteTime": {
     "end_time": "2021-07-16T14:31:30.303028Z",
     "start_time": "2021-07-16T14:31:30.290037Z"
    }
   },
   "outputs": [],
   "source": [
    "# List Comprehensions (Compreensão de Listas): [expr for item in lista] "
   ]
  },
  {
   "cell_type": "code",
   "execution_count": 52,
   "metadata": {
    "ExecuteTime": {
     "end_time": "2021-07-16T14:31:30.349998Z",
     "start_time": "2021-07-16T14:31:30.340006Z"
    }
   },
   "outputs": [
    {
     "data": {
      "text/plain": [
       "['palavra Guilherme', 'palavra Cachorro', 'palavra Nome', 'palavra Vindo']"
      ]
     },
     "execution_count": 52,
     "metadata": {},
     "output_type": "execute_result"
    }
   ],
   "source": [
    "[\"palavra {}\".format(chave) for chave in aparicoes.keys()]"
   ]
  },
  {
   "cell_type": "markdown",
   "metadata": {},
   "source": [
    "## Default dict"
   ]
  },
  {
   "cell_type": "code",
   "execution_count": 53,
   "metadata": {
    "ExecuteTime": {
     "end_time": "2021-07-16T14:31:30.882173Z",
     "start_time": "2021-07-16T14:31:30.867185Z"
    }
   },
   "outputs": [],
   "source": [
    "meu_texto = \"Bem vindo meu nome é Guilherme eu gosto muito de nomes e tenho o meu cachorro e gosto muito de cachorro do cachorro\"\n",
    "meu_texto = meu_texto.lower()\n",
    "\n"
   ]
  },
  {
   "cell_type": "code",
   "execution_count": 54,
   "metadata": {
    "ExecuteTime": {
     "end_time": "2021-07-16T14:31:30.928498Z",
     "start_time": "2021-07-16T14:31:30.919504Z"
    }
   },
   "outputs": [
    {
     "data": {
      "text/plain": [
       "['bem',\n",
       " 'vindo',\n",
       " 'meu',\n",
       " 'nome',\n",
       " 'é',\n",
       " 'guilherme',\n",
       " 'eu',\n",
       " 'gosto',\n",
       " 'muito',\n",
       " 'de',\n",
       " 'nomes',\n",
       " 'e',\n",
       " 'tenho',\n",
       " 'o',\n",
       " 'meu',\n",
       " 'cachorro',\n",
       " 'e',\n",
       " 'gosto',\n",
       " 'muito',\n",
       " 'de',\n",
       " 'cachorro',\n",
       " 'do',\n",
       " 'cachorro']"
      ]
     },
     "execution_count": 54,
     "metadata": {},
     "output_type": "execute_result"
    }
   ],
   "source": [
    "meu_texto.split()"
   ]
  },
  {
   "cell_type": "code",
   "execution_count": 55,
   "metadata": {
    "ExecuteTime": {
     "end_time": "2021-07-16T14:31:30.990460Z",
     "start_time": "2021-07-16T14:31:30.972471Z"
    }
   },
   "outputs": [
    {
     "data": {
      "text/plain": [
       "{'bem': 1,\n",
       " 'vindo': 1,\n",
       " 'meu': 2,\n",
       " 'nome': 1,\n",
       " 'é': 1,\n",
       " 'guilherme': 1,\n",
       " 'eu': 1,\n",
       " 'gosto': 2,\n",
       " 'muito': 2,\n",
       " 'de': 2,\n",
       " 'nomes': 1,\n",
       " 'e': 2,\n",
       " 'tenho': 1,\n",
       " 'o': 1,\n",
       " 'cachorro': 3,\n",
       " 'do': 1}"
      ]
     },
     "execution_count": 55,
     "metadata": {},
     "output_type": "execute_result"
    }
   ],
   "source": [
    "aparicoes = {}\n",
    "\n",
    "for palavra in meu_texto.split():\n",
    "    ate_agora = aparicoes.get(palavra, 0)\n",
    "    aparicoes[palavra] = ate_agora + 1\n",
    "\n",
    "aparicoes"
   ]
  },
  {
   "cell_type": "code",
   "execution_count": 56,
   "metadata": {
    "ExecuteTime": {
     "end_time": "2021-07-16T14:31:31.038432Z",
     "start_time": "2021-07-16T14:31:31.028437Z"
    }
   },
   "outputs": [
    {
     "data": {
      "text/plain": [
       "defaultdict(int,\n",
       "            {'bem': 1,\n",
       "             'vindo': 1,\n",
       "             'meu': 2,\n",
       "             'nome': 1,\n",
       "             'é': 1,\n",
       "             'guilherme': 1,\n",
       "             'eu': 1,\n",
       "             'gosto': 2,\n",
       "             'muito': 2,\n",
       "             'de': 2,\n",
       "             'nomes': 1,\n",
       "             'e': 2,\n",
       "             'tenho': 1,\n",
       "             'o': 1,\n",
       "             'cachorro': 3,\n",
       "             'do': 1})"
      ]
     },
     "execution_count": 56,
     "metadata": {},
     "output_type": "execute_result"
    }
   ],
   "source": [
    "from collections import defaultdict\n",
    "\n",
    "aparicoes = defaultdict(int)\n",
    "\n",
    "for palavra in meu_texto.split():\n",
    "    ate_agora = aparicoes[palavra]\n",
    "    aparicoes[palavra] = ate_agora + 1\n",
    "\n",
    "aparicoes"
   ]
  },
  {
   "cell_type": "code",
   "execution_count": 57,
   "metadata": {
    "ExecuteTime": {
     "end_time": "2021-07-16T14:31:31.116382Z",
     "start_time": "2021-07-16T14:31:31.099394Z"
    }
   },
   "outputs": [
    {
     "data": {
      "text/plain": [
       "0"
      ]
     },
     "execution_count": 57,
     "metadata": {},
     "output_type": "execute_result"
    }
   ],
   "source": [
    "dicionario = defaultdict(int)\n",
    "dicionario['guilherme']"
   ]
  },
  {
   "cell_type": "code",
   "execution_count": 58,
   "metadata": {
    "ExecuteTime": {
     "end_time": "2021-07-16T14:31:31.180341Z",
     "start_time": "2021-07-16T14:31:31.170349Z"
    }
   },
   "outputs": [
    {
     "data": {
      "text/plain": [
       "15"
      ]
     },
     "execution_count": 58,
     "metadata": {},
     "output_type": "execute_result"
    }
   ],
   "source": [
    "dicionario['guilherme'] = 15\n",
    "dicionario['guilherme'] "
   ]
  },
  {
   "cell_type": "markdown",
   "metadata": {},
   "source": [
    "## Counter"
   ]
  },
  {
   "cell_type": "code",
   "execution_count": 59,
   "metadata": {
    "ExecuteTime": {
     "end_time": "2021-07-16T14:31:31.804461Z",
     "start_time": "2021-07-16T14:31:31.787473Z"
    }
   },
   "outputs": [
    {
     "data": {
      "text/plain": [
       "defaultdict(int,\n",
       "            {'bem': 1,\n",
       "             'vindo': 1,\n",
       "             'meu': 2,\n",
       "             'nome': 1,\n",
       "             'é': 1,\n",
       "             'guilherme': 1,\n",
       "             'eu': 1,\n",
       "             'gosto': 2,\n",
       "             'muito': 2,\n",
       "             'de': 2,\n",
       "             'nomes': 1,\n",
       "             'e': 2,\n",
       "             'tenho': 1,\n",
       "             'o': 1,\n",
       "             'cachorro': 3,\n",
       "             'do': 1})"
      ]
     },
     "execution_count": 59,
     "metadata": {},
     "output_type": "execute_result"
    }
   ],
   "source": [
    "aparicoes = defaultdict(int)\n",
    "\n",
    "for palavra in meu_texto.split():\n",
    "    aparicoes[palavra] +=  1\n",
    "\n",
    "aparicoes"
   ]
  },
  {
   "cell_type": "code",
   "execution_count": 60,
   "metadata": {
    "ExecuteTime": {
     "end_time": "2021-07-16T14:31:31.850431Z",
     "start_time": "2021-07-16T14:31:31.842438Z"
    }
   },
   "outputs": [],
   "source": [
    "class Conta:\n",
    "    def __init__(self):\n",
    "        print(\"Criando uma conta\")"
   ]
  },
  {
   "cell_type": "code",
   "execution_count": 61,
   "metadata": {
    "ExecuteTime": {
     "end_time": "2021-07-16T14:31:31.912395Z",
     "start_time": "2021-07-16T14:31:31.895405Z"
    }
   },
   "outputs": [
    {
     "name": "stdout",
     "output_type": "stream",
     "text": [
      "Criando uma conta\n"
     ]
    },
    {
     "data": {
      "text/plain": [
       "<__main__.Conta at 0x1af35de9048>"
      ]
     },
     "execution_count": 61,
     "metadata": {},
     "output_type": "execute_result"
    }
   ],
   "source": [
    "contas = defaultdict(Conta)\n",
    "contas[15]"
   ]
  },
  {
   "cell_type": "code",
   "execution_count": 62,
   "metadata": {
    "ExecuteTime": {
     "end_time": "2021-07-16T14:31:31.960365Z",
     "start_time": "2021-07-16T14:31:31.947372Z"
    }
   },
   "outputs": [
    {
     "name": "stdout",
     "output_type": "stream",
     "text": [
      "Criando uma conta\n"
     ]
    },
    {
     "data": {
      "text/plain": [
       "<__main__.Conta at 0x1af35ddfd08>"
      ]
     },
     "execution_count": 62,
     "metadata": {},
     "output_type": "execute_result"
    }
   ],
   "source": [
    "contas[17]"
   ]
  },
  {
   "cell_type": "code",
   "execution_count": 63,
   "metadata": {
    "ExecuteTime": {
     "end_time": "2021-07-16T14:31:32.008333Z",
     "start_time": "2021-07-16T14:31:31.999341Z"
    },
    "scrolled": true
   },
   "outputs": [
    {
     "data": {
      "text/plain": [
       "<__main__.Conta at 0x1af35de9048>"
      ]
     },
     "execution_count": 63,
     "metadata": {},
     "output_type": "execute_result"
    }
   ],
   "source": [
    "contas[15]"
   ]
  },
  {
   "cell_type": "code",
   "execution_count": 64,
   "metadata": {
    "ExecuteTime": {
     "end_time": "2021-07-16T14:31:32.054308Z",
     "start_time": "2021-07-16T14:31:32.048311Z"
    }
   },
   "outputs": [
    {
     "data": {
      "text/plain": [
       "Counter({'bem': 1,\n",
       "         'vindo': 1,\n",
       "         'meu': 2,\n",
       "         'nome': 1,\n",
       "         'é': 1,\n",
       "         'guilherme': 1,\n",
       "         'eu': 1,\n",
       "         'gosto': 2,\n",
       "         'muito': 2,\n",
       "         'de': 2,\n",
       "         'nomes': 1,\n",
       "         'e': 2,\n",
       "         'tenho': 1,\n",
       "         'o': 1,\n",
       "         'cachorro': 3,\n",
       "         'do': 1})"
      ]
     },
     "execution_count": 64,
     "metadata": {},
     "output_type": "execute_result"
    }
   ],
   "source": [
    "from collections import Counter\n",
    "aparicoes = Counter(meu_texto.split())\n",
    "aparicoes"
   ]
  },
  {
   "cell_type": "code",
   "execution_count": 65,
   "metadata": {
    "ExecuteTime": {
     "end_time": "2021-07-16T14:31:32.116269Z",
     "start_time": "2021-07-16T14:31:32.098281Z"
    }
   },
   "outputs": [],
   "source": [
    "# https://docs.python.org/3/library/collections.html#"
   ]
  },
  {
   "cell_type": "code",
   "execution_count": 66,
   "metadata": {
    "ExecuteTime": {
     "end_time": "2021-07-16T14:31:32.163240Z",
     "start_time": "2021-07-16T14:31:32.148248Z"
    }
   },
   "outputs": [],
   "source": [
    "# https://docs.python.org/pt-br/3/tutorial/datastructures.html"
   ]
  },
  {
   "cell_type": "markdown",
   "metadata": {
    "ExecuteTime": {
     "end_time": "2021-07-15T20:43:40.403600Z",
     "start_time": "2021-07-15T20:43:40.391608Z"
    }
   },
   "source": [
    "##  Colocando tudo em prática"
   ]
  },
  {
   "cell_type": "markdown",
   "metadata": {},
   "source": [
    "### Testando o uso de diversas coleções"
   ]
  },
  {
   "cell_type": "code",
   "execution_count": 67,
   "metadata": {
    "ExecuteTime": {
     "end_time": "2021-07-16T14:31:33.236084Z",
     "start_time": "2021-07-16T14:31:33.225094Z"
    }
   },
   "outputs": [],
   "source": [
    "texto1 = \"\"\"\n",
    "Para começar a fazer vendas online, uma empresa que fabrica adesivos criou uma página para pré cadastro de cartão de crédito que contém campos como nome, idade, endereço, CPF entre outros.\n",
    "\n",
    "O problema é que alguns cadastros não possuem um formato de CPF válido, isso porque o campo não possui nenhuma validação. Ou seja, o campo está aceitando não só números como letras e outros tipos de caractere.\n",
    "\n",
    "O que vamos fazer é encontrar uma maneira de ajudar o usuário de forma mais clara possível a preencher o cadastro e garantir a validação no front-end antes que os dados sejam enviados para o back-end.\n",
    "\n",
    "\n",
    "\n",
    "Como podemos notar não temos nenhuma validação, então fica confuso se devemos ou não colocar ponto ou traço no CPF e pode acontecer do usuário colocar outros caracteres no campo sem querer.\n",
    "\n",
    "Para isso evitar que isso ocorra vamos usar o atributo pattern do HTML5 que nos permite fazer uso das famosas expressões regulares que nada mais são que padrões utilizados para selecionar caracteres em uma string.\n",
    "\n",
    "Na nossa verificação vamos usar a lista [0-9], esse padrão indica que queremos os números de 0 até 9 e o intervalo {11}, indicando que temos que ter um número de 11 dígitos no nosso campo.\n",
    "\n",
    "Com a adição do pattern nosso campo de CPF ficou da seguinte maneira:\n",
    "\n",
    "\n",
    "\n",
    "Com a ajuda do pattern e das expressões regulares conseguimos resolver uma parte da tarefa, agora o que precisamos fazer encontrar uma maneira de formatar o CPF no padrão que precisamos enviar ao back-end.\n",
    "\n",
    "Mais um pouco de Regex\n",
    "Para começar vamos criar uma função que vai ser responsável por formatar o CPF. Dentro dessa função vamos ter as variáveis :\n",
    "\n",
    "elementoAlvo: responsável pelo parâmetro que vai ser passado na função\n",
    "cpfAtual: responsável por capturar os números do CPF digitados\n",
    "cpfAtualizado: responsável por receber o CPF formatado.\n",
    "\"\"\""
   ]
  },
  {
   "cell_type": "code",
   "execution_count": 68,
   "metadata": {
    "ExecuteTime": {
     "end_time": "2021-07-16T14:31:33.314038Z",
     "start_time": "2021-07-16T14:31:33.294050Z"
    }
   },
   "outputs": [],
   "source": [
    "texto2 = \"\"\"\n",
    "Vamos imaginar uma empresa como o Nubank, seu nome é ByteBank. A primeira vista ela vende cartões de crédito e possui uma estratégia de marketing de conteúdo para seus clientes (Business to Consumer, B2C).\n",
    "\n",
    "Agora ela está lançando um novo cartão focado em empresas e quer criar uma estratégia de marketing de conteúdo para outras empresas (business to business, B2B).\n",
    "\n",
    "Como eles podem criar essa estratégia? É possível utilizar ideias e ferramentas do marketing de conteúdo B2C para o B2B?\n",
    "\n",
    "No marketing de conteúdo criado para B2C da ByteBank é muito enfatizado que as principais vantagens da empresa são:\n",
    "\n",
    "saber o limite na hora;\n",
    "não pagar qualquer tarifa e\n",
    "não ter que lidar com burocracia na hora de fazer o cartão.\n",
    "Então, todo o plano é focado em criar conteúdos sobre questões relacionadas ao mundo financeiro, para mostrar que a empresa é especialista no assunto, transmitindo uma confiança aos clientes.\n",
    "\n",
    "A equipe de marketing escreveu um texto no qual foram explicadas todas as taxas do cartão de crédito. Depois de explicar com detalhes o que é cada taxa, foi mostrado o porquê do cartão dessa empresa não cobrar nenhuma delas.\n",
    "\n",
    "Para mostrar na prática o quanto o consumidor economizaria, eles deram como um exemplo que mostram o que pode ser comprado com o dinheiro economizado em tarifas do cartão. Veja como ficou o texto:\n",
    "\n",
    "Se a tarifa é de 30 reais por mês, depois de um ano: 30 (tarifa) * 12 (meses) = 360, você gasta R$ 360,00 só em tarifas! Não seria muito melhor comprar um Kindle ou dois jogos para Playstation 4 ou, até mesmo, ir uma vez por mês ao cinema (e pagando inteira) com esse dinheiro em vez de pagá-lo em tarifas?\n",
    "\n",
    "Será que se pode fazer a mesma coisa para o B2B, já que não existem tarifas para empresas também?\n",
    "\n",
    "As empresas que querem comprar um produto precisam avaliar muito bem toda a compra, sempre se perguntando se aquele produto realmente compensa para ela, principalmente a longo prazo.\n",
    "\n",
    "Então, e se fosse dito coisas que a empresa poderia fazer com o dinheiro que também vão trazer um retorno financeiro, ao contrário das taxas dos bancos? Como fazer pesquisas com usuários, desenvolver novos produtos, treinar pessoas para marketing, entre outras coisas?\n",
    "\n",
    "Pensando nessas diferenças, utilizamos o mesmo exemplo: quanto seria economizado por ano pela empresa cliente. Porém, no texto inteiro, queremos também mostrar dicas de como ela pode poupar, de diversas maneiras, mesmo usando um cartão de crédito. Então, o exemplo de economia no texto ficou assim:\n",
    "\n",
    "Pensando que a tarifa para empresas é mais barata que para pessoas físicas, ou seja, de 30 reais, passa a ser 10 reais por cartão para cada colaborador, e dez cartões serão feitos, cada um pertencendo a colaborador, depois de um ano, serão pagos: 10 (de tarifa) * 10 (quantidade de cartões) * 12 (meses do ano) = 1200.\n",
    "\n",
    "Assim, a organização gastaria R$ 1.200,00 para manter os cartões durante esse período. Agora, se os cartões não possuem tarifa nenhuma, em vez de pagar esse valor, a empresa economizará R$1.200,00.\n",
    "\n",
    "Agora, com essa economia, você poderia investir em treinamentos ou eventos, que, após um tempo, poderiam aumentar ainda mais o retorno da empresa.\n",
    "\n",
    "Foi usada uma linguagem mais formal do que a B2C porque quando estamos lidando com empresas temos que ser mais práticos e mostrar exatamente o que a empresa ganha, e, no caso, até como poderia ganhar mais depois.\n",
    "\n",
    "Além dessa mudança na linguagem, tivemos ideias diferentes de conteúdo. No B2C foram apresentados conhecimentos a respeito de cada taxa, para que a pessoa entenda o que está pagando e confie em empresas que não cobra as taxas.\n",
    "\n",
    "Agora para B2B foram apresentadas formas para economizar no cartão, pois, muitas vezes, os empresários sabem o que é cada taxa do cartão e tem que utilizá-lo mesmo assim. Então, mostramos como ele pode economizar e, uma dessas formas, é usar o cartão da ByteBank.\n",
    "\n",
    "Nesse mesmo texto para B2B também acrescentamos o conteúdo de outra vantagem do cartão: poder determinar um limite de gastos para cada categoria nos cartões dos funcionários da empresa.\n",
    "\n",
    "Dessa forma, os funcionários não podem gastar mais do que o determinado e, assim, a empresa consegue economizar e planejar os gastos e não extrapolar com compras dos funcionários.\n",
    "\n",
    "O foco da comunicação B2B que utilizamos foi dar dicas para não cometer erros e economizar mais, para que a empresa perceba que utilizar o cartão é vantagem.\n",
    "\n",
    "E caso a sua empresa seja diferente da ByteBank, seja só B2B e não tenha nenhum plano de comunicação focado para B2C para se basear?\n",
    "\n",
    "Existem diversas empresas B2B:\n",
    "\n",
    "as que vendem tanto para B2B quanto para B2C, como a ByteBank;\n",
    "as que vendem para ambos os consumidores, mas possuem um foco maior no B2B, como a Marmotex, que tem como serviço entrega de marmitas e entregam tanto para consumidores quanto empresas, mas possuem um foco maior em organizações e catering para eventos, ou seja, B2B\n",
    "as empresas somente B2B, como as de agências de publicidade.\n",
    "Cada uma das empresas que são B2B possui um produto e um serviço para mostrar.\n",
    "\n",
    "Então, caso você trabalhe em uma empresa que não possui um plano de marketing de conteúdo para B2C para se basear, é só seguir a ideia do marketing de conteúdo, de passar informações relacionados a sua empresa, tornando-a uma autoridade no assunto. E, além disso, mostrar maneiras que o seu produto e/ou serviço pode ajudar a empresa em determinado tema.\n",
    "\n",
    "No B2B, como no marketing de conteúdo focado no B2C, é importante frisar a importância e a relevância do produto e/ou serviço para o cliente. E, melhor, a longo prazo.\n",
    "\n",
    "A empresa cliente precisa entender e saber que a vantagem trazida pelo produto será duradoura. Pois o processo de compra B2B é mais longo justamente porque há muito em jogo e muitas pessoas envolvidas.\n",
    "\n",
    "Mudar de produto ou serviço é trabalhoso e pode causar prejuízo para a empresa, assim, eles buscam e precisam de garantias de que a solução funcionará por muito tempo.\n",
    "\n",
    "Assim, como no marketing B2C, os tipos de conteúdo devem se atentar aos clientes em cada fase do funil de marketing de conteúdo para trazer o conteúdo certo para a empresa em cada momento da obtenção do cartão.\n",
    "\n",
    "Para isso, a Bytebank utilizou dados, números, infográficos e mostrou com exemplos práticos maneiras de ajudar a contratante. Também escreveu conteúdos com histórias de empresas – os chamados cases de sucesso – que obtiveram lucro ou sucesso com o produto/serviço.\n",
    "\n",
    "Além disso, apresentou novidades e dicas tanto da sua empresa, que passou a fornecer uma conta para pessoas físicas e jurídicas, quanto do segmento dela, com informações que podem ser úteis ao cliente do setor financeiro.\n",
    "\n",
    "Como vimos, as principais diferenças entre os conteúdos B2C para o B2B são a linguagem, que deve ser mais formal se for B2B e apelar para o emocional se for B2C.\n",
    "\n",
    "No B2B você estará lidando com pessoas que tomam decisões nas empresas, então deverá mostrar como o produto pode ajudar a empresa, de preferência a longo prazo.\n",
    "\n",
    "Fora isso, o tipo de conteúdo pode ser o mesmo do marketing de conteúdo B2C. Passando desde textos sobre novidades, inovações e dicas na área, até infográficos com dados de pesquisas, vídeos, áudios de podcast, imagens e publicações nas redes sociais.\n",
    "\n",
    "Também, para conteúdo B2B, é muito comum encontrar whitepapers, grupos de usuários, meetups, cases de sucesso, trial gratuito, e até mesmo vídeos ou campanhas e posts de marketing com influenciadores.\n",
    "\"\"\""
   ]
  },
  {
   "cell_type": "code",
   "execution_count": 69,
   "metadata": {
    "ExecuteTime": {
     "end_time": "2021-07-16T14:31:33.377998Z",
     "start_time": "2021-07-16T14:31:33.358010Z"
    }
   },
   "outputs": [
    {
     "data": {
      "text/plain": [
       "Counter({'\\n': 27,\n",
       "         'p': 59,\n",
       "         'a': 175,\n",
       "         'r': 123,\n",
       "         ' ': 294,\n",
       "         'c': 65,\n",
       "         'o': 172,\n",
       "         'm': 66,\n",
       "         'e': 158,\n",
       "         'ç': 12,\n",
       "         'f': 30,\n",
       "         'z': 6,\n",
       "         'v': 28,\n",
       "         'n': 76,\n",
       "         'd': 62,\n",
       "         's': 116,\n",
       "         'l': 29,\n",
       "         'i': 59,\n",
       "         ',': 10,\n",
       "         'u': 65,\n",
       "         'q': 19,\n",
       "         'b': 6,\n",
       "         'á': 10,\n",
       "         'g': 12,\n",
       "         'é': 6,\n",
       "         't': 62,\n",
       "         'ã': 18,\n",
       "         '.': 10,\n",
       "         'h': 4,\n",
       "         'j': 4,\n",
       "         'ó': 1,\n",
       "         'ú': 4,\n",
       "         'í': 2,\n",
       "         '-': 4,\n",
       "         'k': 2,\n",
       "         '5': 1,\n",
       "         'x': 3,\n",
       "         'õ': 3,\n",
       "         '[': 1,\n",
       "         '0': 2,\n",
       "         '9': 2,\n",
       "         ']': 1,\n",
       "         '{': 1,\n",
       "         '1': 4,\n",
       "         '}': 1,\n",
       "         ':': 5,\n",
       "         'â': 1})"
      ]
     },
     "execution_count": 69,
     "metadata": {},
     "output_type": "execute_result"
    }
   ],
   "source": [
    "Counter(texto1.lower())"
   ]
  },
  {
   "cell_type": "code",
   "execution_count": 70,
   "metadata": {
    "ExecuteTime": {
     "end_time": "2021-07-16T14:31:33.423969Z",
     "start_time": "2021-07-16T14:31:33.408978Z"
    }
   },
   "outputs": [
    {
     "data": {
      "text/plain": [
       "Counter({'\\n': 76,\n",
       "         'v': 53,\n",
       "         'a': 730,\n",
       "         'm': 330,\n",
       "         'o': 633,\n",
       "         's': 499,\n",
       "         ' ': 1207,\n",
       "         'i': 296,\n",
       "         'g': 67,\n",
       "         'n': 290,\n",
       "         'r': 427,\n",
       "         'u': 209,\n",
       "         'e': 697,\n",
       "         'p': 214,\n",
       "         'c': 230,\n",
       "         'b': 97,\n",
       "         'k': 21,\n",
       "         ',': 107,\n",
       "         'é': 36,\n",
       "         'y': 7,\n",
       "         't': 297,\n",
       "         '.': 43,\n",
       "         'l': 88,\n",
       "         'd': 268,\n",
       "         'õ': 13,\n",
       "         'ú': 20,\n",
       "         '(': 8,\n",
       "         '2': 37,\n",
       "         ')': 8,\n",
       "         'á': 26,\n",
       "         'ç': 21,\n",
       "         'ã': 42,\n",
       "         'f': 68,\n",
       "         'q': 60,\n",
       "         '?': 7,\n",
       "         'í': 8,\n",
       "         'z': 33,\n",
       "         ':': 8,\n",
       "         'h': 22,\n",
       "         ';': 2,\n",
       "         'x': 23,\n",
       "         'ê': 9,\n",
       "         'j': 15,\n",
       "         '3': 5,\n",
       "         '0': 20,\n",
       "         '*': 3,\n",
       "         '1': 8,\n",
       "         '=': 2,\n",
       "         '6': 2,\n",
       "         '$': 3,\n",
       "         'ó': 5,\n",
       "         '!': 1,\n",
       "         '4': 1,\n",
       "         '-': 3,\n",
       "         '/': 3,\n",
       "         'â': 2,\n",
       "         '–': 2,\n",
       "         'w': 1})"
      ]
     },
     "execution_count": 70,
     "metadata": {},
     "output_type": "execute_result"
    }
   ],
   "source": [
    "Counter(texto2.lower())"
   ]
  },
  {
   "cell_type": "code",
   "execution_count": 71,
   "metadata": {
    "ExecuteTime": {
     "end_time": "2021-07-16T14:31:33.485931Z",
     "start_time": "2021-07-16T14:31:33.477936Z"
    }
   },
   "outputs": [],
   "source": [
    "def analisa_frequencia_de_letras(texto):\n",
    "    aparicoes = Counter(texto.lower())\n",
    "    total_de_caracteres = sum(aparicoes.values())\n",
    "\n",
    "    proporcoes = [(letra, frequencia / total_de_caracteres) for letra, frequencia in aparicoes.items()]\n",
    "    proporcoes = Counter(dict(proporcoes))\n",
    "    mais_comuns = proporcoes.most_common(10)\n",
    "    for caracter, proporcao in mais_comuns:\n",
    "        print(f\"{caracter} => {proporcao * 100:.2f}\")\n",
    "\n"
   ]
  },
  {
   "cell_type": "code",
   "execution_count": 72,
   "metadata": {
    "ExecuteTime": {
     "end_time": "2021-07-16T14:31:33.549892Z",
     "start_time": "2021-07-16T14:31:33.530904Z"
    }
   },
   "outputs": [
    {
     "name": "stdout",
     "output_type": "stream",
     "text": [
      "  => 16.14\n",
      "a => 9.61\n",
      "o => 9.45\n",
      "e => 8.68\n",
      "r => 6.75\n",
      "s => 6.37\n",
      "n => 4.17\n",
      "m => 3.62\n",
      "c => 3.57\n",
      "u => 3.57\n"
     ]
    }
   ],
   "source": [
    "analisa_frequencia_de_letras(texto1)\n"
   ]
  },
  {
   "cell_type": "code",
   "execution_count": 73,
   "metadata": {
    "ExecuteTime": {
     "end_time": "2021-07-16T14:31:33.595863Z",
     "start_time": "2021-07-16T14:31:33.580873Z"
    }
   },
   "outputs": [
    {
     "name": "stdout",
     "output_type": "stream",
     "text": [
      "  => 16.28\n",
      "a => 9.85\n",
      "e => 9.40\n",
      "o => 8.54\n",
      "s => 6.73\n",
      "r => 5.76\n",
      "m => 4.45\n",
      "t => 4.01\n",
      "i => 3.99\n",
      "n => 3.91\n"
     ]
    }
   ],
   "source": [
    "analisa_frequencia_de_letras(texto2)"
   ]
  },
  {
   "cell_type": "markdown",
   "metadata": {
    "ExecuteTime": {
     "end_time": "2021-07-15T21:12:59.707036Z",
     "start_time": "2021-07-15T21:12:59.690047Z"
    }
   },
   "source": [
    "# Python: Saiba o que são iteradores"
   ]
  },
  {
   "cell_type": "code",
   "execution_count": 74,
   "metadata": {
    "ExecuteTime": {
     "end_time": "2021-07-16T14:31:34.163023Z",
     "start_time": "2021-07-16T14:31:34.147034Z"
    }
   },
   "outputs": [],
   "source": [
    "# https://www.alura.com.br/artigos/o-que-sao-iteradores-no-python"
   ]
  },
  {
   "cell_type": "markdown",
   "metadata": {},
   "source": [
    "## Interadores - Iterators  "
   ]
  },
  {
   "cell_type": "code",
   "execution_count": 75,
   "metadata": {
    "ExecuteTime": {
     "end_time": "2021-07-16T14:31:34.755161Z",
     "start_time": "2021-07-16T14:31:34.745170Z"
    }
   },
   "outputs": [],
   "source": [
    "# iterador: é um objeto ou rotina que permite percorrer, atraversar um container (coleção de elem) , um objeto interável.\n",
    "# iterável: é um objeto que se repedete, coleção da dados."
   ]
  },
  {
   "cell_type": "code",
   "execution_count": 76,
   "metadata": {
    "ExecuteTime": {
     "end_time": "2021-07-16T14:31:34.817123Z",
     "start_time": "2021-07-16T14:31:34.809130Z"
    }
   },
   "outputs": [],
   "source": [
    "# O protocolo Iterator facilita muito a criação de um objeto iterável.\n",
    "\n",
    "# Para criá-lo, codificamos uma classe e basta que ela implemente os seguintes métodos:\n",
    "\n",
    "# __iter__: Esse métodos deve retornar o próprio objeto (self) para ser utilizado em loops com for e in.\n",
    "    \n",
    "# __next__: Esse método deve retornar o próximo valor da iteração. Caso a condição de para seja satisfeita, ou seja, quando não houver mais objetos a iterar, ela deve lançar o erro StopIteration."
   ]
  },
  {
   "cell_type": "code",
   "execution_count": 77,
   "metadata": {
    "ExecuteTime": {
     "end_time": "2021-07-16T14:31:34.881084Z",
     "start_time": "2021-07-16T14:31:34.864095Z"
    }
   },
   "outputs": [],
   "source": [
    "import os"
   ]
  },
  {
   "cell_type": "code",
   "execution_count": 78,
   "metadata": {
    "ExecuteTime": {
     "end_time": "2021-07-16T14:31:34.929054Z",
     "start_time": "2021-07-16T14:31:34.915064Z"
    }
   },
   "outputs": [
    {
     "data": {
      "text/plain": [
       "'C:\\\\Users\\\\alexsandro.ignacio\\\\OneDrive - WCA Soluções de Inteligência Comercial\\\\Documentos\\\\Docs\\\\Git\\\\python_alura\\\\Python parte 06 Collections parte 2 Conjuntos e dicionários'"
      ]
     },
     "execution_count": 78,
     "metadata": {},
     "output_type": "execute_result"
    }
   ],
   "source": [
    "current_path = os.getcwd()\n",
    "current_path"
   ]
  },
  {
   "cell_type": "code",
   "execution_count": 79,
   "metadata": {
    "ExecuteTime": {
     "end_time": "2021-07-16T14:31:34.975024Z",
     "start_time": "2021-07-16T14:31:34.969031Z"
    },
    "scrolled": true
   },
   "outputs": [
    {
     "data": {
      "text/plain": [
       "['http://instagram.com\\n', 'http://google.com\\n']"
      ]
     },
     "execution_count": 79,
     "metadata": {},
     "output_type": "execute_result"
    }
   ],
   "source": [
    "#registro = open('acesso.log', 'r') \n",
    "registro = open(current_path + '\\\\acesso.log', 'r')\n",
    "sites_sem_https = [url for url in registro if url.startswith('http://')]\n",
    "sites_sem_https"
   ]
  },
  {
   "cell_type": "code",
   "execution_count": 80,
   "metadata": {
    "ExecuteTime": {
     "end_time": "2021-07-16T14:31:35.035988Z",
     "start_time": "2021-07-16T14:31:35.028993Z"
    }
   },
   "outputs": [
    {
     "name": "stdout",
     "output_type": "stream",
     "text": [
      "http://instagram.com\n",
      "\n",
      "http://google.com\n",
      "\n"
     ]
    }
   ],
   "source": [
    "class IteradorHttp():\n",
    "    def __init__(self):\n",
    "        self.registro = open('acesso.log', 'r')\n",
    "        self.linha_atual = ''\n",
    "    def __iter__(self):\n",
    "        return self\n",
    "    def __next__(self):\n",
    "        self.linha_atual = self.registro.readline()\n",
    "        while self.linha_atual and not self.linha_atual.startswith('http://'):\n",
    "            self.linha_atual = self.registro.readline()\n",
    "        if self.linha_atual:\n",
    "            return self.linha_atual\n",
    "        raise StopIteration\n",
    "\n",
    "iterador = IteradorHttp()\n",
    "print(next(iterador))\n",
    "print(next(iterador))"
   ]
  },
  {
   "cell_type": "code",
   "execution_count": 81,
   "metadata": {
    "ExecuteTime": {
     "end_time": "2021-07-16T14:31:35.098948Z",
     "start_time": "2021-07-16T14:31:35.085958Z"
    }
   },
   "outputs": [
    {
     "name": "stdout",
     "output_type": "stream",
     "text": [
      "Fim da Interação\n"
     ]
    }
   ],
   "source": [
    "print(next(iterador, 'Fim da Interação'))"
   ]
  },
  {
   "cell_type": "code",
   "execution_count": 82,
   "metadata": {
    "ExecuteTime": {
     "end_time": "2021-07-16T14:31:35.159911Z",
     "start_time": "2021-07-16T14:31:35.139925Z"
    }
   },
   "outputs": [
    {
     "name": "stdout",
     "output_type": "stream",
     "text": [
      "http://instagram.com\n",
      "\n",
      "http://google.com\n",
      "\n"
     ]
    }
   ],
   "source": [
    "iterador = IteradorHttp()\n",
    "for url in iterador:\n",
    "    print(url)"
   ]
  },
  {
   "cell_type": "code",
   "execution_count": 83,
   "metadata": {
    "ExecuteTime": {
     "end_time": "2021-07-16T14:31:35.207392Z",
     "start_time": "2021-07-16T14:31:35.196404Z"
    }
   },
   "outputs": [],
   "source": [
    "# A sequência de Fibonacci é uma sequência de números inteiros onde um número, após os dois primeiros números (que são 0 e 1), é a soma dos últimos dois. Assim:\n",
    "\n",
    "# 0, 1, 1, 2, 3, 5, 8, 13, 21,…"
   ]
  },
  {
   "cell_type": "code",
   "execution_count": 84,
   "metadata": {
    "ExecuteTime": {
     "end_time": "2021-07-16T14:31:35.268354Z",
     "start_time": "2021-07-16T14:31:35.259362Z"
    }
   },
   "outputs": [
    {
     "name": "stdout",
     "output_type": "stream",
     "text": [
      "Sequencia: 0\n",
      "Sequencia: 1\n",
      "Sequencia: 1\n",
      "Sequencia: 2\n",
      "Sequencia: 3\n",
      "Sequencia: 5\n",
      "Sequencia: 8\n",
      "Sequencia: 13\n",
      "Sequencia: 21\n",
      "Sequencia: 34\n",
      "Sequencia: 55\n",
      "Sequencia: 89\n",
      "Sequencia: 144\n",
      "Sequencia: 233\n",
      "Sequencia: 377\n",
      "Sequencia: 610\n",
      "Sequencia: 987\n",
      "Sequencia: 1597\n",
      "Sequencia: 2584\n",
      "Sequencia: 4181\n",
      "Sequencia: 6765\n",
      "Sequencia: 10946\n",
      "Sequencia: 17711\n",
      "Sequencia: 28657\n",
      "Sequencia: 46368\n",
      "Sequencia: 75025\n",
      "Sequencia: 121393\n",
      "Sequencia: 196418\n",
      "Sequencia: 317811\n",
      "Sequencia: 514229\n",
      "Sequencia: 832040\n"
     ]
    }
   ],
   "source": [
    "class Fibonacci:\n",
    "  def __init__(self, maximo=1000000):\n",
    "    # Inicializa os dois primeiros numeros\n",
    "    self.elemento_atual, self.proximo_elemento = 0, 1\n",
    "    self.maximo = maximo\n",
    "\n",
    "  def __iter__(self):\n",
    "    # Retorna o objeto iterável (ele próprio: self)\n",
    "    return self\n",
    "\n",
    "  def __next__(self):\n",
    "    # Fim da iteração, raise StopIteration\n",
    "    if self.elemento_atual > self.maximo:\n",
    "      raise StopIteration\n",
    "\n",
    "    # Salva o valor a ser retornado\n",
    "    valor_de_retorno = self.elemento_atual\n",
    "\n",
    "    # Atualiza o próximo elemento da sequencia\n",
    "    self.elemento_atual, self.proximo_elemento = self.proximo_elemento, self.elemento_atual + self.proximo_elemento\n",
    "\n",
    "    return valor_de_retorno\n",
    "        \n",
    "# Executa nosso código\n",
    "if __name__ == '__main__':\n",
    "  # Cria nosso objeto iterável\n",
    "  objeto_fibonacci = Fibonacci(maximo=1000000)\n",
    "\n",
    "  # Itera nossa sequencia\n",
    "  for fibonacci in objeto_fibonacci:\n",
    "    print(\"Sequencia: {}\".format(fibonacci))"
   ]
  },
  {
   "cell_type": "code",
   "execution_count": 85,
   "metadata": {
    "ExecuteTime": {
     "end_time": "2021-07-16T14:31:35.331315Z",
     "start_time": "2021-07-16T14:31:35.322325Z"
    }
   },
   "outputs": [],
   "source": [
    "# No código acima:\n",
    "\n",
    "# Inicializamos o elemento atual, o próximo elemento e o valor máximo da nossa sequência no construtor __init__.\n",
    "\n",
    "# Retornamos self no método __iter__, conforme citado lá em cima.\n",
    "\n",
    "# No método __next__, primeiro verificamos se a condição de parada foi satisfeita (caso positivo, lançamos a exceção StopIteration). Em seguida, atualizamos os valores atual e próximo para iteração seguinte, e retornamos o valor de retorno da iteração atual."
   ]
  },
  {
   "cell_type": "markdown",
   "metadata": {},
   "source": [
    "## Geradores - Generators"
   ]
  },
  {
   "cell_type": "code",
   "execution_count": 86,
   "metadata": {
    "ExecuteTime": {
     "end_time": "2021-07-16T14:31:35.924953Z",
     "start_time": "2021-07-16T14:31:35.920959Z"
    }
   },
   "outputs": [],
   "source": [
    "# é uma forma mais simples e rápida de se implementar o protocolo Iterator, pois não necessita a criação de uma classe para tal. Para criar um Generator basta definir uma função e utilizar a palavra reservada yield, ao invés de return."
   ]
  },
  {
   "cell_type": "code",
   "execution_count": 87,
   "metadata": {
    "ExecuteTime": {
     "end_time": "2021-07-16T14:31:35.986917Z",
     "start_time": "2021-07-16T14:31:35.978922Z"
    }
   },
   "outputs": [
    {
     "name": "stdout",
     "output_type": "stream",
     "text": [
      "0\n",
      "1\n",
      "1\n",
      "2\n",
      "3\n",
      "5\n",
      "8\n",
      "13\n",
      "21\n",
      "34\n",
      "55\n",
      "89\n",
      "144\n",
      "233\n",
      "377\n",
      "610\n",
      "987\n",
      "1597\n",
      "2584\n",
      "4181\n",
      "6765\n",
      "10946\n",
      "17711\n",
      "28657\n",
      "46368\n",
      "75025\n",
      "121393\n",
      "196418\n",
      "317811\n",
      "514229\n",
      "832040\n"
     ]
    }
   ],
   "source": [
    "def fibonacci(maximo):\n",
    "  # Inicialização dos elementos\n",
    "  elemento_atual, proximo_elemento = 0, 1\n",
    "  \n",
    "  # Defina a condição de parada\n",
    "  while elemento_atual < maximo:\n",
    "    # Retorna o valor do elemento atual\n",
    "    yield elemento_atual\n",
    "\n",
    "    elemento_atual, proximo_elemento = \\\n",
    "        proximo_elemento, elemento_atual + proximo_elemento\n",
    "\n",
    "if __name__ == '__main__':\n",
    "  # Cria um generator de números fibonacci menor que 1 milhão\n",
    "  fibonacci_generator = fibonacci(1000000)\n",
    "\n",
    "  # Mostra na tela toda a sequencia\n",
    "  for numero_fibonacci in fibonacci_generator:\n",
    "    print(numero_fibonacci)"
   ]
  },
  {
   "cell_type": "code",
   "execution_count": 88,
   "metadata": {
    "ExecuteTime": {
     "end_time": "2021-07-16T14:31:36.050876Z",
     "start_time": "2021-07-16T14:31:36.039884Z"
    }
   },
   "outputs": [],
   "source": [
    "# Vamos entender melhor o fluxo de execução para fixar o entendimento:\n",
    "\n",
    "# Na primeira chamada à nossa função fibonacci(), o Python vai executar da linha 1 à linha 8 com elemento_atual = 0 e proximo_elemento = 1.\n",
    "\n",
    "# Como o generator salva o estado da função no momento do retorno (yield), a segunda execução não começará na linha 1, mas sim na linha subsequente ao yield, ou seja, a partir da linha 10. Em seguida continua a repetição dentro do while (linha 6), mas agora com o valor atualizado de elemento_atual, retorna em yield` e assim sucessivamente.\n",
    "\n",
    "# Diferente da implementação por classe, onde tivemos que lançar um erro StopIteration para sinalizar o fim da iteração, aqui o fim da execução é sinalizado, apenas, por não retornar um valor. Ou seja, a primeira vez que o código do nosso generator não retornar um valor, o Python entende que esse é o fim da iteração e finaliza o for/in da linha 18."
   ]
  },
  {
   "cell_type": "markdown",
   "metadata": {
    "ExecuteTime": {
     "end_time": "2021-07-16T14:15:39.503451Z",
     "start_time": "2021-07-16T14:15:39.491459Z"
    }
   },
   "source": [
    "## Lazy Evaluation"
   ]
  },
  {
   "cell_type": "code",
   "execution_count": 89,
   "metadata": {
    "ExecuteTime": {
     "end_time": "2021-07-16T14:31:36.659504Z",
     "start_time": "2021-07-16T14:31:36.654509Z"
    }
   },
   "outputs": [],
   "source": [
    "# Outro ponto importante para se ressaltar aqui, é o conceito de lazy evaluation (“avaliação preguiçosa” em português).\n",
    "\n",
    "# Iterators e Generators não computam todos os valores do seu loop quando são criados ou instanciados.\n",
    "\n",
    "# Eles computam sob demanda, isto é: APENAS quando pedimos o próximo valor da sequência.\n",
    "\n",
    "# Nos exemplos acima (com a classe Fibonacci e com a função fibonacci()), o Python não calculou a sequência inteira até o milionésimo número (maximo=1000000), no momento de sua criação.\n",
    "\n",
    "# O que ele fez foi calcular o primeiro número da sequência, aguardar o próximo ciclo do loop, calcular o segundo número, aguardar o próximo ciclo e assim sucessivamente, até que a condição de parada (elemento_atual < maximo) fosse alcançada.\n",
    "\n",
    "# Portanto, a cada iteração do loop nas linhas 19 e 20, nosso generator gera apenas um novo número, utilizando o passado e o atual, salvando assim, a preciosa memória da sua máquina.\n",
    "\n",
    "# Uma forma de se percebir isso, é chamando a função next() do próprio Python (built-in) diversas vezes."
   ]
  },
  {
   "cell_type": "code",
   "execution_count": 90,
   "metadata": {
    "ExecuteTime": {
     "end_time": "2021-07-16T14:31:36.722467Z",
     "start_time": "2021-07-16T14:31:36.709476Z"
    }
   },
   "outputs": [
    {
     "data": {
      "text/plain": [
       "0"
      ]
     },
     "execution_count": 90,
     "metadata": {},
     "output_type": "execute_result"
    }
   ],
   "source": [
    "# Cria um generator de números fibonacci menor que mil\n",
    "fibonacci_generator = fibonacci(1000)\n",
    "\n",
    "next(fibonacci_generator)"
   ]
  },
  {
   "cell_type": "code",
   "execution_count": 91,
   "metadata": {
    "ExecuteTime": {
     "end_time": "2021-07-16T14:31:36.769436Z",
     "start_time": "2021-07-16T14:31:36.761443Z"
    }
   },
   "outputs": [
    {
     "data": {
      "text/plain": [
       "1"
      ]
     },
     "execution_count": 91,
     "metadata": {},
     "output_type": "execute_result"
    }
   ],
   "source": [
    "next(fibonacci_generator)"
   ]
  },
  {
   "cell_type": "code",
   "execution_count": 92,
   "metadata": {
    "ExecuteTime": {
     "end_time": "2021-07-16T14:31:36.817406Z",
     "start_time": "2021-07-16T14:31:36.811412Z"
    }
   },
   "outputs": [
    {
     "data": {
      "text/plain": [
       "1"
      ]
     },
     "execution_count": 92,
     "metadata": {},
     "output_type": "execute_result"
    }
   ],
   "source": [
    "next(fibonacci_generator)"
   ]
  },
  {
   "cell_type": "code",
   "execution_count": 93,
   "metadata": {
    "ExecuteTime": {
     "end_time": "2021-07-16T14:31:36.865377Z",
     "start_time": "2021-07-16T14:31:36.860382Z"
    }
   },
   "outputs": [
    {
     "data": {
      "text/plain": [
       "2"
      ]
     },
     "execution_count": 93,
     "metadata": {},
     "output_type": "execute_result"
    }
   ],
   "source": [
    "next(fibonacci_generator)"
   ]
  },
  {
   "cell_type": "markdown",
   "metadata": {},
   "source": [
    "## Generators e Listas"
   ]
  },
  {
   "cell_type": "code",
   "execution_count": 94,
   "metadata": {
    "ExecuteTime": {
     "end_time": "2021-07-16T14:31:37.546491Z",
     "start_time": "2021-07-16T14:31:37.533500Z"
    }
   },
   "outputs": [],
   "source": [
    "# Por exemplo, como range é iterável, o código: list(range(5)) gera a seguinte saída:"
   ]
  },
  {
   "cell_type": "code",
   "execution_count": 95,
   "metadata": {
    "ExecuteTime": {
     "end_time": "2021-07-16T14:31:37.608454Z",
     "start_time": "2021-07-16T14:31:37.596460Z"
    }
   },
   "outputs": [
    {
     "data": {
      "text/plain": [
       "[0, 1, 2, 3, 4]"
      ]
     },
     "execution_count": 95,
     "metadata": {},
     "output_type": "execute_result"
    }
   ],
   "source": [
    "list(range(5))"
   ]
  },
  {
   "cell_type": "code",
   "execution_count": 96,
   "metadata": {
    "ExecuteTime": {
     "end_time": "2021-07-16T14:31:37.686404Z",
     "start_time": "2021-07-16T14:31:37.671416Z"
    }
   },
   "outputs": [
    {
     "data": {
      "text/plain": [
       "[0, 1, 1, 2, 3, 5, 8, 13, 21, 34, 55, 89, 144, 233, 377, 610, 987]"
      ]
     },
     "execution_count": 96,
     "metadata": {},
     "output_type": "execute_result"
    }
   ],
   "source": [
    "list(fibonacci(1000))"
   ]
  },
  {
   "cell_type": "code",
   "execution_count": 97,
   "metadata": {
    "ExecuteTime": {
     "end_time": "2021-07-16T14:31:37.733373Z",
     "start_time": "2021-07-16T14:31:37.725381Z"
    }
   },
   "outputs": [],
   "source": [
    "# utilizando List Comprehensions "
   ]
  },
  {
   "cell_type": "code",
   "execution_count": 98,
   "metadata": {
    "ExecuteTime": {
     "end_time": "2021-07-16T14:31:37.780346Z",
     "start_time": "2021-07-16T14:31:37.774349Z"
    }
   },
   "outputs": [
    {
     "name": "stdout",
     "output_type": "stream",
     "text": [
      "Número ímpares são: [1, 1, 3, 5, 13, 21, 55, 89, 233, 377, 987, 1597, 4181, 6765, 17711, 28657, 75025]\n"
     ]
    }
   ],
   "source": [
    "fibonacci_impares = [x for x in fibonacci(100000) if x%2 != 0]\n",
    "print(\"Número ímpares são: {0}\".format(fibonacci_impares))"
   ]
  },
  {
   "cell_type": "code",
   "execution_count": 99,
   "metadata": {
    "ExecuteTime": {
     "end_time": "2021-07-16T14:31:37.843308Z",
     "start_time": "2021-07-16T14:31:37.826318Z"
    }
   },
   "outputs": [],
   "source": [
    "# A simple generator function\n",
    "def my_gen():\n",
    "    n = 1\n",
    "    print('This is printed first')\n",
    "    # Generator function contains yield statements\n",
    "    yield n\n",
    "\n",
    "    n += 1\n",
    "    print('This is printed second')\n",
    "    yield n\n",
    "\n",
    "    n += 1\n",
    "    print('This is printed at last')\n",
    "    yield n"
   ]
  },
  {
   "cell_type": "code",
   "execution_count": 100,
   "metadata": {
    "ExecuteTime": {
     "end_time": "2021-07-16T14:31:37.890277Z",
     "start_time": "2021-07-16T14:31:37.878295Z"
    }
   },
   "outputs": [],
   "source": [
    "generator = my_gen()"
   ]
  },
  {
   "cell_type": "code",
   "execution_count": 101,
   "metadata": {
    "ExecuteTime": {
     "end_time": "2021-07-16T14:31:37.938248Z",
     "start_time": "2021-07-16T14:31:37.927255Z"
    }
   },
   "outputs": [
    {
     "name": "stdout",
     "output_type": "stream",
     "text": [
      "This is printed first\n"
     ]
    },
    {
     "data": {
      "text/plain": [
       "1"
      ]
     },
     "execution_count": 101,
     "metadata": {},
     "output_type": "execute_result"
    }
   ],
   "source": [
    "next(generator)"
   ]
  },
  {
   "cell_type": "code",
   "execution_count": 102,
   "metadata": {
    "ExecuteTime": {
     "end_time": "2021-07-16T14:31:37.986218Z",
     "start_time": "2021-07-16T14:31:37.977224Z"
    }
   },
   "outputs": [
    {
     "name": "stdout",
     "output_type": "stream",
     "text": [
      "This is printed second\n"
     ]
    },
    {
     "data": {
      "text/plain": [
       "2"
      ]
     },
     "execution_count": 102,
     "metadata": {},
     "output_type": "execute_result"
    }
   ],
   "source": [
    "next(generator)"
   ]
  },
  {
   "cell_type": "code",
   "execution_count": 103,
   "metadata": {
    "ExecuteTime": {
     "end_time": "2021-07-16T14:31:38.034186Z",
     "start_time": "2021-07-16T14:31:38.025195Z"
    }
   },
   "outputs": [
    {
     "name": "stdout",
     "output_type": "stream",
     "text": [
      "This is printed at last\n"
     ]
    },
    {
     "data": {
      "text/plain": [
       "3"
      ]
     },
     "execution_count": 103,
     "metadata": {},
     "output_type": "execute_result"
    }
   ],
   "source": [
    "next(generator)"
   ]
  },
  {
   "cell_type": "code",
   "execution_count": 104,
   "metadata": {
    "ExecuteTime": {
     "end_time": "2021-07-16T14:31:38.080161Z",
     "start_time": "2021-07-16T14:31:38.074164Z"
    }
   },
   "outputs": [
    {
     "data": {
      "text/plain": [
       "' fim da chamada StopIteration '"
      ]
     },
     "execution_count": 104,
     "metadata": {},
     "output_type": "execute_result"
    }
   ],
   "source": [
    "next(generator,\" fim da chamada StopIteration \")"
   ]
  },
  {
   "cell_type": "code",
   "execution_count": 105,
   "metadata": {
    "ExecuteTime": {
     "end_time": "2021-07-16T14:31:38.143122Z",
     "start_time": "2021-07-16T14:31:38.127131Z"
    }
   },
   "outputs": [
    {
     "name": "stdout",
     "output_type": "stream",
     "text": [
      "This is printed first\n",
      "1\n",
      "This is printed second\n",
      "2\n",
      "This is printed at last\n",
      "3\n"
     ]
    }
   ],
   "source": [
    "# A simples função generator com laçõ for no final. O próprio laço termina a interação sem o StopInteratrion.\n",
    "\n",
    "def my_gen():\n",
    "    n = 1\n",
    "    print('This is printed first')\n",
    "    # Generator function contains yield statements\n",
    "    yield n\n",
    "\n",
    "    n += 1\n",
    "    print('This is printed second')\n",
    "    yield n\n",
    "\n",
    "    n += 1\n",
    "    print('This is printed at last')\n",
    "    yield n\n",
    "\n",
    "\n",
    "# Using for loop\n",
    "for item in my_gen():\n",
    "    print(item)"
   ]
  },
  {
   "cell_type": "code",
   "execution_count": 106,
   "metadata": {
    "ExecuteTime": {
     "end_time": "2021-07-16T14:31:38.190093Z",
     "start_time": "2021-07-16T14:31:38.179099Z"
    }
   },
   "outputs": [],
   "source": [
    "# Gerador que reverte uma string"
   ]
  },
  {
   "cell_type": "code",
   "execution_count": 107,
   "metadata": {
    "ExecuteTime": {
     "end_time": "2021-07-16T14:31:38.254053Z",
     "start_time": "2021-07-16T14:31:38.235064Z"
    }
   },
   "outputs": [
    {
     "name": "stdout",
     "output_type": "stream",
     "text": [
      "o\n",
      "l\n",
      "l\n",
      "e\n",
      "h\n"
     ]
    }
   ],
   "source": [
    "def rev_str(my_str):\n",
    "    length = len(my_str)\n",
    "    for i in range(length - 1, -1, -1):\n",
    "        yield my_str[i]\n",
    "\n",
    "\n",
    "# For loop to reverse the string\n",
    "for char in rev_str(\"hello\"):\n",
    "    print(char)"
   ]
  },
  {
   "cell_type": "code",
   "execution_count": 108,
   "metadata": {
    "ExecuteTime": {
     "end_time": "2021-07-16T14:31:38.301022Z",
     "start_time": "2021-07-16T14:31:38.290030Z"
    }
   },
   "outputs": [
    {
     "name": "stdout",
     "output_type": "stream",
     "text": [
      "[1, 9, 36, 100]\n",
      "<generator object <genexpr> at 0x000001AF35DF7E48>\n"
     ]
    }
   ],
   "source": [
    "# Initialize the list\n",
    "my_list = [1, 3, 6, 10]\n",
    "\n",
    "# square each term using list comprehension\n",
    "list_ = [x**2 for x in my_list]\n",
    "\n",
    "# same thing can be done using a generator expression\n",
    "# generator expressions are surrounded by parenthesis () cria uma especie de função anonima parecida com o lambda.\n",
    "\n",
    "generator = (x**2 for x in my_list)\n",
    "\n",
    "print(list_)\n",
    "print(generator)"
   ]
  },
  {
   "cell_type": "code",
   "execution_count": 109,
   "metadata": {
    "ExecuteTime": {
     "end_time": "2021-07-16T14:31:38.347992Z",
     "start_time": "2021-07-16T14:31:38.341998Z"
    }
   },
   "outputs": [],
   "source": [
    "my_list = [1, 3, 6, 10]\n",
    "a = (x**2 for x in my_list)"
   ]
  },
  {
   "cell_type": "code",
   "execution_count": 110,
   "metadata": {
    "ExecuteTime": {
     "end_time": "2021-07-16T14:31:38.425944Z",
     "start_time": "2021-07-16T14:31:38.404959Z"
    }
   },
   "outputs": [
    {
     "name": "stdout",
     "output_type": "stream",
     "text": [
      "1\n",
      "9\n",
      "36\n",
      "100\n"
     ]
    },
    {
     "data": {
      "text/plain": [
       "'StopIteration'"
      ]
     },
     "execution_count": 110,
     "metadata": {},
     "output_type": "execute_result"
    }
   ],
   "source": [
    "print(next(a))\n",
    "\n",
    "print(next(a))\n",
    "\n",
    "print(next(a))\n",
    "\n",
    "print(next(a))\n",
    "\n",
    "next(a, \"StopIteration\")"
   ]
  },
  {
   "cell_type": "code",
   "execution_count": 111,
   "metadata": {
    "ExecuteTime": {
     "end_time": "2021-07-16T14:31:38.473914Z",
     "start_time": "2021-07-16T14:31:38.454930Z"
    }
   },
   "outputs": [
    {
     "data": {
      "text/plain": [
       "146"
      ]
     },
     "execution_count": 111,
     "metadata": {},
     "output_type": "execute_result"
    }
   ],
   "source": [
    "sum(x**2 for x in my_list)"
   ]
  },
  {
   "cell_type": "code",
   "execution_count": 112,
   "metadata": {
    "ExecuteTime": {
     "end_time": "2021-07-16T14:31:38.521887Z",
     "start_time": "2021-07-16T14:31:38.505896Z"
    }
   },
   "outputs": [
    {
     "data": {
      "text/plain": [
       "100"
      ]
     },
     "execution_count": 112,
     "metadata": {},
     "output_type": "execute_result"
    }
   ],
   "source": [
    "max(x**2 for x in my_list)"
   ]
  },
  {
   "cell_type": "markdown",
   "metadata": {},
   "source": [
    "### Comparação entre um interator e Generator:"
   ]
  },
  {
   "cell_type": "code",
   "execution_count": 113,
   "metadata": {
    "ExecuteTime": {
     "end_time": "2021-07-16T14:31:39.153499Z",
     "start_time": "2021-07-16T14:31:39.145501Z"
    }
   },
   "outputs": [],
   "source": [
    "class PowTwoInterator:\n",
    "    def __init__(self, max=0):\n",
    "        self.n = 0\n",
    "        self.max = max\n",
    "\n",
    "    def __iter__(self):\n",
    "        return self\n",
    "\n",
    "    def __next__(self):\n",
    "        if self.n > self.max:\n",
    "            raise StopIteration\n",
    "\n",
    "        result = 2 ** self.n\n",
    "        self.n += 1\n",
    "        return result"
   ]
  },
  {
   "cell_type": "markdown",
   "metadata": {},
   "source": [
    "# VS"
   ]
  },
  {
   "cell_type": "code",
   "execution_count": 114,
   "metadata": {
    "ExecuteTime": {
     "end_time": "2021-07-16T14:31:39.806602Z",
     "start_time": "2021-07-16T14:31:39.795610Z"
    }
   },
   "outputs": [],
   "source": [
    "def PowTwoGenerator(max=0):\n",
    "    n = 0\n",
    "    while n < max:\n",
    "        yield 2 ** n\n",
    "        n += 1"
   ]
  },
  {
   "cell_type": "code",
   "execution_count": 115,
   "metadata": {
    "ExecuteTime": {
     "end_time": "2021-07-16T14:31:39.868563Z",
     "start_time": "2021-07-16T14:31:39.850573Z"
    }
   },
   "outputs": [],
   "source": [
    "# Generator verifica números pares:"
   ]
  },
  {
   "cell_type": "code",
   "execution_count": 116,
   "metadata": {
    "ExecuteTime": {
     "end_time": "2021-07-16T14:31:39.915532Z",
     "start_time": "2021-07-16T14:31:39.903541Z"
    }
   },
   "outputs": [],
   "source": [
    "def all_even():\n",
    "    n = 0\n",
    "    while True:\n",
    "        yield n\n",
    "        n += 2"
   ]
  },
  {
   "cell_type": "code",
   "execution_count": 117,
   "metadata": {
    "ExecuteTime": {
     "end_time": "2021-07-16T14:31:39.962505Z",
     "start_time": "2021-07-16T14:31:39.957508Z"
    }
   },
   "outputs": [],
   "source": [
    "# Generator verifica números finonacci:"
   ]
  },
  {
   "cell_type": "code",
   "execution_count": 118,
   "metadata": {
    "ExecuteTime": {
     "end_time": "2021-07-16T14:31:40.025465Z",
     "start_time": "2021-07-16T14:31:40.009476Z"
    }
   },
   "outputs": [
    {
     "name": "stdout",
     "output_type": "stream",
     "text": [
      "4895\n"
     ]
    }
   ],
   "source": [
    "def fibonacci_numbers(nums):\n",
    "    x, y = 0, 1\n",
    "    for _ in range(nums):\n",
    "        x, y = y, x+y\n",
    "        yield x\n",
    "\n",
    "def square(nums):\n",
    "    for num in nums:\n",
    "        yield num**2\n",
    "\n",
    "print(sum(square(fibonacci_numbers(10))))"
   ]
  }
 ],
 "metadata": {
  "hide_input": false,
  "kernelspec": {
   "display_name": "Python 3",
   "language": "python",
   "name": "python3"
  },
  "language_info": {
   "codemirror_mode": {
    "name": "ipython",
    "version": 3
   },
   "file_extension": ".py",
   "mimetype": "text/x-python",
   "name": "python",
   "nbconvert_exporter": "python",
   "pygments_lexer": "ipython3",
   "version": "3.7.5"
  },
  "latex_envs": {
   "LaTeX_envs_menu_present": true,
   "autoclose": false,
   "autocomplete": true,
   "bibliofile": "biblio.bib",
   "cite_by": "apalike",
   "current_citInitial": 1,
   "eqLabelWithNumbers": true,
   "eqNumInitial": 1,
   "hotkeys": {
    "equation": "Ctrl-E",
    "itemize": "Ctrl-I"
   },
   "labels_anchors": false,
   "latex_user_defs": false,
   "report_style_numbering": false,
   "user_envs_cfg": false
  },
  "nbTranslate": {
   "displayLangs": [
    "*"
   ],
   "hotkey": "alt-t",
   "langInMainMenu": true,
   "sourceLang": "en",
   "targetLang": "fr",
   "useGoogleTranslate": true
  },
  "toc": {
   "base_numbering": 1,
   "nav_menu": {},
   "number_sections": true,
   "sideBar": true,
   "skip_h1_title": false,
   "title_cell": "Table of Contents",
   "title_sidebar": "Contents",
   "toc_cell": false,
   "toc_position": {},
   "toc_section_display": true,
   "toc_window_display": false
  },
  "varInspector": {
   "cols": {
    "lenName": 16,
    "lenType": 16,
    "lenVar": 40
   },
   "kernels_config": {
    "python": {
     "delete_cmd_postfix": "",
     "delete_cmd_prefix": "del ",
     "library": "var_list.py",
     "varRefreshCmd": "print(var_dic_list())"
    },
    "r": {
     "delete_cmd_postfix": ") ",
     "delete_cmd_prefix": "rm(",
     "library": "var_list.r",
     "varRefreshCmd": "cat(var_dic_list()) "
    }
   },
   "types_to_exclude": [
    "module",
    "function",
    "builtin_function_or_method",
    "instance",
    "_Feature"
   ],
   "window_display": false
  }
 },
 "nbformat": 4,
 "nbformat_minor": 2
}
